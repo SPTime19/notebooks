{
 "cells": [
  {
   "cell_type": "markdown",
   "metadata": {},
   "source": [
    "# Word embeddings\n",
    "\n",
    "We will train a couple of word embedding models to generate numerical features to apply on other models.\n",
    "Specifically we will user word2vec and fasttext on gensim library"
   ]
  },
  {
   "cell_type": "code",
   "execution_count": 1,
   "metadata": {},
   "outputs": [
    {
     "name": "stdout",
     "output_type": "stream",
     "text": [
      "/home/lois/pojetos/ds4a/notebook\n"
     ]
    }
   ],
   "source": [
    "%cd .."
   ]
  },
  {
   "cell_type": "code",
   "execution_count": 2,
   "metadata": {},
   "outputs": [],
   "source": [
    "#%conda install gensim -y\n"
   ]
  },
  {
   "cell_type": "code",
   "execution_count": 3,
   "metadata": {},
   "outputs": [
    {
     "name": "stdout",
     "output_type": "stream",
     "text": [
      "We have a total of 51655 reviews!\n"
     ]
    }
   ],
   "source": [
    "from src.loading import load_dataset\n",
    "from src.cleaning import build_df_from_RA\n",
    "import pandas as pd\n",
    "import numpy as np\n",
    "import matplotlib.pyplot as plt\n",
    "import seaborn as sns\n",
    "import gensim\n",
    "import unicodedata\n",
    "\n",
    "\n",
    "df = build_df_from_RA(load_dataset(\"dataset\"))\n",
    "print(f\"We have a total of {df.shape[0]} reviews!\")"
   ]
  },
  {
   "cell_type": "code",
   "execution_count": 8,
   "metadata": {},
   "outputs": [],
   "source": [
    "import string\n",
    "import re\n",
    "\n",
    "def normalize_text(text):\n",
    "    \"\"\"\n",
    "    Strip accents and lower text string\n",
    "    :param text: (str) text to be cleaned\n",
    "    :return: (str) cleaned text\n",
    "    \"\"\"\n",
    "    text = strip_accents(text)\n",
    "    text = text.lower().strip()\n",
    "    text = text.translate(str.maketrans(\"\", \"\", string.punctuation))\n",
    "    return text\n",
    "\n",
    "\n",
    "def strip_accents(s):\n",
    "    return ''.join(c for c in unicodedata.normalize('NFD', s) if unicodedata.category(c) != 'Mn')\n",
    "\n",
    "\n",
    "def remove_numbers(text):\n",
    "    return re.sub(r'\\b[0-9]+\\b', '', text)\n",
    "\n",
    "\n",
    "texts = df.apply(lambda row: f\"{remove_numbers(normalize_text(row['title']))} {remove_numbers(normalize_text(row['description']))}\", axis=1)"
   ]
  },
  {
   "cell_type": "code",
   "execution_count": 9,
   "metadata": {},
   "outputs": [
    {
     "data": {
      "text/plain": [
       "array(['peas danificada na montagem comprei um guardaroupa na empresa citada acima e na montagem foi danificada a lateral e tambem duas portas estao com defeitofoi feita uma reclamacao pessoalmente ao vendedor e ele se comprometei em fazer as trocas das mesmas so que ja chegaram as peas em minha residencia a mais de tres meses e eu ja fui varias vezes na loja pra eles providenciar a troca das mesmas e nao estou tendo exito',\n",
       "       'fabrispuma jundiai faz o cliente de palhaco fiz uma compra de moveis pra cozinha na loja fabrispuma de jundiai no centro rua do rosario a vendedora e otima patricia fui atendida super bem tambem me atendeu nesta venda a gerente sabrina se nao me equivoco expliquei meu caso que precisava que nao demorassem na entrega e principalmente que nao demorassem com a montagem eu tinha preco melhor pela internete e a gerente mesmo me convenceu a comprar com a fabrispuma por que oferecem a montagem gratis eu fui clara que nao podia esperar muito pela montagem pois nao tem lugar pra guardar os moveis ta no meio da casa onde deixou o entregador ja deram duas datas de montagem e nao cumpriram meus pais sao idosos e com problemas de saude e eu nao moro com a minha mae estou aqui esperando eata montagem pois tem que tirar os moveis de dentro pra deixar espaco pro montador ontem sabado  uma funcionaria luciara me garantiu que viria o montador e nada e eu ha dias tentando falar com ele e nem atende o telefone enfim um inferno voce se mata pra comprar uma coisa que vc precisa e ainda tem que passar raiva preciso que montem meus moveis urgente e deixem ja de me fazer de editado pelo reclame aqui',\n",
       "       'produto com defeito mesa asturianogalcvidro com  cadeiras tres meses de compra no cartaoa mesa veio com defeito nos pes montador fes a ficha de pedido na minha frente e ate hj nada resolvido vinheram aqui na minha casa no dia  disendo q era a entrega dos pes da mesa e troca das cadeiras q tambem vinheram com defeito e nada foi feito a mesa setar super infaucanao pode fazer o minimo de forca q ela tomba pro lado como se fosse cair e as cadeiras todas molengas fizeram a troca de apenas uma cadeira foi feito o pedido de duas cadeiras pra trocafui ao medico nesse dia meu marido q recebeu a loja no dia  e ai chego em casa nada tinha sido feito nem a troca das cadeiras nem o pe da mesa foi entregue como a funcionaria katia avia me falado q entregariam os pes da mesa e apos seria marcado para o montador vir montarcinceramente aem de todo esse transtorno meu marido disse q a pessoa q veio na entrega olhou o pe da mesa e disse q era so um ajusteq nao precisaria de trocaum absurdose eu tivesse filho pequeno ia viver com medo de essa mesa cair em cima dele gracas a deus meus filhos sao grandestotalmente insatisfeita com a loja comprei em lojas pequenas produtos muito mais inferiores q o de vcs e nunca tive nenhum problema sem fala nas cadeiras de vcs q com apenas  meses de uso estao todas molengas comprei uma mesa muito mais inferio q essa de vcs numa lojinha dessas da mesma calcada da sul moveis duraram  anos sem ficarem como o produtos de vcs espero assistencia e compreencao da loja fabrispuma pq quando escolhir comprar com vcs alem de preco de custo pensei em qualidade mais infelizmente me encontro totalmente insatisfeita',\n",
       "       'fabrispuma deixando a desejar minha primeira reclamacao e sobre a venda de uma cozinha que veio sem os balcoes e a demora para a chegada dos mesmos o vendedor que nao pertence mais a empresa em sua incompetencia vendeu sem agora temos que aguardar muito mais tempo para termos a cozinha completa a segunda reclamacao e a venda de um produto que vem com muitos defeitos como o porta condimento que nao fecha direito por erro de projeto e a pia que nao entra no gabinete',\n",
       "       'demora para solucionar o problema boa tarde eu e meu marido compramos um guarda roupa modulado no dia  de dezembro fomos muito bem atendidos levamos todas a medidasquestionamos sobre a altura e o vendedor confirmou que daria pois ja tinha vendido um jogo no mesmo condominio  quando o moveis chegaram ja de cara notamos que nao ira servi ligamos na loja e nos informaram que deveriamos espera o montador verfica de fato nao coube ai comecou o nosso problema a loja majdou varios montadores para verificar depois de tanto custo trocaram o modulado para o nosso azar o produto veio com duas portas com defeito demovo estamos brigando desde o dia17 de marco para a assistencia tecnica vim trocar ouve uma diferenca no valor e compramos uma comoda que so vieram montar depois de 14dias por muita existencia e novamente o produto esta com defeito  es5amos nos sentindo insatisfeito pois so compramos mesma loja por indicacao'],\n",
       "      dtype=object)"
      ]
     },
     "execution_count": 9,
     "metadata": {},
     "output_type": "execute_result"
    }
   ],
   "source": [
    "texts.head().values"
   ]
  },
  {
   "cell_type": "code",
   "execution_count": 10,
   "metadata": {},
   "outputs": [
    {
     "data": {
      "text/plain": [
       "51655"
      ]
     },
     "execution_count": 10,
     "metadata": {},
     "output_type": "execute_result"
    }
   ],
   "source": [
    "def tokenize(data, sep=None):\n",
    "    if sep is not None:\n",
    "        return data.split(sep)\n",
    "    return data.split()\n",
    "\n",
    "tokens_sq = [tokenize(i) for i in texts.values]\n",
    "len(tokens_sq)"
   ]
  },
  {
   "cell_type": "code",
   "execution_count": null,
   "metadata": {},
   "outputs": [],
   "source": [
    "from pprint import pprint as print\n",
    "from gensim.models.fasttext import FastText as FT_gensim\n",
    "from gensim.test.utils import datapath\n",
    "\n",
    "seed = 2020\n",
    "epochs = 100\n",
    "ft_params = {\"sg\": 0,  # Training algorithm: skip-gram if sg=1, otherwise CBOW.\n",
    "             \"hs\": 0,  #  If 1, hierarchical softmax will be used for model training. If set to 0, and negative is non-zero, negative sampling will be used.\n",
    "             \"size\": 100,  # Dimensionality of the word vectors.\n",
    "             \"alpha\": 0.025,  # The initial learning rate.\n",
    "             \"window\": 5, # The maximum distance between the current and predicted word within a sentence.\n",
    "             \"min_count\": 5,  # The model ignores all words with total frequency lower than this.\n",
    "             \"max_vocab_size\": None, \n",
    "             \"word_ngrams\": 1, \n",
    "             \"sample\": 0.001,  # the threshold for configuring which higher-frequency words are randomly downsampled, useful range is (0, 1e-5).\n",
    "             \"seed\": seed,\n",
    "             \"workers\": 3, # Use these many worker threads to train the model (=faster training with multicore machines).\n",
    "             \"min_alpha\": 0.0001, \n",
    "             \"negative\": 5,  #  If > 0, negative sampling will be used, the int for negative specifies how many “noise words” should be drawn (usually between 5-20). If set to 0, no negative sampling is used.\n",
    "             \"ns_exponent\": 0.75, \n",
    "             \"cbow_mean\": 1,  # If 0, use the sum of the context word vectors. If 1, use the mean, only applies when cbow is used.\n",
    "             \"iter\": 5, \n",
    "             \"min_n\": 3, # Minimum length of char n-grams to be used for training word representations.\n",
    "             \"max_n\": 6, #  Max length of char ngrams to be used for training word representations. Set max_n to be lesser than min_n to avoid char ngrams being used.\n",
    "             \"sorted_vocab\": 1}\n",
    "\n",
    "\n",
    "model = FT_gensim(**ft_params)\n",
    "\n",
    "# build the vocabulary\n",
    "model.build_vocab(corpus_file=tokens_sq)\n",
    "\n",
    "# train the model\n",
    "model.train(\n",
    "    sentences=tokens_sq, epochs=epochs,\n",
    "    total_examples=len(tokens_sq)\n",
    ")\n"
   ]
  },
  {
   "cell_type": "code",
   "execution_count": null,
   "metadata": {},
   "outputs": [],
   "source": [
    "# saving a model trained via Gensim's fastText implementation\n",
    "import tempfile\n",
    "import os\n",
    "with tempfile.NamedTemporaryFile(prefix='saved_model_gensim-', delete=False) as tmp:\n",
    "    model.save(tmp.name, separately=[])\n",
    "\n",
    "loaded_model = FT_gensim.load(tmp.name)\n",
    "print(loaded_model)\n",
    "\n",
    "os.unlink(tmp.name)"
   ]
  },
  {
   "cell_type": "code",
   "execution_count": null,
   "metadata": {},
   "outputs": [],
   "source": [
    "print(model.most_similar(\"nights\"))\n"
   ]
  }
 ],
 "metadata": {
  "kernelspec": {
   "display_name": "Python 3",
   "language": "python",
   "name": "python3"
  },
  "language_info": {
   "codemirror_mode": {
    "name": "ipython",
    "version": 3
   },
   "file_extension": ".py",
   "mimetype": "text/x-python",
   "name": "python",
   "nbconvert_exporter": "python",
   "pygments_lexer": "ipython3",
   "version": "3.7.7"
  }
 },
 "nbformat": 4,
 "nbformat_minor": 4
}
