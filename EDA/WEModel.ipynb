{
 "cells": [
  {
   "cell_type": "markdown",
   "metadata": {},
   "source": [
    "# Training a Word embedding model\n",
    "\n",
    "Author: \n",
    "* Luis\n",
    "\n",
    "Status:\n",
    "* DONE\n",
    "\n",
    "Goal:\n",
    "* We will train a couple of word embedding models to generate numerical features from our text variables. Specifically we will train a fasttext model using the gensim library.\n",
    "\n"
   ]
  },
  {
   "cell_type": "code",
   "execution_count": 1,
   "metadata": {},
   "outputs": [
    {
     "name": "stdout",
     "output_type": "stream",
     "text": [
      "/home/luis/ds4a/notebooks\n"
     ]
    }
   ],
   "source": [
    "%cd .."
   ]
  },
  {
   "cell_type": "markdown",
   "metadata": {},
   "source": [
    "## Loading and cleaning data"
   ]
  },
  {
   "cell_type": "code",
   "execution_count": 2,
   "metadata": {},
   "outputs": [
    {
     "name": "stdout",
     "output_type": "stream",
     "text": [
      "We have a total of 51655 reviews!\n"
     ]
    }
   ],
   "source": [
    "from src.loading import load_dataset\n",
    "from src.cleaning import build_df_from_RA\n",
    "import pandas as pd\n",
    "import numpy as np\n",
    "import matplotlib.pyplot as plt\n",
    "import seaborn as sns\n",
    "import gensim\n",
    "import unicodedata\n",
    "\n",
    "\n",
    "df = build_df_from_RA(load_dataset(\"dataset\"))\n",
    "print(f\"We have a total of {df.shape[0]} reviews!\")"
   ]
  },
  {
   "cell_type": "code",
   "execution_count": 3,
   "metadata": {},
   "outputs": [],
   "source": [
    "import string\n",
    "import re\n",
    "\n",
    "def normalize_text(text):\n",
    "    \"\"\"\n",
    "    Strip accents and lower text string\n",
    "    :param text: (str) text to be cleaned\n",
    "    :return: (str) cleaned text\n",
    "    \"\"\"\n",
    "    text = strip_accents(text)\n",
    "    text = text.lower().strip()\n",
    "    text = text.translate(str.maketrans(\"\", \"\", string.punctuation))\n",
    "    return text\n",
    "\n",
    "\n",
    "def strip_accents(s):\n",
    "    return ''.join(c for c in unicodedata.normalize('NFD', s) if unicodedata.category(c) != 'Mn')\n",
    "\n",
    "\n",
    "def remove_numbers(text):\n",
    "    return re.sub(r'\\b[0-9]+\\b', '', text)\n",
    "\n",
    "\n",
    "texts = df.apply(lambda row: f\"{remove_numbers(normalize_text(row['title']))} {remove_numbers(normalize_text(row['description']))}\", axis=1)"
   ]
  },
  {
   "cell_type": "code",
   "execution_count": 4,
   "metadata": {
    "collapsed": true,
    "jupyter": {
     "outputs_hidden": true
    }
   },
   "outputs": [
    {
     "data": {
      "text/plain": [
       "array(['dor na coluna forte prezados boa noitegostaria que enviasse um tecnico para uma vistoria e possivel troca da camaestou sentindo muitas dores na coluna e parte da cervical fiz exames e deu desvio na coluna o medico alegou que pode ser a camaquando deito sinto as molas tendo um atrito e parece que elas vao entrar no meu corpo as vezes da medo e no inicio nao era assim como comprei a cama e ainda esta na garantia preciso que isso seja resolvido da melhor forma e para que nao piore essas minhas dores estou tomando remedio para dormir com dores fortes fico no aguardo de um breve retornovania melo',\n",
       "       'simples troca de travesseiros sem retorno comprei uma cama na loja king star do analia franco juntamente com  travesseiros capa de colchao e saia para box a cama chegou ok os travesseiros porem sao extremamente altos e nao notamos no momento da compra  dias apos a compra fui ate a loja para trocalos e me informaram que o procedimento exigia que mandassem um email para a supervisao autorizar e que me retornariam esperei  dias e telefonei na loja ninguem sabia me informar disseram que o gerente me retornaria assim que possivel mais  dias depois como ninguem me retornou liguei novamente o gerente nao me atendeu e ninguem sabia me posicionar fui ate a loja com os  travesseiros novos e embalados e descobri que o gerente era outro gabriel que verificou e nao achou nenhum email vinculado ao meu cadastro ele me garantiu que cuidaria do meu caso mandou outro email e disse que me retornaria em  dias tambem nao houve retorno liguei novamente na loja e esse gerente tambem saiu falei com o vendedor ue realizou minha compra ele  e disse que pediria sem falta  para o novo gerente  e me ligar e isso nao aconteceu liguei e o gerente nao me atendeu em  ligacoes e ha quase  mes e meio que tento sem sucesso trocar a mercadoria a qual tenho direito estou com  travesseiros inuteis e em uma loja com varios atendentes que nao sabem se comunicar e sequer tem a boa vontade de prestar uma satisfacao ao cliente mas uma loja que muda  vezes de gerente em um mes nao esperamos muita coisa mesmo',\n",
       "       'produto do mostruario e um o que eles me entregaram e outro comprei um colchao na loja king star campo limpo o vendedor que atendeu me informou que o colchao king casal no qual eu tive interesse era o top de linha da loja modelo de hotel e realmente muito confortavel o mostruario finalizei a compra no valor do colchao  reaisrecebi o produto na data agendadaporem o colchao e bem diferente do que eu deitei na lojafiz a reclamacao na loja apos  dias de entrega me informaram q iam enviar a assistencia tecnica para analise do produto depois de indas e vindas na loja apos  dias o tecnico veiofez as perguntas e falouvcs sabem q um produto depois do seu uso com o tempo ele se desgatae como uma bucha de lavar louca vc vai usando e uma hora ela fica molesim mais porem em  dias acontece isso estou indgnada pois apos ir na loja fico sabendo q nao vam trocar meu colchao e nem fazer o cancelamentoe o cliente q se danea dor nas costar vai tem q continuar pq o colchao dos lados esta mole e no meio mais firmeciente da atencao dos senhores aguardo retorno',\n",
       "       'insatisfeito fui lezada pelo vendedor comprei a cama box nao sabia que o produto era de outlet nao informou sobre os tres meses de garantia apos os tres meses o colchao deu defeito quando fui a loja fiquei sabendo sobre a garantia e que o colchao estava fora de linha o vendendor nao me ofereceu um produto bom ele so quis vender o colchao eu fui lezada de fato por isso quero a troca do meu colchao e o pior tenho bico de papagaio na coluna e so me prejudicou eu aguardo resposta',\n",
       "       'pouco caso efetuei uma compra dia  no valor de  mil reais pagos em  cheques de  mil  e 0405no mes de maio passei por um dificuldade e nao consegui cobrir o cheque ligamos para a central de cobranca conversando com stela tudo formalizado por email agendados um pagamento para o dia  ou  de maio na data acordada efetuamos o pagamento ficando pendente o cheque no dia  recebi a notificacao de meu banco emissor que eu preciso apresentar uma carta declarada em rabeliao e o cheque ate o dia  no bancou ou serei inclusa no ccf  eu entrei em contato na king falando com a stela e a mesma me disse que o prazo da carta e de 30dias e o cheque ela iria ver com o bancodeles e me retornar que nao era para eu ligar e aguardar o prazo deles eu errei sim ao deixar o cheque voltar mas eu quitei o debito ativo eu preciso de algo que e direito meu e a empresa se nega eu apresento o que no banco exames de sangue talvez estou totalmente insatisfeita com o atendimento que tive e se eu for inclusa ao ccf eu moverei um processo contra essa empresa pois nao existe nao ter acesso a coisas simples me prontifiquei em buscar os documentos mas nao obtive sucesso em nadaaguardo um retorno com a solucaodo meu problema preciso comprovar o pagamento ao meu banco ou tomarei medidas cabiveis'],\n",
       "      dtype=object)"
      ]
     },
     "execution_count": 4,
     "metadata": {},
     "output_type": "execute_result"
    }
   ],
   "source": [
    "texts.head().values"
   ]
  },
  {
   "cell_type": "code",
   "execution_count": 5,
   "metadata": {},
   "outputs": [
    {
     "data": {
      "text/plain": [
       "51655"
      ]
     },
     "execution_count": 5,
     "metadata": {},
     "output_type": "execute_result"
    }
   ],
   "source": [
    "def tokenize(data, sep=None):\n",
    "    if sep is not None:\n",
    "        return data.split(sep)\n",
    "    return data.split()\n",
    "\n",
    "# Create token vectors\n",
    "tokens_sq = [tokenize(i) for i in texts.values]\n",
    "len(tokens_sq)"
   ]
  },
  {
   "cell_type": "markdown",
   "metadata": {},
   "source": [
    "## Training"
   ]
  },
  {
   "cell_type": "code",
   "execution_count": 7,
   "metadata": {},
   "outputs": [],
   "source": [
    "from pprint import pprint as print\n",
    "from gensim.models.fasttext import FastText as FT_gensim\n",
    "from gensim.test.utils import datapath\n",
    "\n",
    "seed = 2020\n",
    "epochs = 100\n",
    "ft_params = {\"sg\": 0,  # Training algorithm: skip-gram if sg=1, otherwise CBOW.\n",
    "             \"hs\": 0,  #  If 1, hierarchical softmax will be used for model training. If set to 0, and negative is non-zero, negative sampling will be used.\n",
    "             \"size\": 100,  # Dimensionality of the word vectors.\n",
    "             \"alpha\": 0.025,  # The initial learning rate.\n",
    "             \"window\": 5, # The maximum distance between the current and predicted word within a sentence.\n",
    "             \"min_count\": 5,  # The model ignores all words with total frequency lower than this.\n",
    "             \"max_vocab_size\": None, \n",
    "             \"word_ngrams\": 1, \n",
    "             \"sample\": 0.001,  # the threshold for configuring which higher-frequency words are randomly downsampled, useful range is (0, 1e-5).\n",
    "             \"seed\": seed,\n",
    "             \"workers\": 3, # Use these many worker threads to train the model (=faster training with multicore machines).\n",
    "             \"min_alpha\": 0.0001, \n",
    "             \"negative\": 5,  #  If > 0, negative sampling will be used, the int for negative specifies how many “noise words” should be drawn (usually between 5-20). If set to 0, no negative sampling is used.\n",
    "             \"ns_exponent\": 0.75, \n",
    "             \"cbow_mean\": 1,  # If 0, use the sum of the context word vectors. If 1, use the mean, only applies when cbow is used.\n",
    "             \"iter\": 5, \n",
    "             \"min_n\": 3, # Minimum length of char n-grams to be used for training word representations.\n",
    "             \"max_n\": 6, #  Max length of char ngrams to be used for training word representations. Set max_n to be lesser than min_n to avoid char ngrams being used.\n",
    "             \"sorted_vocab\": 1}\n",
    "\n",
    "\n",
    "model = FT_gensim(**ft_params)\n",
    "\n",
    "# build the vocabulary\n",
    "model.build_vocab(sentences=tokens_sq)"
   ]
  },
  {
   "cell_type": "code",
   "execution_count": 8,
   "metadata": {},
   "outputs": [],
   "source": [
    "# train the model\n",
    "model.train(\n",
    "    sentences=tokens_sq, epochs=epochs,\n",
    "    total_examples=len(tokens_sq)\n",
    ")"
   ]
  },
  {
   "cell_type": "code",
   "execution_count": 10,
   "metadata": {},
   "outputs": [],
   "source": [
    "# saving a model trained via Gensim's fastText implementation\n",
    "import tempfile\n",
    "import os\n",
    "\n",
    "with tempfile.NamedTemporaryFile(prefix='model_ft', delete=False) as tmp:\n",
    "    model.save(tmp.name, separately=[])\n",
    "\n",
    "# loaded_model = FT_gensim.load(tmp.name)\n",
    "# print(loaded_model)\n",
    "\n",
    "# os.unlink(tmp.name)"
   ]
  },
  {
   "cell_type": "markdown",
   "metadata": {},
   "source": [
    "## Word similarity analysis"
   ]
  },
  {
   "cell_type": "code",
   "execution_count": 13,
   "metadata": {},
   "outputs": [
    {
     "name": "stdout",
     "output_type": "stream",
     "text": [
      "<gensim.models.fasttext.FastText object at 0x7fc6c41c7810>\n"
     ]
    }
   ],
   "source": [
    "loaded_model = FT_gensim.load(str(Path().cwd() / \"fasttext.model\"))\n",
    "print(loaded_model)"
   ]
  },
  {
   "cell_type": "code",
   "execution_count": 17,
   "metadata": {},
   "outputs": [
    {
     "name": "stdout",
     "output_type": "stream",
     "text": [
      "[('spuma', 0.724884033203125),\n",
      " ('kingstar', 0.6920073628425598),\n",
      " ('inovar', 0.6686462163925171),\n",
      " ('lukspuma', 0.6159020066261292),\n",
      " ('marabraz', 0.5994600653648376),\n",
      " ('lojamarabraz', 0.5932378768920898),\n",
      " ('marabraza', 0.5812759399414062),\n",
      " ('viggore', 0.5809564590454102),\n",
      " ('inovakasa', 0.5581468939781189),\n",
      " ('kingsize', 0.5520431399345398)]\n"
     ]
    }
   ],
   "source": [
    "print(model.wv.most_similar(\"fabrispuma\"))"
   ]
  },
  {
   "cell_type": "code",
   "execution_count": 19,
   "metadata": {},
   "outputs": [
    {
     "name": "stdout",
     "output_type": "stream",
     "text": [
      "[('marabraz', 0.8294726014137268),\n",
      " ('etna', 0.8019948601722717),\n",
      " ('madeiramadeira', 0.7776471376419067),\n",
      " ('marabraza', 0.7694597244262695),\n",
      " ('marabrazcom', 0.7617514729499817),\n",
      " ('tokstok', 0.7577101588249207),\n",
      " ('marabrazno', 0.7471649646759033),\n",
      " ('magalu', 0.7353067994117737),\n",
      " ('americanascom', 0.7303666472434998),\n",
      " ('aetna', 0.7297446727752686)]\n"
     ]
    }
   ],
   "source": [
    "print(model.wv.most_similar(\"mobly\"))"
   ]
  },
  {
   "cell_type": "code",
   "execution_count": 16,
   "metadata": {},
   "outputs": [
    {
     "name": "stdout",
     "output_type": "stream",
     "text": [
      "[('palhaca', 0.8603098392486572),\n",
      " ('idiota', 0.856789231300354),\n",
      " ('palhacos', 0.827946662902832),\n",
      " ('trouxa', 0.7834070920944214),\n",
      " ('palha', 0.770859956741333),\n",
      " ('bobo', 0.7582768797874451),\n",
      " ('idiotas', 0.7374000549316406),\n",
      " ('besta', 0.6986215114593506),\n",
      " ('boba', 0.6956204175949097),\n",
      " ('trouxas', 0.6653217077255249)]\n"
     ]
    }
   ],
   "source": [
    "print(model.wv.most_similar(\"palhaco\"))"
   ]
  },
  {
   "cell_type": "code",
   "execution_count": 20,
   "metadata": {},
   "outputs": [
    {
     "name": "stdout",
     "output_type": "stream",
     "text": [
      "[('quebradoo', 0.926303505897522),\n",
      " ('danificado', 0.8744300603866577),\n",
      " ('trincado', 0.8529925346374512),\n",
      " ('amassado', 0.8481569886207581),\n",
      " ('arranhado', 0.8447990417480469),\n",
      " ('emperrado', 0.8432565927505493),\n",
      " ('rasgado', 0.8348040580749512),\n",
      " ('avariado', 0.8346461057662964),\n",
      " ('rachado', 0.8194884657859802),\n",
      " ('lascado', 0.8117988705635071)]\n"
     ]
    }
   ],
   "source": [
    "print(model.wv.most_similar(\"quebrado\"))"
   ]
  },
  {
   "cell_type": "markdown",
   "metadata": {},
   "source": [
    "### Remarks\n",
    "\n",
    "The results look very solid. When we search for company names, it returns other company names as most similar words. When we search for words that have multiple meaning, they return similar words that actually have similar meaning in this context"
   ]
  },
  {
   "cell_type": "markdown",
   "metadata": {},
   "source": [
    "## Model fit analysis"
   ]
  },
  {
   "cell_type": "code",
   "execution_count": 22,
   "metadata": {},
   "outputs": [
    {
     "data": {
      "text/plain": [
       "'dor na coluna forte prezados boa noitegostaria que enviasse um tecnico para uma vistoria e possivel troca da camaestou sentindo muitas dores na coluna e parte da cervical fiz exames e deu desvio na coluna o medico alegou que pode ser a camaquando deito sinto as molas tendo um atrito e parece que elas vao entrar no meu corpo as vezes da medo e no inicio nao era assim como comprei a cama e ainda esta na garantia preciso que isso seja resolvido da melhor forma e para que nao piore essas minhas dores estou tomando remedio para dormir com dores fortes fico no aguardo de um breve retornovania melo'"
      ]
     },
     "execution_count": 22,
     "metadata": {},
     "output_type": "execute_result"
    }
   ],
   "source": [
    "token_seq_to_str = lambda x: \" \".join(x)\n",
    "ex = tokens_sq[0]\n",
    "token_seq_to_str(ex)"
   ]
  },
  {
   "cell_type": "code",
   "execution_count": 99,
   "metadata": {},
   "outputs": [
    {
     "name": "stderr",
     "output_type": "stream",
     "text": [
      "/home/luis/anaconda3/lib/python3.7/site-packages/ipykernel_launcher.py:3: RuntimeWarning: Mean of empty slice.\n",
      "  This is separate from the ipykernel package so we can avoid doing imports until\n",
      "/home/luis/anaconda3/lib/python3.7/site-packages/numpy/core/_methods.py:161: RuntimeWarning: invalid value encountered in double_scalars\n",
      "  ret = ret.dtype.type(ret / rcount)\n"
     ]
    }
   ],
   "source": [
    "def get_review_vec(review_seq):\n",
    "    try:\n",
    "        return np.array([model.wv[w] for w in review_seq]).mean(axis=0)\n",
    "    except:\n",
    "        return None \n",
    "\n",
    "texts_vecs = [get_review_vec(seq) for seq in tokens_sq]\n"
   ]
  },
  {
   "cell_type": "code",
   "execution_count": 102,
   "metadata": {},
   "outputs": [],
   "source": [
    "from sklearn.metrics.pairwise import cosine_similarity, euclidean_distances\n",
    "\n",
    "idx_vec = 30057\n",
    "distances = []\n",
    "cos_sim = []\n",
    "\n",
    "for idx,vec in enumerate(texts_vecs):\n",
    "    if idx != idx_vec and vec is not None:\n",
    "        try:\n",
    "            cos_sim.append(cosine_similarity(texts_vecs[idx_vec].reshape(1,-1), vec.reshape(1,-1))[0][0])\n",
    "        except:\n",
    "            cos_sim.append(None)\n",
    "        try:\n",
    "            distances.append(euclidean_distances(texts_vecs[idx_vec].reshape(1,-1), vec.reshape(1,-1))[0][0])\n",
    "        except:\n",
    "            distances.append(None)\n",
    "        \n",
    "    else:\n",
    "        distances.append(None)\n",
    "        cos_sim.append(None)\n",
    "\n"
   ]
  },
  {
   "cell_type": "code",
   "execution_count": 103,
   "metadata": {},
   "outputs": [
    {
     "data": {
      "text/html": [
       "<div>\n",
       "<style scoped>\n",
       "    .dataframe tbody tr th:only-of-type {\n",
       "        vertical-align: middle;\n",
       "    }\n",
       "\n",
       "    .dataframe tbody tr th {\n",
       "        vertical-align: top;\n",
       "    }\n",
       "\n",
       "    .dataframe thead th {\n",
       "        text-align: right;\n",
       "    }\n",
       "</style>\n",
       "<table border=\"1\" class=\"dataframe\">\n",
       "  <thead>\n",
       "    <tr style=\"text-align: right;\">\n",
       "      <th></th>\n",
       "      <th>dist</th>\n",
       "      <th>cosine</th>\n",
       "    </tr>\n",
       "  </thead>\n",
       "  <tbody>\n",
       "    <tr>\n",
       "      <td>0</td>\n",
       "      <td>19.7732</td>\n",
       "      <td>-0.0700241</td>\n",
       "    </tr>\n",
       "    <tr>\n",
       "      <td>1</td>\n",
       "      <td>18.3038</td>\n",
       "      <td>0.171999</td>\n",
       "    </tr>\n",
       "    <tr>\n",
       "      <td>2</td>\n",
       "      <td>16.2397</td>\n",
       "      <td>0.416134</td>\n",
       "    </tr>\n",
       "    <tr>\n",
       "      <td>3</td>\n",
       "      <td>15.8188</td>\n",
       "      <td>0.46035</td>\n",
       "    </tr>\n",
       "    <tr>\n",
       "      <td>4</td>\n",
       "      <td>15.8395</td>\n",
       "      <td>0.464085</td>\n",
       "    </tr>\n",
       "  </tbody>\n",
       "</table>\n",
       "</div>"
      ],
      "text/plain": [
       "      dist     cosine\n",
       "0  19.7732 -0.0700241\n",
       "1  18.3038   0.171999\n",
       "2  16.2397   0.416134\n",
       "3  15.8188    0.46035\n",
       "4  15.8395   0.464085"
      ]
     },
     "execution_count": 103,
     "metadata": {},
     "output_type": "execute_result"
    }
   ],
   "source": [
    "simil_df = pd.DataFrame(np.array([distances, cos_sim]).transpose(), columns=[\"dist\", \"cosine\"]).dropna()\n",
    "simil_df.head()"
   ]
  },
  {
   "cell_type": "code",
   "execution_count": 104,
   "metadata": {},
   "outputs": [
    {
     "name": "stdout",
     "output_type": "stream",
     "text": [
      "'produto foi entregue quebrado recebi o produto quebrado'\n",
      "'====================================='\n",
      "('produto nao entregue recebi um email da loja informando que o produto '\n",
      " 'torradeira pedido n foi entregue porem nao foi fiquei em casa o dia ionteiro '\n",
      " 'e eles informaram que o produto foi entregue')\n",
      "'====================================='\n",
      "('pedido cancelado sem solicitacao pessimo atendimento cooktop tramontina '\n",
      " 'comprado em deveria ser entregue em pedido q90603575 o pedido nao foi '\n",
      " 'entregue na data e entao foi aberto um chamado para verificar a data de '\n",
      " 'entrega apos o evento foi informado pelo atendente que o pedido seria '\n",
      " 'entregue em hoje quando fui verificar o status do pedido me consta que o '\n",
      " 'pedido foi cancelado em momento algum foi solicitado o cancelamento do '\n",
      " 'pedido o valor ja foi pago debito favor informar o status do pedido urgente')\n",
      "'====================================='\n",
      "('produto nao entregue fui verificar o status do meu pedido e o mesmo esta '\n",
      " 'como entregue porem nao recebi o meu produto ultimo pedido que realizei tive '\n",
      " 'o mesmo problema foi entregue em outro endereco peco que verifiquem com '\n",
      " 'urgencia onde esta o produto para entrega no endereco correto')\n",
      "'====================================='\n",
      "('produto nao recebido na minha conta do app consta que o produto foi entregue '\n",
      " 'porem nao recebi o produto o endereco esta correto mas nao chegou produto '\n",
      " 'nenhum')\n",
      "'====================================='\n",
      "('pedido pago so que o produto nao foi entregue pedido 197276748nao foi '\n",
      " 'entreguequero o estorno')\n",
      "'====================================='\n",
      "('rack nao chegou fiz o pedido dia dia foi entregue ao transportador e dia '\n",
      " 'disse que o produto foi entregue porem o rack nao foi entregue desde entao '\n",
      " 'tento uma solucao via chat sem sucesso me passam pra aguardar o retorno mas '\n",
      " 'nao retornam com a solucao inclusive o num do meu pedido nem esta mais '\n",
      " 'disponivel no mesmo pedido tinha um movel para microondas que foi entregue '\n",
      " 'mas o rack da sala nao')\n",
      "'====================================='\n",
      "('nao recebi o produto e consta que foi entregue fiz uma compra no dia de '\n",
      " 'janeiroesta seria entregue ate o dia de fevereiro recebi o email dizendo que '\n",
      " 'o produto estava com o transportadore assim ficou o status ate ontem dia '\n",
      " 'hoje fui verificar o status e la consta que o produto foi entregue dia sendo '\n",
      " 'que eu nao o recebi nem se quer me mandaram o email avisando que tinha sido '\n",
      " 'entregue para que eu pudesse entrar em contato antes ou seja o produto foi '\n",
      " 'entregue a outra pessoa e agora quero saber como fica')\n",
      "'====================================='\n",
      "('produto nao entregue recebi mensagem dizendo que o produto foi entregue '\n",
      " 'porem nao foi')\n",
      "'====================================='\n",
      "('produto quebrado nao estornaram o dinheiro o produto armario com gavetas '\n",
      " 'me4118 tecno mobili branco que comprei atraves do pedido veio quebrado abri '\n",
      " 'uma solicitacao para buscarem o produto aqui em casa isso foi feito mas nao '\n",
      " 'recebi o estorno conforme combinadoou seja paguei pelo produto veio quebrado '\n",
      " 'buscaram e nao devolveram o dinheiro favor resolver o problema ou terei que '\n",
      " 'abrir solicitacoes no reclame aqui para o mesmo problema')\n",
      "'====================================='\n",
      "('consta que meu guarda roupa foi entregue mais nao foi comprei um guarda '\n",
      " 'roupa e uma painel o painel foi entregue mais no rastreio consta que o '\n",
      " 'guarda roupa foi entreguemais nada chegou squaqui i')\n"
     ]
    }
   ],
   "source": [
    "print(token_seq_to_str(tokens_sq[idx_vec]))\n",
    "\n",
    "for idx in simil_df.sort_values(by=\"dist\",ascending=True).head(10).index:    \n",
    "    print(\"=====================================\")\n",
    "    print(token_seq_to_str(tokens_sq[idx]))\n"
   ]
  },
  {
   "cell_type": "code",
   "execution_count": 89,
   "metadata": {},
   "outputs": [
    {
     "data": {
      "text/plain": [
       "3"
      ]
     },
     "execution_count": 89,
     "metadata": {},
     "output_type": "execute_result"
    }
   ],
   "source": []
  },
  {
   "cell_type": "code",
   "execution_count": 105,
   "metadata": {},
   "outputs": [
    {
     "name": "stdout",
     "output_type": "stream",
     "text": [
      "('cobranca indevida de parcela minima ao realizar uma negociacao dentro da '\n",
      " 'loja fisica da empresa tokstok de uma cama escorregador que estava em '\n",
      " 'promocao devido ser peca de mostruario questionei a supervisora renata a '\n",
      " 'forma de parcelamento da mesma e fui informado que a quantidade maxima seria '\n",
      " 'em ate vezes sem juros ao questionar que queria em dez vezes sem juros a '\n",
      " 'mesma passou a informacao que a loja possui um valor minimo de parcela no '\n",
      " 'valor de ferindo a lei artigo e artigo que diz que nao se pode estipular '\n",
      " 'valor minimo de parcelo e ao mesmo tempo obrigando o cliente a comprar '\n",
      " 'outros produtos para conseguir a quantidade de parcelas pretendidas')\n",
      "'====================================='\n",
      "('atendimento bom diaem por volta de hrs fui fazer a retirada de uma tvna '\n",
      " 'unidade de venda nova rua padre pedro pinto1166 produto oriundo da nota '\n",
      " 'fiscal de numero 00101446tv led fhdlg43lm6300psb bthdmiwifio atendimento foi '\n",
      " 'normal ate a hora da retirada do produtoquando um funcionario mal humorado e '\n",
      " 'bastante apressadofoi solicitado para auxiliar a levar a mercadoria ate a '\n",
      " 'porta da lojaao examinar o produto antes de retirar da lojapercebi que se '\n",
      " 'tratava de uma tv de marca samsung produto que nao comprei neste momento '\n",
      " 'avisei o funcionarioque se tratava de outro produtomomento que ele solicitou '\n",
      " 'a nota fiscal e certificou que era outro produtofoi ao estoque para fazer a '\n",
      " 'troca a troca demorou um certo tempo que leva a crer que o produto nao '\n",
      " 'estava pronto pra retiradanao crendo que a empresa usa este tipo de '\n",
      " 'atendimento com ma felevo ao conhecimento de todos para evitar transtornos '\n",
      " 'futuros afim de auxiliar na credibilidade da empresacordialmente')\n",
      "'====================================='\n",
      "('negociacao de divida abusiva liguei para a central de cobranca da lebes a '\n",
      " 'fim de liquidar minha divida com a loja que esta em 59000a atendente me '\n",
      " 'informou que a unica forme de negociar seria ×6000sendo que assim a divida '\n",
      " 'iria a quase mil reaise uma negociacao absurdano mesmo dia liguei para '\n",
      " 'marisa para negociar um valor de no qual alem de darem desconto fizeram '\n",
      " '×6000como pode se trabalhar com uma taxa de juros tao elevada tenho todos os '\n",
      " 'boletos da negociacao da mariza como provao povo quer pagar quer ter o nom '\n",
      " 'limpo direitinhomas na hora de negociar ninguem ajudadesde jeito parece que '\n",
      " 'nao querem receber querem que caduque a divida')\n",
      "'====================================='\n",
      "('notificacao extrajudicial compra editado pelo reclame aqui notificacao '\n",
      " 'extrajudicialnotifico que a fast shop tem horas para se pronunciar venho por '\n",
      " 'meio desta notificar extrajudicialmente a fast shop em face dos notificados '\n",
      " 'pelos fatos e fundamentos a seguiri dos fatos e fundamentosconforme boletim '\n",
      " 'de ocorrencia anexo elaborado em as informa a vitima que na data de tomou '\n",
      " 'conhecimento atraves de ligacao da empresa fast shop sobre uma compra de um '\n",
      " 'aparelho celular da marca apple no valor de r de imediato informou que a '\n",
      " 'compra era indevida solicitando o cancelamento da mesma o que foi feito em '\n",
      " 'contato com a empresa foi dito pela funcionaria daniele da area de editado '\n",
      " 'pelo reclame aquiseguranca que a compra foi contretizada via internet e '\n",
      " 'utilizado um cartao de credito mastercard final validade porem nao foram '\n",
      " 'fornecidas maiores informacoesquanto ao cartao conforme informado para a '\n",
      " 'empresa pela vitima nao e de sua propriedade inclusive apos esse comunicado '\n",
      " 'entrou em contato com os bancos nos quais tem conta porem nao localizou a '\n",
      " 'emissao de cartao com a numeracao informadaadicionalmente a vitima ja '\n",
      " 'possuia conta na referida empresa e identificou que sua propria conta foi '\n",
      " 'utilizada para fazer a compra de forma indevida tambem informa que a compra '\n",
      " 'foi concretizada as min conforme exibido em email de confirmacao de compra '\n",
      " 'que recebeu ao contatar a mastercard a mesma informou que e possivel '\n",
      " 'localizar a instituicao financeira informando os primeiros digitos do cartao '\n",
      " 'e desta forma impedir a continuidade da editado pelo reclame aqui ocorre que '\n",
      " 'mesmo explicando a situacao a fast shop a informacao foi negada em primeiro '\n",
      " 'momento no atendimento foi afirmado que nao possuem esta informacao e depois '\n",
      " 'sob o aviso de que a mastercard disse que a empresa tem sim esta informacao '\n",
      " 'acabaram confirmando que a possuem porem nao iriam fornecelaii do pedido '\n",
      " 'sendo assim solicita seus bons prestimos para em vinte e quatro horas '\n",
      " 'fornecer a informacao solicitada pela mastercard a saber os primeiros '\n",
      " 'digitos do cartao para impedir a continuidade da editado pelo reclame aqui '\n",
      " 'no caso do nao atendimento deste instrumento dentro do prazo serao tomadas '\n",
      " 'as medidas judiciais cabiveis bem como a responsabilizacao solidaria pelo '\n",
      " 'fato e transtornos ja causados e que venham a ser causados contra a vitimana '\n",
      " 'certeza do atendimento a esta solicitacao agradeco desde ja')\n",
      "'====================================='\n",
      "('cobranca indevida compra editado pelo reclame aqui foi realizada uma compra '\n",
      " 'por crediario na loja de copacabana rj no dia com os dados de minha mae '\n",
      " 'porem ela estava acamada nao faz movimentacoes bancarias e possui procurador '\n",
      " 'em razao de sua enfermidade a loja inseriu seu nome no serasa e com isso ela '\n",
      " 'foi prejudicada em uma analise de credito posterior estive na loja ontem e '\n",
      " 'solicitei a gerente da loja chamada maria que me provasse a realizacao da '\n",
      " 'compra como nao conseguiu retirou a compra do cadastro da loja porem '\n",
      " 'recusouse a fornecer qualquer documento que comprove o procedimento entrei '\n",
      " 'em contato com a area de cobranca das casas bahia e a operadora tambem se '\n",
      " 'recusou a fornecer um protocolo ou registrar o atendimento liguei para o sac '\n",
      " 'e a operadora tambem se recusou a registrar fornecendo apenas um numero de '\n",
      " 'protocolo tratase de editado pelo reclame aqui com prejuizo material e moral '\n",
      " 'a uma senhora de idade sem problemas cadastrais exijo que a empresa se '\n",
      " 'posicione sob risco de ser processada judicialmente e criminalmentedados da '\n",
      " 'editado pelo reclame aqui informacoes fornecidas pelo serasa data modalidade '\n",
      " 'crediario valor r contrato casas bahia')\n",
      "'====================================='\n",
      "('propaganda enganosa no dia de hoje publicaram a venda de uma mesa de centro '\n",
      " 'de tronco de arvore de por fui ate a loja para comprar e quando cheguei a '\n",
      " 'mesa anunciada conforme foto postada no instagram estava por informaram que '\n",
      " 'a mesa da promocao era a de tamanho p e a da foto era g notase que a '\n",
      " 'desculpa do vendedor nao faz sentido algum pois a mesa tamanho p nao seria '\n",
      " 'mais cara que a tamanho g fora da promocao alem do mais nao se deve postar '\n",
      " 'foto de algo que nao corresponde ao objeto da promocao faz a gente se '\n",
      " 'deslocar de nossas casas para nada estou frustrada e nao indico a ninguem '\n",
      " 'falta de respeito com o consumidor')\n",
      "'====================================='\n",
      "('produto nao entregue eu efetuei a compra de uma lavadora de roupa panasonic '\n",
      " 'kg em jan optei pela loja e modelo devido ao prazo de entrega que seria ate '\n",
      " 'dias uteis a loja confirmou o pedido e encaminhou autorizacao e pagamento a '\n",
      " 'operadora de meu cartao a compra foi aprovada e a loja emitiu a nota fiscal '\n",
      " 'ou seja o produto foibfaturado eu estava aguardando a entrega para a data '\n",
      " 'prevista jan e a mesma nao ocorreu em janeiro quando eu efetuei o contato '\n",
      " 'com a empresa para saber a posicao do produto que foi para mim faturado a '\n",
      " 'atendendente me informou que minha compra havia sido cancelada por motivo '\n",
      " 'que nao havia sido aprovada apos analise e empresa vamos as consideracoes '\n",
      " 'inicialmente nao ha que se falara em cancelamento por analise de credito ou '\n",
      " 'cadastro uma vez que a compra foi efetivada e a nota fiscal emitida a '\n",
      " 'empresa faltou a verdade em me dar uma justificativa quanto ao cancelamento '\n",
      " 'ainda no site ha a descricao que houve um problema na entrega entao nao foi '\n",
      " 'problema de analise o que me remete a imaginar que a empresa nao tinha reais '\n",
      " 'condicoes de vender o produto nas condicoes anunciadas caindo entao em uma '\n",
      " 'falsa oferta propaganda enganosa como disse um dos motivos que me levaram a '\n",
      " 'fechar negocio foi o prazo de entrega pela minha real necessidade de lavar '\n",
      " 'minhas roupas devido a minha recente instalacao na cidade do rj com isso '\n",
      " 'estou tendo gastos com lavanderias ocasionados pela incompetencia '\n",
      " 'operacional da fastshop fora os transtornos pessoais que tem me causado de '\n",
      " 'tudo isso a empresa ainda mantem meu limite de cartao de credito vinculado a '\n",
      " 'esta compra me prejudicando novamente e em total desacordo a protecao do '\n",
      " 'consumidor por fim e lamentavel o descaso da empresa e a falta de '\n",
      " 'compromisso')\n",
      "'====================================='\n",
      "('bras cristaleira porta da entrega a ouvidoria apenas descaso caros nao e o '\n",
      " 'ideal mas e compreensivel que um produto apresente defeitos eventualmente '\n",
      " 'com muito espirito de entendimento e aceitavel que apos uma primeira troca a '\n",
      " 'peca venha com algum defeito em um segundo momento mas em meu caso nao foram '\n",
      " 'uma e nem duas mas sim quatro vezes que o produto adquirido tenha sido '\n",
      " 'entregue com problemas ressalto quatro vezes que poderia ter sido cinco pois '\n",
      " 'simplesmente desisti de efetuar uma nova troca que ja havia sido aprovada '\n",
      " 'mas que por todo o desgaste causado cansei de buscar uma peca o que '\n",
      " 'aconteceu no meu caso com a tok stok do momento da primeira entrega ate o '\n",
      " 'dia de hoje e o maior episodio de descaso ao cliente que ja presenciei '\n",
      " 'protagonizado por uma empresa do ramo minha historia comeca em de maio de '\n",
      " 'quando comprei a bras cristaleira porta x na tok stok unidade ibirapuera av '\n",
      " 'ibirapuera sao paulo por ser feita sob encomenda a peca segundo me '\n",
      " 'informaram seria entregue em ate dias uteis um prazo longo mas compreensivel '\n",
      " 'dada a natureza do produto buscamos a peca em maio na loja e ao chegarmos em '\n",
      " 'casa e abrirmos a caixa surpresa as pernas da cristaleira estavam '\n",
      " 'completamente tortas feita de aco a peca dificilmente teria sido avariada no '\n",
      " 'transporte ligamos imediatamente para a loja e depois de negociar a '\n",
      " 'principio queriam que levassemos a peca ate a tok stok para averiguacao '\n",
      " 'ficou combinado que apos enviarmos fotos do produto este seria avaliado e a '\n",
      " 'troca aprovada de maio ate agosto recebemos a equipe de entrega da tok stok '\n",
      " 'tres vezes em casa cada uma delas motivadas pela troca do produto que '\n",
      " 'apresentou problemas acabamento porta empenada entre outros em todas as '\n",
      " 'vezes depois de quase meses da compra efetivada e ja com a quarta peca em '\n",
      " 'casa tampouco perfeita a porta veio ligeiramente empenada desistimos de '\n",
      " 'fazer um novo pedido de troca entre os periodos conversei diretamente na '\n",
      " 'loja tanto com o gerente da unidade ibirapuera quanto com o assistente de '\n",
      " 'posvenda pois e impossivel o contato por telefone sem que seja necessario '\n",
      " 'aguardar pelo menos minutos ou mais ameacei entrar no procon e tomar as '\n",
      " 'medidas cabiveis na justica para ser ressarcido por toda a situacao mas '\n",
      " 'diante da possibilidade de resolver o caso sem a necessidade de atuar em '\n",
      " 'outras instancias acolhi a ideia de aguardar a ligacao da ouvidoria da tok '\n",
      " 'stok e ouvir a proposta que me seria feita para minimizar toda a situacao '\n",
      " 'neste dia de agosto recebi a ligacao da ouvidoria uma ligacao vale frisar '\n",
      " 'que tive que cobrar na unidade ibirapuera em tres visitas distintas e que me '\n",
      " 'fora prometida ate o dia de agosto uma data que tampouco fora cumprida o '\n",
      " 'caso foi apresentado da seguinte forma o sr adquiriu a bras cristaleira '\n",
      " 'porta a peca foi entregue com defeitos mas o sr gostaria de continuar com o '\n",
      " 'produto meu pedido na verdade minha desistencia de buscar um produto fora '\n",
      " 'aceito pelo departamento de qualidade da tok stok e eu seria ressarcido pela '\n",
      " 'tok stok em do valor do produto em creditos na loja proposta que apos longa '\n",
      " 'conversa abrangia a possibilidade desse valor ser revertido em deposito em '\n",
      " 'contafiquei incredulo com a proposta meses e meses de cobrancas dias '\n",
      " 'perdidos para o recebimento de produtos tempo perdido para conversas in loco '\n",
      " 'na loja entregas de pecas com defeitos e quase cinco meses apos a compra a '\n",
      " 'tok stok me oferece um desconto de em cima do valor pago no produto como '\n",
      " 'recompensa a postura condescendente voce tem a opcao de optar por uma nova '\n",
      " 'troca da peca e dessa vez ela sera acompanhada por nosso controle de '\n",
      " 'qualidade seria a quarta troca desde a compra da peca a quinta a ser '\n",
      " 'entregue em minha casa e um deboche e uma piada de mau gosto mas frisei para '\n",
      " 'a atendente da ouvidoria eu nao esperava a pachorra de ouvir uma proposta '\n",
      " 'tao descabida da tok stok de me ressarcir apenas depois de toda o '\n",
      " 'desconforto e constrangimento com a situacao conversando com colegas tanto '\n",
      " 'consumidores como funcionarios de empresas do mesmo segmento que a tok stok '\n",
      " 'descobri que diversas companhias na area ao proporcionar experiencias como '\n",
      " 'as que venho passando no momento chegam ate a devolver ao cliente o valor '\n",
      " 'pago na integra como forma de recompensar todo o desgaste e de prezar pela a '\n",
      " 'imagem arranhada da marca por um caso tao absurdo nao esperava que a tok '\n",
      " 'stok tivesse tamanha sensibilidade para lidar com a situacao contudo '\n",
      " 'tampouco esperava que a marca por meio de sua ouvidoria tivesse a desfacatez '\n",
      " 'de fazer uma proposta de ressarcimento tao descabidas pelo meu caso no qual '\n",
      " 'todos os equivocos da producao a entrega da vistoria do servico de qualidade '\n",
      " 'ao atendimento foram de responsabilidade da empresa e horrivelmente '\n",
      " 'prestados depois de minutos de conversa com a ouvidoria fiz uma '\n",
      " 'contraproposta diante do ressarcimento da tok stok a promessa e de que no '\n",
      " 'dia de agosto segundafeira terei um retorno espero que seja positivo fica '\n",
      " 'aqui registrado meu caso sou cliente tok stok ha anos adoro os produtos da '\n",
      " 'loja e nunca havia tido problemas com a marca ate entao mas torco para que '\n",
      " 'nenhum de seus consumidores tenham a desagradavel surpresa de receber uma '\n",
      " 'peca com defeito caso contrario e bom se preparar para um provavel festival '\n",
      " 'de descaso por parte da empresa e claro apos todo esse relato uma dica a '\n",
      " 'outros possiveis consumidores evite a qualquer custo a compra da bras '\n",
      " 'cristaleira porta x que mesmo apos apresentar defeitos atras de feitos '\n",
      " 'continua sendo vendida no site da marca cuidado')\n",
      "'====================================='\n",
      "('empresa cancela pedido para nao cumprir o prazo de entrega realizei a compra '\n",
      " 'do wap em o pagamento foi realizado em no valor de a empresa informou que o '\n",
      " 'prazo para a entrega do produto seria conforme evidencia arquivo wapdocx ao '\n",
      " 'entrar em contato com a empresa via chat recebi um email com a data de '\n",
      " 'entrega dia e a atendente me informou dia informacoes divergentes no mesmo '\n",
      " 'atendimento para minha surpresa hoje recebo um email com nova data para nao '\n",
      " 'tenho como ficar a disposicao da empresa nem tao pouco faltar dias de '\n",
      " 'servico no aguardo da pseudo entregaos atendentes seguem resposta padrao nao '\n",
      " 'tem interesse em resolver o problema do cliente alem deste canal dei entrada '\n",
      " 'tambem no procon e juizado especial as empresas precisam ter mais respeito '\n",
      " 'com seus consumidoresconforme reclamacao informada acima a empresa ate a '\n",
      " 'presente data nao realizou a entrega da mercadoria e tambem nao respondeu a '\n",
      " 'minha reclamacao realizada nesse canal em todas as vezes que obtive alguma '\n",
      " 'resposta da empresa foi eu quem entrei em contato com a empresa hoje dia '\n",
      " 'recebi um email da mesma informando que a minha compra foi cancelada devido '\n",
      " 'a falta da mercadoria em estoque mas ao entrar no site da mesma encontrei a '\n",
      " 'mercadoria do mesmo modelo que comprei para venda e com prazo de entrega de '\n",
      " 'dias em contato pelo chat com a empresa a atendente amanda me informou que a '\n",
      " 'compra foi cancelada devido a falta da mercadoria em estoque a questionei '\n",
      " 'sobre a venda no site e a mesma alegou que devido a empresa trabalhar com '\n",
      " 'varios parceiros pode haver alguma mercadoria em estoque estou muito '\n",
      " 'desapontado com a empresa madeira madeira tenho a impressao que a mesma nao '\n",
      " 'tem estrutura para trabalhar com promocoes tipo a black friday epoca essa '\n",
      " 'que comprei a mercadoria muita falta de respeito com consumidor deixar para '\n",
      " 'a data limite de entrega para informar que nao vou mais receber a mercadoria '\n",
      " 'e cancelarem a compra e todo esse tempo que fiquei esperando a mercadoria '\n",
      " 'sem poder sair de casa ja que nao tinha uma data certa para a entrega pois '\n",
      " 'sempre a empresa mudava a data fico pensando que empresa e essa que vende um '\n",
      " 'produto e demora mais de um mes para perceber que nao tem em estoque para '\n",
      " 'entregar pois entendo que se houve a liberacao da forma de pagamento e a '\n",
      " 'venda a empresa tenha em estoque fica a pergunta a empresa madeira madeira '\n",
      " 'vai me restituir o valor onde eu consiga adquirir o mesmo produto de uma '\n",
      " 'empresa idonea que consiga realizar a entrega onde eu nao preciso '\n",
      " 'desembolsar nenhum valor a mais pois deixei de comprar em outras empresas '\n",
      " 'acreditando na boa fe da empresa madeira madeira fico no aguardo da resposta')\n",
      "'====================================='\n",
      "('produto de baixa qualidade e descaso com cliente venho por meio deste '\n",
      " 'respeitado canal de comunicacao expor o meu arrependimento e total '\n",
      " 'insatisfacao com a lider interiores em dezembro de realizei a compra de um '\n",
      " 'jogo de sofa de aproximadamente r500000 na loja da lider interiores em sete '\n",
      " 'lagoas no ato da compra pelo valor a ser gasto tive tratamento vip segundo a '\n",
      " 'vendedora o produto seria de excelente qualidade e durabilidade sendo sofa '\n",
      " 'para uso em dez anos entretanto passados anos a espuma simplesmente afundou '\n",
      " 'a ponto de sentarmos e sentir a parte estrutural do sofaja realizei quatro '\n",
      " 'contatos com a loja para reclamar tal situacao so promessas por parte da '\n",
      " 'lider pos venda tenebroso a loja me informou que a analista caroline batista '\n",
      " 'iria entrar em contato assim como receberia uma visita de um tecnico para '\n",
      " 'avaliar a situacao do sofa e ate este momento estou aguardandoem breve irei '\n",
      " 'adquirir novos moveis e com certeza caso nao seja atendida a minha '\n",
      " 'solicitacao passarei bem longe das lojas da lider e com certeza a propaganda '\n",
      " 'que irei fazer sera extremamente negativa a lider deveria tratar seus '\n",
      " 'clientes com mais respeitoemilson coutinho')\n",
      "'====================================='\n",
      "('site nao permite a finalizacao da compra estava tentando realizar desde as '\n",
      " 'da tarde a compra de um celular samsung modelo a20s preto que esta na oferta '\n",
      " 'pelo site da loja no valor de r79100 a vista ou r84900 com opcao de '\n",
      " 'parcelamento para cartoes de credito em ate 12x sem juros porem quando '\n",
      " 'seleciono comprar o site concede apenas o valor a vista ao prosseguir ate a '\n",
      " 'opcao de pagamento para tentar alterar e conseguir ir para a opcao de '\n",
      " 'pagamento parcelado o site permite realizar toda a transacao no entanto '\n",
      " 'entende que desejo parcelar o valor a vista e nao permite finalizar a compra '\n",
      " 'alegando divergencia no processo de pagamentotentei contato varias vezes por '\n",
      " 'telefone alem da demasiada demora para atender nao obtive outra resposta que '\n",
      " 'nao fosse realizar a compra pelo televendas todavia nao me sinto confortavel '\n",
      " 'em passar dados sigilosos como de cartao de credito a pessoas desconhecidas '\n",
      " 'por mais qualificadas que sejama oferta era de horas nao havera tempo habil '\n",
      " 'para concluir minha compra e ficarei sem o celular peco auxilio para a '\n",
      " 'resolucao desse problema')\n"
     ]
    }
   ],
   "source": [
    "idx_vec = np.random.randint(0, len(texts_vecs))\n",
    "distances = []\n",
    "cos_sim = []\n",
    "\n",
    "for idx,vec in enumerate(texts_vecs):\n",
    "    if idx != idx_vec and vec is not None:\n",
    "        try:\n",
    "            cos_sim.append(cosine_similarity(texts_vecs[idx_vec].reshape(1,-1), vec.reshape(1,-1))[0][0])\n",
    "        except:\n",
    "            cos_sim.append(None)\n",
    "        try:\n",
    "            distances.append(euclidean_distances(texts_vecs[idx_vec].reshape(1,-1), vec.reshape(1,-1))[0][0])\n",
    "        except:\n",
    "            distances.append(None)\n",
    "        \n",
    "    else:\n",
    "        distances.append(None)\n",
    "        cos_sim.append(None)\n",
    "        \n",
    "simil_df = pd.DataFrame(np.array([distances, cos_sim]).transpose(), columns=[\"dist\", \"cosine\"]).dropna()\n",
    "simil_df.head()\n",
    "\n",
    "print(token_seq_to_str(tokens_sq[idx_vec]))\n",
    "for idx in simil_df.sort_values(by=\"dist\",ascending=True).head(10).index:    \n",
    "    print(\"=====================================\")\n",
    "    print(token_seq_to_str(tokens_sq[idx]))"
   ]
  },
  {
   "cell_type": "markdown",
   "metadata": {},
   "source": [
    "## Remarks\n",
    "\n",
    "Yes, another confirmation of good fit. First case we got a problem of delivery and it was able to find similar delivery related complaints. Next, it does the same for wrong charges complaints.\n",
    "We will proceed using this model to our further nlp needs."
   ]
  }
 ],
 "metadata": {
  "kernelspec": {
   "display_name": "Python 3",
   "language": "python",
   "name": "python3"
  },
  "language_info": {
   "codemirror_mode": {
    "name": "ipython",
    "version": 3
   },
   "file_extension": ".py",
   "mimetype": "text/x-python",
   "name": "python",
   "nbconvert_exporter": "python",
   "pygments_lexer": "ipython3",
   "version": "3.7.4"
  }
 },
 "nbformat": 4,
 "nbformat_minor": 4
}
