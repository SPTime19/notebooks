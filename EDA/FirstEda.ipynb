{
 "cells": [
  {
   "cell_type": "markdown",
   "metadata": {},
   "source": [
    "# First EDA - Team 19"
   ]
  },
  {
   "cell_type": "markdown",
   "metadata": {},
   "source": [
    "EDA of the followin stores on ReclameAqui (27-03-2020 first 5 pages):\n",
    "* tokestok-loja-online \n",
    "* tokestok \n",
    "* madeiramadeira \n",
    "* mobly \n",
    "* etna-home-store-loja-online \n",
    "* etna-home-store \n",
    "* casas-bahia-loja-online \n",
    "* casas-bahia-lojas-fisicas"
   ]
  },
  {
   "cell_type": "markdown",
   "metadata": {},
   "source": [
    "## What questions will I be able to answer with this data?\n",
    "Think about your data in terms of **achieving the objectives** we laid out in previous weeks.  It's also important to **outline insights and possibilities for future action** found in the data."
   ]
  },
  {
   "cell_type": "markdown",
   "metadata": {},
   "source": [
    "From our MVP target:\n",
    "- Focus on answering customers' most frequent questions/problems\n",
    "- Stores ranking\n",
    "- Segmented analysis both online vs. bricks and mortar retailers\n",
    "- Deliver a general snapshot of the vertical"
   ]
  },
  {
   "cell_type": "markdown",
   "metadata": {},
   "source": [
    "## Reclame Aqui (RA) dataset sample"
   ]
  },
  {
   "cell_type": "code",
   "execution_count": 17,
   "metadata": {},
   "outputs": [
    {
     "name": "stdout",
     "output_type": "stream",
     "text": [
      "We have a total of 282 reviews!\n",
      "{'business_name': 'Casas Bahia - Loja Online',\n",
      " 'city': 'Araucária',\n",
      " 'datetime': '2020-03-27T09:15:00Z',\n",
      " 'description': 'Fiz a compra no dia 09-03-2020No dia 18-03-2020 recebi um '\n",
      "                'email afirmando que o produto não poderia ser entregue, sem '\n",
      "                'dar maiores explicações. Este fato por si só já gerou '\n",
      "                'frustração. A mensagem afirmava que haveria o estrono do '\n",
      "                'valor, no entanto a cobrança foi efetuada em minha fatura de '\n",
      "                'cartão de crédito. Tentei por diversas vezes contato para '\n",
      "                'resolver e as mensagens são sempre evazivas. Em chat com uma '\n",
      "                'atendente, fui informado de 1 dia útil para contato, o que '\n",
      "                'não ocorreu. Anexo algumas imagens.',\n",
      " 'responses': {'business': [], 'customer': [], 'final': {}},\n",
      " 'review_ID': '102035475',\n",
      " 'tags': ['Estorno do valor pago',\n",
      "          'Caixas de som e fone de ouvido',\n",
      "          'Informática'],\n",
      " 'timeCaptured': '2020-03-27T12:16:27Z',\n",
      " 'title': 'Compra cancelada pelo vendedor - Estorno não efetuado',\n",
      " 'uf': 'PR'}\n"
     ]
    }
   ],
   "source": [
    "from util import agg_jsonls  # helper function\n",
    "from pprint import pprint\n",
    "\n",
    "reviewsRA = agg_jsonls(\"reclameaqui\")\n",
    "print(f\"We have a total of {len(reviewsRA)} reviews!\")\n",
    "pprint(reviewsRA[0])"
   ]
  },
  {
   "cell_type": "code",
   "execution_count": 3,
   "metadata": {},
   "outputs": [
    {
     "name": "stdout",
     "output_type": "stream",
     "text": [
      "{'business_name': '',\n",
      " 'city': 'São Paulo',\n",
      " 'datetime': '2020-03-21T13:31:00Z',\n",
      " 'description': 'Prezados,Ref.- o número do pedido COD 3CACRJ 99- produto - '\n",
      "                'sofá 3l albany sued areia - data da compra 16/02/2020- data '\n",
      "                'da suposta entrega 23/03/2020Liguei duas vezes na sexta feira '\n",
      "                'dia 20 de março para confirmar se receberia o produto que '\n",
      "                'comprei  - sofá.Não recebi nenhum protocolo de atendimento. '\n",
      "                'Não tenho o números destes atendimentos. Para a minha '\n",
      "                'surpresa fui informada no primeiro atendimento que o referido '\n",
      "                'sofá não seria entregue na data programada. Que a entrega '\n",
      "                'estaria programada para o dia 30 de março, e não dia 23 de '\n",
      "                'março conforme informação passada na compra do produto. A '\n",
      "                'ligação caiu.Na segunda ligação que realizei a atendente me '\n",
      "                'disse que houve um problema com a minha entrega e que não '\n",
      "                'tinha como resolver. Teria que esperar uma ligação para um '\n",
      "                'novo agendamento e que não havia previsão para a entrega.NÃO '\n",
      "                'RECEBI NENHUMA LIGAÇÃO.Tentei contato hoje, mas para a minha '\n",
      "                'surpresa o atendimento ao consumidor só acontece de 2a à 6a '\n",
      "                'feira.Estou horrorizada com a falta de respeito neste '\n",
      "                'caso.Sempre recebo uma confirmação da entrega, e se houve '\n",
      "                'algum problema sempre sou avisada com antecedência sobre a '\n",
      "                'nova data (isto já ocorreu antes - problemas ocorrem e não '\n",
      "                'sou louca de exigir tudo na mais perfeita ordem).Quero um '\n",
      "                'esclarecimento e uma data para entrega do produto que comprei '\n",
      "                'no dia 16 de fevereiro de 2020.O sofá será entregue?',\n",
      " 'responses': {'business': [{'content': 'Roberta, bom dia.Primeiramente '\n",
      "                                        'pedimos desculpas pelo ocorrido e '\n",
      "                                        'agradecemos o seu feedback ele é '\n",
      "                                        'importante para nós, assim '\n",
      "                                        'conseguimos medir os serviços '\n",
      "                                        'realizados pelos parceiros e tomarmos '\n",
      "                                        'as devidas providências para '\n",
      "                                        'atingirmos a sua '\n",
      "                                        'satisfação.Identificamos que sua '\n",
      "                                        'entrega foi realizada com sucesso. '\n",
      "                                        'Muito obrigado por nos acionar, peço, '\n",
      "                                        'por favor que avalie a experiência '\n",
      "                                        'que teve através do site Reclame '\n",
      "                                        'AQUI.Daiane RodriguesSAC Etna – '\n",
      "                                        'www.etna.com.br 3386-8757 (Celulares '\n",
      "                                        'e grandes '\n",
      "                                        'capitais)                     0800 '\n",
      "                                        '770 6771 (Demais localidades)',\n",
      "                             'datetime': '2020-03-24T10:52:00Z'}],\n",
      "               'customer': [],\n",
      "               'final': {'reply': [{'content': 'Foram muito rápidos.',\n",
      "                                    'datetime': '2020-03-24T12:34:00Z'}],\n",
      "                         'result': 'positive',\n",
      "                         'seals': []}},\n",
      " 'review_ID': '101820163',\n",
      " 'tags': ['Outro problema',\n",
      "          'Outro Tipo de produto/Serviço',\n",
      "          'Não encontrei meu problema'],\n",
      " 'timeCaptured': '2020-03-27T12:15:09Z',\n",
      " 'title': 'MUDANÇA DA DATA DE ENTREGA - sem avisar o consumidor.',\n",
      " 'uf': 'SP'}\n"
     ]
    }
   ],
   "source": [
    "# Get an example of responses > 0\n",
    "for review in reviewsRA:\n",
    "    if \"responses\" in  review and len(review[\"responses\"][\"business\"]) > 0:\n",
    "        pprint(review)\n",
    "        break"
   ]
  },
  {
   "cell_type": "code",
   "execution_count": 58,
   "metadata": {},
   "outputs": [
    {
     "data": {
      "image/png": "[encoded data removed]",
      "text/plain": [
       "<Figure size 432x288 with 1 Axes>"
      ]
     },
     "metadata": {
      "needs_background": "light"
     },
     "output_type": "display_data"
    }
   ],
   "source": [
    "# word_cloud_text_SW = ''.join(without_stop_words)\n",
    "\n",
    "# wordcloud = WordCloud(max_font_size=100, max_words=100, background_color=\"white\",\\\n",
    "#                           scale = 10,width=800, height=400).generate(word_cloud_text_SW)\n",
    "# plt.figure()\n",
    "# plt.imshow(wordcloud, interpolation=\"bilinear\")\n",
    "# plt.axis(\"off\")\n",
    "# plt.show()"
   ]
  },
  {
   "cell_type": "markdown",
   "metadata": {},
   "source": [
    "### Count of complaints with response"
   ]
  },
  {
   "cell_type": "code",
   "execution_count": 15,
   "metadata": {
    "jupyter": {
     "source_hidden": true
    }
   },
   "outputs": [
    {
     "name": "stdout",
     "output_type": "stream",
     "text": [
      "Total of reviews with response 40 [14.18%]\n",
      "Total of reviews with NO response 242 [85.82%]\n",
      "We have a total of 282 reviews!\n"
     ]
    }
   ],
   "source": [
    "reviews_with_response = [review for review in reviewsRA if \"responses\" in  review and len(review[\"responses\"][\"business\"]) > 0]\n",
    "reviews_with_no_response = [review for review in reviewsRA if \"responses\" in  review and len(review[\"responses\"][\"business\"]) == 0]\n",
    "\n",
    "print(f\"Total of reviews with response {len(reviews_with_response)} [{round((len(reviews_with_response)/len(reviewsRA))*100, 2)}%]\")\n",
    "print(f\"Total of reviews with NO response {len(reviews_with_no_response)} [{100- round((len(reviews_with_response)/len(reviewsRA))*100, 2)}%]\")\n",
    "print(f\"We have a total of {len(reviewsRA)} reviews!\")"
   ]
  },
  {
   "cell_type": "code",
   "execution_count": 6,
   "metadata": {
    "jupyter": {
     "source_hidden": true
    }
   },
   "outputs": [
    {
     "data": {
      "text/html": [
       "<div>\n",
       "<style scoped>\n",
       "    .dataframe tbody tr th:only-of-type {\n",
       "        vertical-align: middle;\n",
       "    }\n",
       "\n",
       "    .dataframe tbody tr th {\n",
       "        vertical-align: top;\n",
       "    }\n",
       "\n",
       "    .dataframe thead th {\n",
       "        text-align: right;\n",
       "    }\n",
       "</style>\n",
       "<table border=\"1\" class=\"dataframe\">\n",
       "  <thead>\n",
       "    <tr style=\"text-align: right;\">\n",
       "      <th></th>\n",
       "      <th>title</th>\n",
       "      <th>description</th>\n",
       "      <th>business_name</th>\n",
       "      <th>uf</th>\n",
       "      <th>city</th>\n",
       "      <th>review_ID</th>\n",
       "      <th>datetime</th>\n",
       "      <th>timeCaptured</th>\n",
       "      <th>days_to_resolution</th>\n",
       "      <th>days_to_first_contact</th>\n",
       "      <th>resolution_outcome</th>\n",
       "    </tr>\n",
       "  </thead>\n",
       "  <tbody>\n",
       "    <tr>\n",
       "      <td>0</td>\n",
       "      <td>Compra cancelada pelo vendedor - Estorno não e...</td>\n",
       "      <td>Fiz a compra no dia 09-03-2020No dia 18-03-202...</td>\n",
       "      <td>Casas Bahia - Loja Online</td>\n",
       "      <td>PR</td>\n",
       "      <td>Araucária</td>\n",
       "      <td>102035475</td>\n",
       "      <td>2020-03-27T09:15:00Z</td>\n",
       "      <td>2020-03-27T12:16:27Z</td>\n",
       "      <td>NaN</td>\n",
       "      <td>NaN</td>\n",
       "      <td>NaN</td>\n",
       "    </tr>\n",
       "    <tr>\n",
       "      <td>1</td>\n",
       "      <td>Pontos TudoAzul não entraram</td>\n",
       "      <td>Fiz 2 compras de R$ 699,00 cada na promoção de...</td>\n",
       "      <td>Casas Bahia - Loja Online</td>\n",
       "      <td>CE</td>\n",
       "      <td>Itapipoca</td>\n",
       "      <td>102030291</td>\n",
       "      <td>2020-03-26T23:44:00Z</td>\n",
       "      <td>2020-03-27T12:16:27Z</td>\n",
       "      <td>NaN</td>\n",
       "      <td>NaN</td>\n",
       "      <td>NaN</td>\n",
       "    </tr>\n",
       "    <tr>\n",
       "      <td>2</td>\n",
       "      <td>Possível [Editado pelo Reclame Aqui]</td>\n",
       "      <td>Olhando stories do meu instagram, até que uma ...</td>\n",
       "      <td>Casas Bahia - Loja Online</td>\n",
       "      <td>RJ</td>\n",
       "      <td>Rio de Janeiro</td>\n",
       "      <td>102030351</td>\n",
       "      <td>2020-03-26T23:47:00Z</td>\n",
       "      <td>2020-03-27T12:16:27Z</td>\n",
       "      <td>NaN</td>\n",
       "      <td>NaN</td>\n",
       "      <td>NaN</td>\n",
       "    </tr>\n",
       "    <tr>\n",
       "      <td>3</td>\n",
       "      <td>Fui informada que podia retirar o produto e fu...</td>\n",
       "      <td>Efetuei a compra do liquidificador mondial tur...</td>\n",
       "      <td>Casas Bahia - Loja Online</td>\n",
       "      <td>BA</td>\n",
       "      <td>Salvador</td>\n",
       "      <td>102030361</td>\n",
       "      <td>2020-03-26T23:48:00Z</td>\n",
       "      <td>2020-03-27T12:16:27Z</td>\n",
       "      <td>NaN</td>\n",
       "      <td>NaN</td>\n",
       "      <td>NaN</td>\n",
       "    </tr>\n",
       "    <tr>\n",
       "      <td>4</td>\n",
       "      <td>Atraso na Entrega</td>\n",
       "      <td>Eu fiz uma compra pelo site das Casas Bahia no...</td>\n",
       "      <td>Casas Bahia - Loja Online</td>\n",
       "      <td>BA</td>\n",
       "      <td>Salvador</td>\n",
       "      <td>102030421</td>\n",
       "      <td>2020-03-26T23:52:00Z</td>\n",
       "      <td>2020-03-27T12:16:27Z</td>\n",
       "      <td>NaN</td>\n",
       "      <td>NaN</td>\n",
       "      <td>NaN</td>\n",
       "    </tr>\n",
       "  </tbody>\n",
       "</table>\n",
       "</div>"
      ],
      "text/plain": [
       "                                               title  \\\n",
       "0  Compra cancelada pelo vendedor - Estorno não e...   \n",
       "1                       Pontos TudoAzul não entraram   \n",
       "2               Possível [Editado pelo Reclame Aqui]   \n",
       "3  Fui informada que podia retirar o produto e fu...   \n",
       "4                                  Atraso na Entrega   \n",
       "\n",
       "                                         description  \\\n",
       "0  Fiz a compra no dia 09-03-2020No dia 18-03-202...   \n",
       "1  Fiz 2 compras de R$ 699,00 cada na promoção de...   \n",
       "2  Olhando stories do meu instagram, até que uma ...   \n",
       "3  Efetuei a compra do liquidificador mondial tur...   \n",
       "4  Eu fiz uma compra pelo site das Casas Bahia no...   \n",
       "\n",
       "               business_name  uf            city  review_ID  \\\n",
       "0  Casas Bahia - Loja Online  PR       Araucária  102035475   \n",
       "1  Casas Bahia - Loja Online  CE       Itapipoca  102030291   \n",
       "2  Casas Bahia - Loja Online  RJ  Rio de Janeiro  102030351   \n",
       "3  Casas Bahia - Loja Online  BA        Salvador  102030361   \n",
       "4  Casas Bahia - Loja Online  BA        Salvador  102030421   \n",
       "\n",
       "               datetime          timeCaptured  days_to_resolution  \\\n",
       "0  2020-03-27T09:15:00Z  2020-03-27T12:16:27Z                 NaN   \n",
       "1  2020-03-26T23:44:00Z  2020-03-27T12:16:27Z                 NaN   \n",
       "2  2020-03-26T23:47:00Z  2020-03-27T12:16:27Z                 NaN   \n",
       "3  2020-03-26T23:48:00Z  2020-03-27T12:16:27Z                 NaN   \n",
       "4  2020-03-26T23:52:00Z  2020-03-27T12:16:27Z                 NaN   \n",
       "\n",
       "   days_to_first_contact resolution_outcome  \n",
       "0                    NaN                NaN  \n",
       "1                    NaN                NaN  \n",
       "2                    NaN                NaN  \n",
       "3                    NaN                NaN  \n",
       "4                    NaN                NaN  "
      ]
     },
     "execution_count": 6,
     "metadata": {},
     "output_type": "execute_result"
    }
   ],
   "source": [
    "from datetime import datetime\n",
    "import numpy as np\n",
    "import pandas as pd\n",
    "\n",
    "\n",
    "def extract_days_to_resolution(review):\n",
    "    if \"datetime\" in review and \"reply\" in review[\"responses\"][\"final\"]:\n",
    "        init_dt = datetime.strptime(review[\"datetime\"], '%Y-%m-%dT%H:%M:%SZ')\n",
    "        final_ans_dt = datetime.strptime(review[\"responses\"][\"final\"][\"reply\"][0][\"datetime\"], '%Y-%m-%dT%H:%M:%SZ')\n",
    "        return (final_ans_dt - init_dt).days\n",
    "    return np.nan\n",
    "\n",
    "\n",
    "def extract_days_to_first_contact(review):\n",
    "    if \"datetime\" in review and \"business\" in review[\"responses\"] and len(review[\"responses\"][\"business\"]) > 0:\n",
    "        init_dt = datetime.strptime(review[\"datetime\"], '%Y-%m-%dT%H:%M:%SZ')\n",
    "        final_ans_dt = datetime.strptime(review[\"responses\"][\"business\"][0][\"datetime\"], '%Y-%m-%dT%H:%M:%SZ')\n",
    "        return (final_ans_dt - init_dt).days\n",
    "    return np.nan\n",
    "\n",
    "\n",
    "def format_RA_to_df(review):\n",
    "    cols_for_df = ['title', 'description', 'business_name', 'uf', 'city', 'review_ID', 'datetime', 'timeCaptured']\n",
    "    r_cp = {col: review[col] for col in cols_for_df if col in review}\n",
    "    r_cp[\"days_to_resolution\"] = extract_days_to_resolution(review)\n",
    "    r_cp[\"days_to_first_contact\"] = extract_days_to_first_contact(review)\n",
    "    r_cp[\"resolution_outcome\"] = review[\"responses\"][\"final\"][\"result\"] if \"result\" in review[\"responses\"][\"final\"] else np.nan\n",
    "    return r_cp\n",
    "    \n",
    "\n",
    "dff = pd.DataFrame([format_RA_to_df(row) for row in reviewsRA])\n",
    "dff.head()\n"
   ]
  },
  {
   "cell_type": "markdown",
   "metadata": {},
   "source": [
    "**Correlation between average response time and whether or not a response was positive/negative.**\n",
    "\n",
    "We lack more data where we have a \"negative\" resolution, but for those cases where we have a resolution we see that on average that takes one or two days to close.\n",
    "We might dig deeper to understand what features these kind of complaints have in common."
   ]
  },
  {
   "cell_type": "code",
   "execution_count": 7,
   "metadata": {},
   "outputs": [
    {
     "data": {
      "text/html": [
       "<div>\n",
       "<style scoped>\n",
       "    .dataframe tbody tr th:only-of-type {\n",
       "        vertical-align: middle;\n",
       "    }\n",
       "\n",
       "    .dataframe tbody tr th {\n",
       "        vertical-align: top;\n",
       "    }\n",
       "\n",
       "    .dataframe thead th {\n",
       "        text-align: right;\n",
       "    }\n",
       "</style>\n",
       "<table border=\"1\" class=\"dataframe\">\n",
       "  <thead>\n",
       "    <tr style=\"text-align: right;\">\n",
       "      <th></th>\n",
       "      <th>days_to_resolution</th>\n",
       "      <th>days_to_first_contact</th>\n",
       "    </tr>\n",
       "    <tr>\n",
       "      <th>resolution_outcome</th>\n",
       "      <th></th>\n",
       "      <th></th>\n",
       "    </tr>\n",
       "  </thead>\n",
       "  <tbody>\n",
       "    <tr>\n",
       "      <td>positive</td>\n",
       "      <td>1.833333</td>\n",
       "      <td>1.666667</td>\n",
       "    </tr>\n",
       "  </tbody>\n",
       "</table>\n",
       "</div>"
      ],
      "text/plain": [
       "                    days_to_resolution  days_to_first_contact\n",
       "resolution_outcome                                           \n",
       "positive                      1.833333               1.666667"
      ]
     },
     "execution_count": 7,
     "metadata": {},
     "output_type": "execute_result"
    }
   ],
   "source": [
    "dff.resolution_outcome = pd.Categorical(dff.resolution_outcome)\n",
    "dff.groupby(\"resolution_outcome\").mean()"
   ]
  },
  {
   "cell_type": "markdown",
   "metadata": {},
   "source": [
    "**Average time to company response and evaluating experience.**\n",
    "\n",
    "On average, companies take 3 days to give the first reply. Also, when aggregating by days before contact, we have a hint that positive responses appear more frequently when the contact is made ealier on."
   ]
  },
  {
   "cell_type": "code",
   "execution_count": 8,
   "metadata": {},
   "outputs": [
    {
     "data": {
      "text/html": [
       "<div>\n",
       "<style scoped>\n",
       "    .dataframe tbody tr th:only-of-type {\n",
       "        vertical-align: middle;\n",
       "    }\n",
       "\n",
       "    .dataframe tbody tr th {\n",
       "        vertical-align: top;\n",
       "    }\n",
       "\n",
       "    .dataframe thead th {\n",
       "        text-align: right;\n",
       "    }\n",
       "</style>\n",
       "<table border=\"1\" class=\"dataframe\">\n",
       "  <thead>\n",
       "    <tr style=\"text-align: right;\">\n",
       "      <th></th>\n",
       "      <th>days_to_resolution</th>\n",
       "      <th>days_to_first_contact</th>\n",
       "    </tr>\n",
       "  </thead>\n",
       "  <tbody>\n",
       "    <tr>\n",
       "      <td>count</td>\n",
       "      <td>6.000000</td>\n",
       "      <td>40.000000</td>\n",
       "    </tr>\n",
       "    <tr>\n",
       "      <td>mean</td>\n",
       "      <td>1.833333</td>\n",
       "      <td>3.025000</td>\n",
       "    </tr>\n",
       "    <tr>\n",
       "      <td>std</td>\n",
       "      <td>2.714160</td>\n",
       "      <td>2.485728</td>\n",
       "    </tr>\n",
       "    <tr>\n",
       "      <td>min</td>\n",
       "      <td>0.000000</td>\n",
       "      <td>0.000000</td>\n",
       "    </tr>\n",
       "    <tr>\n",
       "      <td>25%</td>\n",
       "      <td>0.000000</td>\n",
       "      <td>1.000000</td>\n",
       "    </tr>\n",
       "    <tr>\n",
       "      <td>50%</td>\n",
       "      <td>1.000000</td>\n",
       "      <td>3.000000</td>\n",
       "    </tr>\n",
       "    <tr>\n",
       "      <td>75%</td>\n",
       "      <td>2.000000</td>\n",
       "      <td>5.250000</td>\n",
       "    </tr>\n",
       "    <tr>\n",
       "      <td>max</td>\n",
       "      <td>7.000000</td>\n",
       "      <td>8.000000</td>\n",
       "    </tr>\n",
       "  </tbody>\n",
       "</table>\n",
       "</div>"
      ],
      "text/plain": [
       "       days_to_resolution  days_to_first_contact\n",
       "count            6.000000              40.000000\n",
       "mean             1.833333               3.025000\n",
       "std              2.714160               2.485728\n",
       "min              0.000000               0.000000\n",
       "25%              0.000000               1.000000\n",
       "50%              1.000000               3.000000\n",
       "75%              2.000000               5.250000\n",
       "max              7.000000               8.000000"
      ]
     },
     "execution_count": 8,
     "metadata": {},
     "output_type": "execute_result"
    }
   ],
   "source": [
    "dff.describe()"
   ]
  },
  {
   "cell_type": "code",
   "execution_count": 9,
   "metadata": {},
   "outputs": [
    {
     "data": {
      "text/plain": [
       "days_to_first_contact\n",
       "0.0    3\n",
       "1.0    0\n",
       "2.0    2\n",
       "3.0    0\n",
       "4.0    0\n",
       "5.0    0\n",
       "6.0    1\n",
       "7.0    0\n",
       "8.0    0\n",
       "Name: resolution_outcome, dtype: int64"
      ]
     },
     "execution_count": 9,
     "metadata": {},
     "output_type": "execute_result"
    }
   ],
   "source": [
    "dff.groupby(\"days_to_first_contact\").resolution_outcome.count()"
   ]
  },
  {
   "cell_type": "code",
   "execution_count": 10,
   "metadata": {},
   "outputs": [
    {
     "name": "stdout",
     "output_type": "stream",
     "text": [
      "Total of answered complaints : 14.18%\n"
     ]
    }
   ],
   "source": [
    "answered_perc = round(dff.days_to_first_contact.count()/dff.shape[0] * 100, 2) \n",
    "print(f\"Total of answered complaints : {answered_perc}%\")"
   ]
  },
  {
   "cell_type": "markdown",
   "metadata": {},
   "source": [
    "**Percentage of answered complaints by store**"
   ]
  },
  {
   "cell_type": "code",
   "execution_count": 11,
   "metadata": {},
   "outputs": [
    {
     "name": "stdout",
     "output_type": "stream",
     "text": [
      "business_name\n",
      "                                 20.00\n",
      "Casas Bahia - Loja Online         0.00\n",
      "Casas Bahia - Lojas Físicas       0.00\n",
      "Etna Home Store                  22.22\n",
      "Etna Home Store - Loja Online    13.04\n",
      "MadeiraMadeira                    0.00\n",
      "Mobly                            41.38\n",
      "Tok&Stok - Loja Física           34.29\n",
      "Tok&Stok - Loja Online            6.38\n",
      "dtype: float64\n"
     ]
    }
   ],
   "source": [
    "aa = dff.groupby(\"business_name\").count()\n",
    "aa = round(aa.days_to_first_contact/aa.review_ID * 100, 2) \n",
    "pprint(aa)"
   ]
  },
  {
   "cell_type": "markdown",
   "metadata": {},
   "source": [
    "**Investigation of ' ' stores**\n",
    "\n",
    "We see that it must been some sort of bug while scraping data from RA. We have descriptions pointing towards different stores, so it is not a single store problem."
   ]
  },
  {
   "cell_type": "code",
   "execution_count": 12,
   "metadata": {},
   "outputs": [
    {
     "data": {
      "text/html": [
       "<div>\n",
       "<style scoped>\n",
       "    .dataframe tbody tr th:only-of-type {\n",
       "        vertical-align: middle;\n",
       "    }\n",
       "\n",
       "    .dataframe tbody tr th {\n",
       "        vertical-align: top;\n",
       "    }\n",
       "\n",
       "    .dataframe thead th {\n",
       "        text-align: right;\n",
       "    }\n",
       "</style>\n",
       "<table border=\"1\" class=\"dataframe\">\n",
       "  <thead>\n",
       "    <tr style=\"text-align: right;\">\n",
       "      <th></th>\n",
       "      <th>title</th>\n",
       "      <th>description</th>\n",
       "      <th>business_name</th>\n",
       "      <th>uf</th>\n",
       "      <th>city</th>\n",
       "      <th>review_ID</th>\n",
       "      <th>datetime</th>\n",
       "      <th>timeCaptured</th>\n",
       "      <th>days_to_resolution</th>\n",
       "      <th>days_to_first_contact</th>\n",
       "      <th>resolution_outcome</th>\n",
       "    </tr>\n",
       "  </thead>\n",
       "  <tbody>\n",
       "    <tr>\n",
       "      <td>23</td>\n",
       "      <td>MUDANÇA DA DATA DE ENTREGA - sem avisar o cons...</td>\n",
       "      <td>Prezados,Ref.- o número do pedido COD 3CACRJ 9...</td>\n",
       "      <td></td>\n",
       "      <td>SP</td>\n",
       "      <td>São Paulo</td>\n",
       "      <td>101820163</td>\n",
       "      <td>2020-03-21T13:31:00Z</td>\n",
       "      <td>2020-03-27T12:15:09Z</td>\n",
       "      <td>2.0</td>\n",
       "      <td>2.0</td>\n",
       "      <td>positive</td>\n",
       "    </tr>\n",
       "    <tr>\n",
       "      <td>63</td>\n",
       "      <td>mercadoria deixada na rua</td>\n",
       "      <td>Realizei uma compra no dia 16/03 com um frete ...</td>\n",
       "      <td></td>\n",
       "      <td>SP</td>\n",
       "      <td>São Paulo</td>\n",
       "      <td>101999321</td>\n",
       "      <td>2020-03-26T11:59:00Z</td>\n",
       "      <td>2020-03-27T12:11:31Z</td>\n",
       "      <td>NaN</td>\n",
       "      <td>NaN</td>\n",
       "      <td>NaN</td>\n",
       "    </tr>\n",
       "    <tr>\n",
       "      <td>78</td>\n",
       "      <td>Não vieram entregar meu pedido e disseram que ...</td>\n",
       "      <td>Deram o prazo de entrega para o dia 26/03, ai ...</td>\n",
       "      <td></td>\n",
       "      <td>NaN</td>\n",
       "      <td>NaN</td>\n",
       "      <td>102025233</td>\n",
       "      <td>2020-03-26T20:47:00Z</td>\n",
       "      <td>2020-03-27T12:11:31Z</td>\n",
       "      <td>NaN</td>\n",
       "      <td>NaN</td>\n",
       "      <td>NaN</td>\n",
       "    </tr>\n",
       "    <tr>\n",
       "      <td>105</td>\n",
       "      <td>Atraso na entrega.</td>\n",
       "      <td>Comprei produto climatizador Cli70 29/11/2019 ...</td>\n",
       "      <td></td>\n",
       "      <td>MG</td>\n",
       "      <td>Uberlândia</td>\n",
       "      <td>102025601</td>\n",
       "      <td>2020-03-26T20:56:00Z</td>\n",
       "      <td>2020-03-27T12:17:40Z</td>\n",
       "      <td>NaN</td>\n",
       "      <td>NaN</td>\n",
       "      <td>NaN</td>\n",
       "    </tr>\n",
       "    <tr>\n",
       "      <td>108</td>\n",
       "      <td>Descaso com consumidor</td>\n",
       "      <td>Estive na casa Bahia 2 de Lorena e comprei 2 r...</td>\n",
       "      <td></td>\n",
       "      <td>SP</td>\n",
       "      <td>Lorena</td>\n",
       "      <td>102021395</td>\n",
       "      <td>2020-03-26T19:05:00Z</td>\n",
       "      <td>2020-03-27T12:17:44Z</td>\n",
       "      <td>NaN</td>\n",
       "      <td>NaN</td>\n",
       "      <td>NaN</td>\n",
       "    </tr>\n",
       "    <tr>\n",
       "      <td>120</td>\n",
       "      <td>CARNÊ COM DADOS DE CODIGO DE BARRAS DIVERGENTE</td>\n",
       "      <td>URGENTE!!!!!!!!!!!!!DIVERGENCIA NO CODIGO DE B...</td>\n",
       "      <td></td>\n",
       "      <td>PE</td>\n",
       "      <td>Recife</td>\n",
       "      <td>102033995</td>\n",
       "      <td>2020-03-27T08:19:00Z</td>\n",
       "      <td>2020-03-27T12:17:44Z</td>\n",
       "      <td>NaN</td>\n",
       "      <td>NaN</td>\n",
       "      <td>NaN</td>\n",
       "    </tr>\n",
       "    <tr>\n",
       "      <td>138</td>\n",
       "      <td>MÁ QUALIDADE</td>\n",
       "      <td>Comprei um guarda-roupa das casas bahia no mês...</td>\n",
       "      <td></td>\n",
       "      <td>SP</td>\n",
       "      <td>São Paulo</td>\n",
       "      <td>102010421</td>\n",
       "      <td>2020-03-26T15:24:00Z</td>\n",
       "      <td>2020-03-27T12:18:14Z</td>\n",
       "      <td>NaN</td>\n",
       "      <td>NaN</td>\n",
       "      <td>NaN</td>\n",
       "    </tr>\n",
       "    <tr>\n",
       "      <td>145</td>\n",
       "      <td>Até o momento não resolveram meu problema</td>\n",
       "      <td>fazem mais de 15 dias e até agora não vinheram...</td>\n",
       "      <td></td>\n",
       "      <td>PB</td>\n",
       "      <td>João Pessoa</td>\n",
       "      <td>102019215</td>\n",
       "      <td>2020-03-26T18:18:00Z</td>\n",
       "      <td>2020-03-27T12:18:14Z</td>\n",
       "      <td>NaN</td>\n",
       "      <td>NaN</td>\n",
       "      <td>NaN</td>\n",
       "    </tr>\n",
       "    <tr>\n",
       "      <td>204</td>\n",
       "      <td>JÁ PAGUEI A FATURA E VÃO NEGATIVAR O MEU NOMVE</td>\n",
       "      <td>Fiz uma compra em novembro de 2019 na loja da ...</td>\n",
       "      <td></td>\n",
       "      <td>RJ</td>\n",
       "      <td>Rio de Janeiro</td>\n",
       "      <td>101981957</td>\n",
       "      <td>2020-03-25T21:20:00Z</td>\n",
       "      <td>2020-03-27T12:08:14Z</td>\n",
       "      <td>NaN</td>\n",
       "      <td>NaN</td>\n",
       "      <td>NaN</td>\n",
       "    </tr>\n",
       "    <tr>\n",
       "      <td>263</td>\n",
       "      <td>Capa do encosto do sofá encolheu</td>\n",
       "      <td>Olá, boa tarde.Comprei um sofá na TokStok ha m...</td>\n",
       "      <td></td>\n",
       "      <td>SP</td>\n",
       "      <td>São Paulo</td>\n",
       "      <td>101827819</td>\n",
       "      <td>2020-03-21T18:33:00Z</td>\n",
       "      <td>2020-03-27T12:10:14Z</td>\n",
       "      <td>NaN</td>\n",
       "      <td>5.0</td>\n",
       "      <td>NaN</td>\n",
       "    </tr>\n",
       "  </tbody>\n",
       "</table>\n",
       "</div>"
      ],
      "text/plain": [
       "                                                 title  \\\n",
       "23   MUDANÇA DA DATA DE ENTREGA - sem avisar o cons...   \n",
       "63                           mercadoria deixada na rua   \n",
       "78   Não vieram entregar meu pedido e disseram que ...   \n",
       "105                                 Atraso na entrega.   \n",
       "108                             Descaso com consumidor   \n",
       "120     CARNÊ COM DADOS DE CODIGO DE BARRAS DIVERGENTE   \n",
       "138                                       MÁ QUALIDADE   \n",
       "145          Até o momento não resolveram meu problema   \n",
       "204     JÁ PAGUEI A FATURA E VÃO NEGATIVAR O MEU NOMVE   \n",
       "263                   Capa do encosto do sofá encolheu   \n",
       "\n",
       "                                           description business_name   uf  \\\n",
       "23   Prezados,Ref.- o número do pedido COD 3CACRJ 9...                 SP   \n",
       "63   Realizei uma compra no dia 16/03 com um frete ...                 SP   \n",
       "78   Deram o prazo de entrega para o dia 26/03, ai ...                NaN   \n",
       "105  Comprei produto climatizador Cli70 29/11/2019 ...                 MG   \n",
       "108  Estive na casa Bahia 2 de Lorena e comprei 2 r...                 SP   \n",
       "120  URGENTE!!!!!!!!!!!!!DIVERGENCIA NO CODIGO DE B...                 PE   \n",
       "138  Comprei um guarda-roupa das casas bahia no mês...                 SP   \n",
       "145  fazem mais de 15 dias e até agora não vinheram...                 PB   \n",
       "204  Fiz uma compra em novembro de 2019 na loja da ...                 RJ   \n",
       "263  Olá, boa tarde.Comprei um sofá na TokStok ha m...                 SP   \n",
       "\n",
       "               city  review_ID              datetime          timeCaptured  \\\n",
       "23        São Paulo  101820163  2020-03-21T13:31:00Z  2020-03-27T12:15:09Z   \n",
       "63        São Paulo  101999321  2020-03-26T11:59:00Z  2020-03-27T12:11:31Z   \n",
       "78              NaN  102025233  2020-03-26T20:47:00Z  2020-03-27T12:11:31Z   \n",
       "105      Uberlândia  102025601  2020-03-26T20:56:00Z  2020-03-27T12:17:40Z   \n",
       "108          Lorena  102021395  2020-03-26T19:05:00Z  2020-03-27T12:17:44Z   \n",
       "120          Recife  102033995  2020-03-27T08:19:00Z  2020-03-27T12:17:44Z   \n",
       "138       São Paulo  102010421  2020-03-26T15:24:00Z  2020-03-27T12:18:14Z   \n",
       "145     João Pessoa  102019215  2020-03-26T18:18:00Z  2020-03-27T12:18:14Z   \n",
       "204  Rio de Janeiro  101981957  2020-03-25T21:20:00Z  2020-03-27T12:08:14Z   \n",
       "263       São Paulo  101827819  2020-03-21T18:33:00Z  2020-03-27T12:10:14Z   \n",
       "\n",
       "     days_to_resolution  days_to_first_contact resolution_outcome  \n",
       "23                  2.0                    2.0           positive  \n",
       "63                  NaN                    NaN                NaN  \n",
       "78                  NaN                    NaN                NaN  \n",
       "105                 NaN                    NaN                NaN  \n",
       "108                 NaN                    NaN                NaN  \n",
       "120                 NaN                    NaN                NaN  \n",
       "138                 NaN                    NaN                NaN  \n",
       "145                 NaN                    NaN                NaN  \n",
       "204                 NaN                    NaN                NaN  \n",
       "263                 NaN                    5.0                NaN  "
      ]
     },
     "execution_count": 12,
     "metadata": {},
     "output_type": "execute_result"
    }
   ],
   "source": [
    "dff.loc[dff[\"business_name\"]=='']"
   ]
  },
  {
   "cell_type": "markdown",
   "metadata": {},
   "source": [
    "**Tag analysis**"
   ]
  },
  {
   "cell_type": "code",
   "execution_count": 3,
   "metadata": {},
   "outputs": [
    {
     "name": "stdout",
     "output_type": "stream",
     "text": [
      "We have 89 unique tags!\n",
      "{'Aromatizantes e Difusores',\n",
      " 'Assistência técnica e Garantia',\n",
      " 'Atraso na entrega',\n",
      " 'Brinquedos e jogos',\n",
      " 'Caixas de som e fone de ouvido',\n",
      " 'Cama, Mesa e Banho',\n",
      " 'Camas e camas-box',\n",
      " 'Canais de Atendimento',\n",
      " 'Celular',\n",
      " 'Celulares e Smartphones',\n",
      " 'Climatizador de ar',\n",
      " 'Colchões',\n",
      " 'Cooktop',\n",
      " 'Cortina',\n",
      " 'Decoração',\n",
      " 'Demora no reparo',\n",
      " 'Desgaste prematuro',\n",
      " 'Divergência de valores',\n",
      " 'Eletrodomésticos',\n",
      " 'Eletroeletrônicos',\n",
      " 'Eletroportáteis',\n",
      " 'Entrega',\n",
      " 'Equipe de Atendimento',\n",
      " 'Estofamento rasgado',\n",
      " 'Estorno do valor pago',\n",
      " 'Falta de peças',\n",
      " 'Geladeira-Refrigerador',\n",
      " 'Iluminação e Elétrica',\n",
      " 'Informática',\n",
      " 'Jogo de cama',\n",
      " 'Lençol',\n",
      " 'Liquidificadores',\n",
      " 'Lixeiras',\n",
      " 'Maquiagem de preço',\n",
      " 'Marketplace',\n",
      " 'Mau Atendimento',\n",
      " 'Mau atendimento no SAC',\n",
      " 'Mesa quebrada',\n",
      " 'Mesas e Cadeiras',\n",
      " 'Montagem',\n",
      " 'Má qualidade do produto',\n",
      " 'Móveis',\n",
      " 'Móveis Modulados',\n",
      " 'Móveis em Geral',\n",
      " 'Móveis para Escritório',\n",
      " 'Móveis para Jardim e Piscina',\n",
      " 'Não atende',\n",
      " 'Não consigo agendar',\n",
      " 'Não encontrei meu problema',\n",
      " 'Não gela',\n",
      " 'Não liga',\n",
      " 'Organizadores de cozinha',\n",
      " 'Outro Tipo de produto/Serviço',\n",
      " 'Outro problema',\n",
      " 'Panela',\n",
      " 'Perdendo fio',\n",
      " 'Pernas quebradas',\n",
      " 'Peças erradas',\n",
      " 'Peças quebradas',\n",
      " 'Plafon',\n",
      " 'Porta Livros',\n",
      " 'Portas',\n",
      " 'Portas e Janelas',\n",
      " 'Potes',\n",
      " 'Prateleiras e cantoneiras',\n",
      " 'Problema com garantia estendida',\n",
      " 'Problemas com o Atendimento',\n",
      " 'Problemas com o Site',\n",
      " 'Problemas na finalização da compra',\n",
      " 'Produto com defeito',\n",
      " 'Produto com peças faltando',\n",
      " 'Produto errado',\n",
      " 'Produto indisponível',\n",
      " 'Produto não recebido',\n",
      " 'Propaganda Enganosa',\n",
      " 'Propaganda enganosa',\n",
      " 'Pé quebrado',\n",
      " 'Qualidade do Produto',\n",
      " 'Site fora do ar-Lento',\n",
      " 'Sofás e Estofados',\n",
      " 'Tapetes',\n",
      " 'Tapetes e Carpetes',\n",
      " 'Tecido de baixa qualidade',\n",
      " 'Toalhas',\n",
      " 'Travesseiros',\n",
      " 'Troca-Devolução de produto',\n",
      " 'Utilidades domésticas',\n",
      " 'Valor de frete',\n",
      " 'Ventiladores e Circuladores de ar'}\n"
     ]
    }
   ],
   "source": [
    "unique_tags = set()\n",
    "for review in reviewsRA:\n",
    "    if \"tags\" in review:\n",
    "        for tag in review[\"tags\"]:\n",
    "            unique_tags.add(tag)\n",
    "\n",
    "print(f\"We have {len(unique_tags)} unique tags!\")\n",
    "pprint(unique_tags)"
   ]
  },
  {
   "cell_type": "markdown",
   "metadata": {},
   "source": [
    "## Google Business Store Dataset"
   ]
  },
  {
   "cell_type": "code",
   "execution_count": 19,
   "metadata": {},
   "outputs": [
    {
     "name": "stdout",
     "output_type": "stream",
     "text": [
      "We have a total of 40 reviews!\n",
      "{'caption': '',\n",
      " 'id_review': 'ChZDSUhNMG9nS0VJQ0FnSUNjemJPSkR3EAEaFkNra0VkOHhNczE2WmVhRXRtWWZoanc',\n",
      " 'n_photo_user': 0,\n",
      " 'n_review_user': 0,\n",
      " 'rating': 4.0,\n",
      " 'relative_date': 'um dia atrás',\n",
      " 'retrieval_date': '2020-03-21T15:38:25Z',\n",
      " 'url_user': 'https://www.google.com/maps/contrib/112092464143644397071?hl=pt-BR',\n",
      " 'username': 'Maria Gorete Veras Martins de Carvalho'}\n"
     ]
    }
   ],
   "source": [
    "reviewsGB = agg_jsonls(\"gbusiness\")\n",
    "print(f\"We have a total of {len(reviewsGB)} reviews!\")\n",
    "pprint(reviewsGB[0])"
   ]
  },
  {
   "cell_type": "code",
   "execution_count": 22,
   "metadata": {},
   "outputs": [
    {
     "name": "stdout",
     "output_type": "stream",
     "text": [
      "Reviews with caption: 25.0%\n"
     ]
    }
   ],
   "source": [
    "caption_reviews = [i for i in reviewsGB if len(i[\"caption\"]) > 0]\n",
    "\n",
    "print(f\"Reviews with caption: {round((len(caption_reviews) / len(reviewsGB))*100,2)}%\")"
   ]
  },
  {
   "cell_type": "code",
   "execution_count": 24,
   "metadata": {},
   "outputs": [
    {
     "name": "stdout",
     "output_type": "stream",
     "text": [
      "[{'caption': '(Tradução do Google) Está bem  (Original) Ok',\n",
      "  'id_review': 'ChdDSUhNMG9nS0VJQ0FnSUNjMWVLaS1RRRABGhZkOTdseko4VG4yVzZyYUVPWkQ0TTln',\n",
      "  'n_photo_user': 0,\n",
      "  'n_review_user': 0,\n",
      "  'rating': 5.0,\n",
      "  'relative_date': '3 dias atrás',\n",
      "  'retrieval_date': '2020-03-21T15:38:25Z',\n",
      "  'url_user': 'https://www.google.com/maps/contrib/108919364759095568849?hl=pt-BR',\n",
      "  'username': 'roberto boni'},\n",
      " {'caption': 'Sempre sou bem atendida.',\n",
      "  'id_review': 'ChdDSUhNMG9nS0VJQ0FnSUNjNVpuMW5RRRABGhZzcjhXRmlIYi1zaXAzLURfSDJuVHVn',\n",
      "  'n_photo_user': 0,\n",
      "  'n_review_user': 1,\n",
      "  'rating': 5.0,\n",
      "  'relative_date': '3 dias atrás',\n",
      "  'retrieval_date': '2020-03-21T15:38:25Z',\n",
      "  'url_user': 'https://www.google.com/maps/contrib/102183203056207578960?hl=pt-BR',\n",
      "  'username': 'Rauana Cristina Salas Calvo'},\n",
      " {'caption': 'gostp somente dos eletrodomésticos',\n",
      "  'id_review': 'ChdDSUhNMG9nS0VJQ0FnSUNjcVlDem1RRRABGhZscGN4amx3NnJsSy1jdS1DbWxMbG9n',\n",
      "  'n_photo_user': 0,\n",
      "  'n_review_user': 20,\n",
      "  'rating': 4.0,\n",
      "  'relative_date': '6 dias atrás',\n",
      "  'retrieval_date': '2020-03-21T15:38:25Z',\n",
      "  'url_user': 'https://www.google.com/maps/contrib/113547853182606933472?hl=pt-BR',\n",
      "  'username': 'Thayane Vitoria'}]\n"
     ]
    }
   ],
   "source": [
    "pprint(caption_reviews[0:3])"
   ]
  },
  {
   "cell_type": "code",
   "execution_count": 28,
   "metadata": {},
   "outputs": [
    {
     "name": "stdout",
     "output_type": "stream",
     "text": [
      "Average grade 4.25\n"
     ]
    }
   ],
   "source": [
    "# Average rates\n",
    "print(f\"Average grade {np.average([i['rating'] for i in reviewsGB])}\")\n"
   ]
  },
  {
   "cell_type": "markdown",
   "metadata": {},
   "source": [
    "### General impressions\n",
    "Here we have less data to work with and most of them does not include a caption/description, so we might need a larger number of points to make a deep analysis. \n",
    "However, since this is not a complaint focused platform, we expect to have more positive responses from the users (and that can be seen by the 4.25 average rating of our sample data) - allowing us to draw a better overall picture of the store.\n"
   ]
  }
 ],
 "metadata": {
  "kernelspec": {
   "display_name": "Python 3",
   "language": "python",
   "name": "python3"
  },
  "language_info": {
   "codemirror_mode": {
    "name": "ipython",
    "version": 3
   },
   "file_extension": ".py",
   "mimetype": "text/x-python",
   "name": "python",
   "nbconvert_exporter": "python",
   "pygments_lexer": "ipython3",
   "version": "3.7.4"
  }
 },
 "nbformat": 4,
 "nbformat_minor": 4
}
