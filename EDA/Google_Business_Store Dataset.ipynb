{
 "cells": [
  {
   "cell_type": "markdown",
   "metadata": {},
   "source": [
    "# Google Business Store Dataset\n"
   ]
  },
  {
   "cell_type": "markdown",
   "metadata": {},
   "source": [
    "Author: Natalia Mesquita\n",
    "    \n",
    "Status: Done\n",
    "    \n",
    "Goal: Explore Google Business dataset adding some first stats. "
   ]
  },
  {
   "cell_type": "code",
   "execution_count": 3,
   "metadata": {},
   "outputs": [],
   "source": [
    "from util import agg_jsonls  # helper function\n",
    "from pprint import pprint\n",
    "import numpy as np\n",
    "import pandas as pd"
   ]
  },
  {
   "cell_type": "code",
   "execution_count": 4,
   "metadata": {},
   "outputs": [
    {
     "name": "stdout",
     "output_type": "stream",
     "text": [
      "We have a total of 142099 reviews!\n",
      "{'caption': 'Muito boa!  O Cleversom nos atendeu com muita empatia e atenção!',\n",
      " 'geo_location': {'lat': '-23.5448085', 'long': '-46.5175485'},\n",
      " 'id_review': 'ChdDSUhNMG9nS0VJQ0FnSUNjdGN1SHJnRRABGhY3RXo1WS1Td0tMN3Fmdzh4UmQ1QjR3',\n",
      " 'n_photo_user': 0,\n",
      " 'n_review_user': 0,\n",
      " 'rating': 4.0,\n",
      " 'relative_date': '3 semanas atrás',\n",
      " 'retrieval_date': '2020-04-13T17:25:36Z',\n",
      " 'store': 'casas-bahia',\n",
      " 'url_user': 'https://www.google.com/maps/contrib/109717936372979710465?hl=pt-BR',\n",
      " 'username': 'Veranilce Carelli'}\n"
     ]
    }
   ],
   "source": [
    "#Print first review\n",
    "reviewsGB = agg_jsonls(\"gbusiness\")\n",
    "print(f\"We have a total of {len(reviewsGB)} reviews!\")\n",
    "pprint(reviewsGB[0])"
   ]
  },
  {
   "cell_type": "code",
   "execution_count": 5,
   "metadata": {},
   "outputs": [
    {
     "name": "stdout",
     "output_type": "stream",
     "text": [
      "Reviews with caption: 40.12%\n"
     ]
    }
   ],
   "source": [
    "#Percentage of reviews with comments\n",
    "caption_reviews = [i for i in reviewsGB if len(i[\"caption\"]) > 0]\n",
    "\n",
    "print(f\"Reviews with caption: {round((len(caption_reviews) / len(reviewsGB))*100,2)}%\")"
   ]
  },
  {
   "cell_type": "code",
   "execution_count": 4,
   "metadata": {},
   "outputs": [
    {
     "name": "stdout",
     "output_type": "stream",
     "text": [
      "[{'caption': 'Muito boa!  O Cleversom nos atendeu com muita empatia e atenção!',\n",
      "  'geo_location': {'lat': '-23.5448085', 'long': '-46.5175485'},\n",
      "  'id_review': 'ChdDSUhNMG9nS0VJQ0FnSUNjdGN1SHJnRRABGhY3RXo1WS1Td0tMN3Fmdzh4UmQ1QjR3',\n",
      "  'n_photo_user': 0,\n",
      "  'n_review_user': 0,\n",
      "  'rating': 4.0,\n",
      "  'relative_date': '3 semanas atrás',\n",
      "  'retrieval_date': '2020-04-13T17:25:36Z',\n",
      "  'store': 'casas-bahia',\n",
      "  'url_user': 'https://www.google.com/maps/contrib/109717936372979710465?hl=pt-BR',\n",
      "  'username': 'Veranilce Carelli'},\n",
      " {'caption': 'Atendimento muito bom.!',\n",
      "  'geo_location': {'lat': '-23.5448085', 'long': '-46.5175485'},\n",
      "  'id_review': 'ChdDSUhNMG9nS0VJQ0FnSUNjNWNHYXRBRRABGhZ2Z1lLMjI5TjdNM2ZNb3FMNTQwZ2VB',\n",
      "  'n_photo_user': 0,\n",
      "  'n_review_user': 0,\n",
      "  'rating': 5.0,\n",
      "  'relative_date': '3 semanas atrás',\n",
      "  'retrieval_date': '2020-04-13T17:25:36Z',\n",
      "  'store': 'casas-bahia',\n",
      "  'url_user': 'https://www.google.com/maps/contrib/115563939635497280539?hl=pt-BR',\n",
      "  'username': 'Mathias Villan'},\n",
      " {'caption': '👍🏼',\n",
      "  'geo_location': {'lat': '-23.5448085', 'long': '-46.5175485'},\n",
      "  'id_review': 'ChdDSUhNMG9nS0VJQ0FnSUNjLWFHYjF3RRABGhZROFBDNFdHaWhkLTExOTRXWGhNZWNn',\n",
      "  'n_photo_user': 0,\n",
      "  'n_review_user': 0,\n",
      "  'rating': 5.0,\n",
      "  'relative_date': '4 semanas atrás',\n",
      "  'retrieval_date': '2020-04-13T17:25:36Z',\n",
      "  'store': 'casas-bahia',\n",
      "  'url_user': 'https://www.google.com/maps/contrib/104294493120254487839?hl=pt-BR',\n",
      "  'username': 'Pastor L L j'}]\n"
     ]
    }
   ],
   "source": [
    "pprint(caption_reviews[0:3])"
   ]
  },
  {
   "cell_type": "code",
   "execution_count": 5,
   "metadata": {},
   "outputs": [
    {
     "name": "stdout",
     "output_type": "stream",
     "text": [
      "Average grade 3.9199853623178207\n"
     ]
    }
   ],
   "source": [
    "# Average rates\n",
    "print(f\"Average grade {np.average([i['rating'] for i in reviewsGB])}\")"
   ]
  },
  {
   "cell_type": "code",
   "execution_count": 6,
   "metadata": {},
   "outputs": [
    {
     "data": {
      "text/plain": [
       "list"
      ]
     },
     "execution_count": 6,
     "metadata": {},
     "output_type": "execute_result"
    }
   ],
   "source": [
    "type(reviewsGB)"
   ]
  },
  {
   "cell_type": "code",
   "execution_count": 8,
   "metadata": {},
   "outputs": [],
   "source": [
    "#Function to transform to dataframe format\n",
    "def format_GB_to_df(review):\n",
    "    cols_for_df = [  \n",
    "  'caption',  \n",
    "  'geo_location',  \n",
    "  'id_review' ,\n",
    "  'n_photo_user', \n",
    "  'n_review_user', \n",
    "  'rating' ,\n",
    "  'relative_date', \n",
    "  'retrieval_date', \n",
    "  'store',\n",
    "  'url_user', \n",
    "  'username'  ]\n",
    "    r_cp = {col: review[col] for col in cols_for_df if col in review}\n",
    "    return r_cp\n",
    "    \n",
    "\n"
   ]
  },
  {
   "cell_type": "code",
   "execution_count": 9,
   "metadata": {},
   "outputs": [
    {
     "data": {
      "text/html": [
       "<div>\n",
       "<style scoped>\n",
       "    .dataframe tbody tr th:only-of-type {\n",
       "        vertical-align: middle;\n",
       "    }\n",
       "\n",
       "    .dataframe tbody tr th {\n",
       "        vertical-align: top;\n",
       "    }\n",
       "\n",
       "    .dataframe thead th {\n",
       "        text-align: right;\n",
       "    }\n",
       "</style>\n",
       "<table border=\"1\" class=\"dataframe\">\n",
       "  <thead>\n",
       "    <tr style=\"text-align: right;\">\n",
       "      <th></th>\n",
       "      <th>caption</th>\n",
       "      <th>geo_location</th>\n",
       "      <th>id_review</th>\n",
       "      <th>n_photo_user</th>\n",
       "      <th>n_review_user</th>\n",
       "      <th>rating</th>\n",
       "      <th>relative_date</th>\n",
       "      <th>retrieval_date</th>\n",
       "      <th>store</th>\n",
       "      <th>url_user</th>\n",
       "      <th>username</th>\n",
       "    </tr>\n",
       "  </thead>\n",
       "  <tbody>\n",
       "    <tr>\n",
       "      <th>0</th>\n",
       "      <td>Muito boa!  O Cleversom nos atendeu com muita ...</td>\n",
       "      <td>{'lat': '-23.5448085', 'long': '-46.5175485'}</td>\n",
       "      <td>ChdDSUhNMG9nS0VJQ0FnSUNjdGN1SHJnRRABGhY3RXo1WS...</td>\n",
       "      <td>0</td>\n",
       "      <td>0</td>\n",
       "      <td>4.0</td>\n",
       "      <td>3 semanas atrás</td>\n",
       "      <td>2020-04-13T17:25:36Z</td>\n",
       "      <td>casas-bahia</td>\n",
       "      <td>https://www.google.com/maps/contrib/1097179363...</td>\n",
       "      <td>Veranilce Carelli</td>\n",
       "    </tr>\n",
       "    <tr>\n",
       "      <th>1</th>\n",
       "      <td>Atendimento muito bom.!</td>\n",
       "      <td>{'lat': '-23.5448085', 'long': '-46.5175485'}</td>\n",
       "      <td>ChdDSUhNMG9nS0VJQ0FnSUNjNWNHYXRBRRABGhZ2Z1lLMj...</td>\n",
       "      <td>0</td>\n",
       "      <td>0</td>\n",
       "      <td>5.0</td>\n",
       "      <td>3 semanas atrás</td>\n",
       "      <td>2020-04-13T17:25:36Z</td>\n",
       "      <td>casas-bahia</td>\n",
       "      <td>https://www.google.com/maps/contrib/1155639396...</td>\n",
       "      <td>Mathias Villan</td>\n",
       "    </tr>\n",
       "    <tr>\n",
       "      <th>2</th>\n",
       "      <td></td>\n",
       "      <td>{'lat': '-23.5448085', 'long': '-46.5175485'}</td>\n",
       "      <td>ChZDSUhNMG9nS0VJQ0FnSUNjaFphblhBEAEaFmM0cTBhaV...</td>\n",
       "      <td>0</td>\n",
       "      <td>6</td>\n",
       "      <td>5.0</td>\n",
       "      <td>3 semanas atrás</td>\n",
       "      <td>2020-04-13T17:25:36Z</td>\n",
       "      <td>casas-bahia</td>\n",
       "      <td>https://www.google.com/maps/contrib/1147321611...</td>\n",
       "      <td>Maristela Boguta</td>\n",
       "    </tr>\n",
       "    <tr>\n",
       "      <th>3</th>\n",
       "      <td></td>\n",
       "      <td>{'lat': '-23.5448085', 'long': '-46.5175485'}</td>\n",
       "      <td>ChdDSUhNMG9nS0VJQ0FnSUNjaGNidzNBRRABGhZ4Z3Z6bG...</td>\n",
       "      <td>0</td>\n",
       "      <td>5</td>\n",
       "      <td>5.0</td>\n",
       "      <td>3 semanas atrás</td>\n",
       "      <td>2020-04-13T17:25:36Z</td>\n",
       "      <td>casas-bahia</td>\n",
       "      <td>https://www.google.com/maps/contrib/1067857579...</td>\n",
       "      <td>Daniele Andrade</td>\n",
       "    </tr>\n",
       "    <tr>\n",
       "      <th>4</th>\n",
       "      <td>👍🏼</td>\n",
       "      <td>{'lat': '-23.5448085', 'long': '-46.5175485'}</td>\n",
       "      <td>ChdDSUhNMG9nS0VJQ0FnSUNjLWFHYjF3RRABGhZROFBDNF...</td>\n",
       "      <td>0</td>\n",
       "      <td>0</td>\n",
       "      <td>5.0</td>\n",
       "      <td>4 semanas atrás</td>\n",
       "      <td>2020-04-13T17:25:36Z</td>\n",
       "      <td>casas-bahia</td>\n",
       "      <td>https://www.google.com/maps/contrib/1042944931...</td>\n",
       "      <td>Pastor L L j</td>\n",
       "    </tr>\n",
       "  </tbody>\n",
       "</table>\n",
       "</div>"
      ],
      "text/plain": [
       "                                             caption  \\\n",
       "0  Muito boa!  O Cleversom nos atendeu com muita ...   \n",
       "1                            Atendimento muito bom.!   \n",
       "2                                                      \n",
       "3                                                      \n",
       "4                                                 👍🏼   \n",
       "\n",
       "                                    geo_location  \\\n",
       "0  {'lat': '-23.5448085', 'long': '-46.5175485'}   \n",
       "1  {'lat': '-23.5448085', 'long': '-46.5175485'}   \n",
       "2  {'lat': '-23.5448085', 'long': '-46.5175485'}   \n",
       "3  {'lat': '-23.5448085', 'long': '-46.5175485'}   \n",
       "4  {'lat': '-23.5448085', 'long': '-46.5175485'}   \n",
       "\n",
       "                                           id_review  n_photo_user  \\\n",
       "0  ChdDSUhNMG9nS0VJQ0FnSUNjdGN1SHJnRRABGhY3RXo1WS...             0   \n",
       "1  ChdDSUhNMG9nS0VJQ0FnSUNjNWNHYXRBRRABGhZ2Z1lLMj...             0   \n",
       "2  ChZDSUhNMG9nS0VJQ0FnSUNjaFphblhBEAEaFmM0cTBhaV...             0   \n",
       "3  ChdDSUhNMG9nS0VJQ0FnSUNjaGNidzNBRRABGhZ4Z3Z6bG...             0   \n",
       "4  ChdDSUhNMG9nS0VJQ0FnSUNjLWFHYjF3RRABGhZROFBDNF...             0   \n",
       "\n",
       "   n_review_user  rating    relative_date        retrieval_date        store  \\\n",
       "0              0     4.0  3 semanas atrás  2020-04-13T17:25:36Z  casas-bahia   \n",
       "1              0     5.0  3 semanas atrás  2020-04-13T17:25:36Z  casas-bahia   \n",
       "2              6     5.0  3 semanas atrás  2020-04-13T17:25:36Z  casas-bahia   \n",
       "3              5     5.0  3 semanas atrás  2020-04-13T17:25:36Z  casas-bahia   \n",
       "4              0     5.0  4 semanas atrás  2020-04-13T17:25:36Z  casas-bahia   \n",
       "\n",
       "                                            url_user           username  \n",
       "0  https://www.google.com/maps/contrib/1097179363...  Veranilce Carelli  \n",
       "1  https://www.google.com/maps/contrib/1155639396...     Mathias Villan  \n",
       "2  https://www.google.com/maps/contrib/1147321611...   Maristela Boguta  \n",
       "3  https://www.google.com/maps/contrib/1067857579...    Daniele Andrade  \n",
       "4  https://www.google.com/maps/contrib/1042944931...       Pastor L L j  "
      ]
     },
     "execution_count": 9,
     "metadata": {},
     "output_type": "execute_result"
    }
   ],
   "source": [
    "dff = pd.DataFrame([format_GB_to_df(row) for row in reviewsGB])\n",
    "dff.head()"
   ]
  },
  {
   "cell_type": "code",
   "execution_count": 10,
   "metadata": {},
   "outputs": [
    {
     "data": {
      "image/png": "[encoded data removed]",
      "text/plain": [
       "<Figure size 432x432 with 1 Axes>"
      ]
     },
     "metadata": {
      "needs_background": "light"
     },
     "output_type": "display_data"
    }
   ],
   "source": [
    "#Explore top ranting stores\n",
    "\n",
    "import matplotlib.pyplot as plt\n",
    "view = dff.groupby('store').agg({'rating': 'mean'}).reset_index().dropna()\n",
    "\n",
    "height = view[\"rating\"].sort_values()\n",
    "bars = view[\"store\"]\n",
    "y_pos = np.arange(len(bars))\n",
    "\n",
    "fig, ax = plt.subplots(figsize=(6,6))\n",
    "plt.barh(y_pos, height)\n",
    "plt.yticks(y_pos, bars)\n",
    "plt.title('Ratings per company')\n",
    "plt.show()"
   ]
  },
  {
   "cell_type": "markdown",
   "metadata": {},
   "source": [
    "Stores has almost the same rating"
   ]
  },
  {
   "cell_type": "code",
   "execution_count": 11,
   "metadata": {},
   "outputs": [
    {
     "data": {
      "text/html": [
       "<div>\n",
       "<style scoped>\n",
       "    .dataframe tbody tr th:only-of-type {\n",
       "        vertical-align: middle;\n",
       "    }\n",
       "\n",
       "    .dataframe tbody tr th {\n",
       "        vertical-align: top;\n",
       "    }\n",
       "\n",
       "    .dataframe thead th {\n",
       "        text-align: right;\n",
       "    }\n",
       "</style>\n",
       "<table border=\"1\" class=\"dataframe\">\n",
       "  <thead>\n",
       "    <tr style=\"text-align: right;\">\n",
       "      <th></th>\n",
       "      <th>store</th>\n",
       "      <th>n_review_user</th>\n",
       "    </tr>\n",
       "  </thead>\n",
       "  <tbody>\n",
       "    <tr>\n",
       "      <th>0</th>\n",
       "      <td>casas-bahia</td>\n",
       "      <td>282506</td>\n",
       "    </tr>\n",
       "    <tr>\n",
       "      <th>5</th>\n",
       "      <td>magazine-luiza</td>\n",
       "      <td>195717</td>\n",
       "    </tr>\n",
       "    <tr>\n",
       "      <th>6</th>\n",
       "      <td>marabraz</td>\n",
       "      <td>23236</td>\n",
       "    </tr>\n",
       "    <tr>\n",
       "      <th>4</th>\n",
       "      <td>lojas-cem</td>\n",
       "      <td>19259</td>\n",
       "    </tr>\n",
       "    <tr>\n",
       "      <th>10</th>\n",
       "      <td>sylvia-design</td>\n",
       "      <td>8598</td>\n",
       "    </tr>\n",
       "    <tr>\n",
       "      <th>1</th>\n",
       "      <td>etna</td>\n",
       "      <td>7139</td>\n",
       "    </tr>\n",
       "    <tr>\n",
       "      <th>7</th>\n",
       "      <td>mobly</td>\n",
       "      <td>5346</td>\n",
       "    </tr>\n",
       "    <tr>\n",
       "      <th>9</th>\n",
       "      <td>openbox2</td>\n",
       "      <td>3884</td>\n",
       "    </tr>\n",
       "    <tr>\n",
       "      <th>8</th>\n",
       "      <td>moveis-rainha</td>\n",
       "      <td>3227</td>\n",
       "    </tr>\n",
       "    <tr>\n",
       "      <th>2</th>\n",
       "      <td>inovar</td>\n",
       "      <td>660</td>\n",
       "    </tr>\n",
       "    <tr>\n",
       "      <th>11</th>\n",
       "      <td>tutti-moveis</td>\n",
       "      <td>563</td>\n",
       "    </tr>\n",
       "    <tr>\n",
       "      <th>3</th>\n",
       "      <td>lider-interiores</td>\n",
       "      <td>144</td>\n",
       "    </tr>\n",
       "  </tbody>\n",
       "</table>\n",
       "</div>"
      ],
      "text/plain": [
       "               store  n_review_user\n",
       "0        casas-bahia         282506\n",
       "5     magazine-luiza         195717\n",
       "6           marabraz          23236\n",
       "4          lojas-cem          19259\n",
       "10     sylvia-design           8598\n",
       "1               etna           7139\n",
       "7              mobly           5346\n",
       "9           openbox2           3884\n",
       "8      moveis-rainha           3227\n",
       "2             inovar            660\n",
       "11      tutti-moveis            563\n",
       "3   lider-interiores            144"
      ]
     },
     "execution_count": 11,
     "metadata": {},
     "output_type": "execute_result"
    }
   ],
   "source": [
    "#Numebr of reviews per store\n",
    "a = dff.groupby('store').agg({'n_review_user': 'sum'}).reset_index().dropna().sort_values(by = 'n_review_user', ascending=False)\n",
    "a\n"
   ]
  },
  {
   "cell_type": "code",
   "execution_count": 12,
   "metadata": {},
   "outputs": [],
   "source": [
    "import matplotlib.pyplot as plt\n",
    "from wordcloud import WordCloud\n",
    "import wordcloud\n",
    "import pandas as pd\n",
    "import nltk\n",
    "from nltk.corpus import stopwords\n",
    "\n",
    "word_cloud_text = ' '.join(dff['caption'])\n",
    "stop_words = set(stopwords.words(\"portuguese\"))\n",
    "without_stop_words = []\n",
    "sentence = word_cloud_text\n",
    "words = nltk.word_tokenize(sentence)\n",
    "for word in words:\n",
    "    if word not in stop_words:\n",
    "        without_stop_words.append(word.lower())\n",
    "\n",
    "word_cloud_text_SW = ' '.join(without_stop_words)\n",
    "\n",
    "wordcloud = WordCloud(max_font_size=100, max_words=100, background_color=\"white\",\\\n",
    "                          scale = 10,width=800, height=400).generate(word_cloud_text_SW)"
   ]
  },
  {
   "cell_type": "code",
   "execution_count": 13,
   "metadata": {},
   "outputs": [
    {
     "data": {
      "image/png": "[encoded data removed]",
      "text/plain": [
       "<Figure size 432x288 with 1 Axes>"
      ]
     },
     "metadata": {
      "needs_background": "light"
     },
     "output_type": "display_data"
    }
   ],
   "source": [
    "#Word cloud without stop words\n",
    "plt.figure()\n",
    "plt.imshow(wordcloud, interpolation=\"bilinear\")\n",
    "plt.axis(\"off\")\n",
    "plt.show()"
   ]
  },
  {
   "cell_type": "code",
   "execution_count": 14,
   "metadata": {},
   "outputs": [
    {
     "data": {
      "text/plain": [
       "<matplotlib.axes._subplots.AxesSubplot at 0x21e9c3c2898>"
      ]
     },
     "execution_count": 14,
     "metadata": {},
     "output_type": "execute_result"
    },
    {
     "data": {
      "image/png": "[encoded data removed]",
      "text/plain": [
       "<Figure size 432x288 with 1 Axes>"
      ]
     },
     "metadata": {
      "needs_background": "light"
     },
     "output_type": "display_data"
    }
   ],
   "source": [
    "dff[\"rating\"].hist()"
   ]
  },
  {
   "cell_type": "markdown",
   "metadata": {},
   "source": [
    "### Investigating low ratings"
   ]
  },
  {
   "cell_type": "code",
   "execution_count": 16,
   "metadata": {},
   "outputs": [
    {
     "data": {
      "text/html": [
       "<div>\n",
       "<style scoped>\n",
       "    .dataframe tbody tr th:only-of-type {\n",
       "        vertical-align: middle;\n",
       "    }\n",
       "\n",
       "    .dataframe tbody tr th {\n",
       "        vertical-align: top;\n",
       "    }\n",
       "\n",
       "    .dataframe thead th {\n",
       "        text-align: right;\n",
       "    }\n",
       "</style>\n",
       "<table border=\"1\" class=\"dataframe\">\n",
       "  <thead>\n",
       "    <tr style=\"text-align: right;\">\n",
       "      <th></th>\n",
       "      <th>caption</th>\n",
       "      <th>geo_location</th>\n",
       "      <th>id_review</th>\n",
       "      <th>n_photo_user</th>\n",
       "      <th>n_review_user</th>\n",
       "      <th>rating</th>\n",
       "      <th>relative_date</th>\n",
       "      <th>retrieval_date</th>\n",
       "      <th>store</th>\n",
       "      <th>url_user</th>\n",
       "      <th>username</th>\n",
       "    </tr>\n",
       "  </thead>\n",
       "  <tbody>\n",
       "    <tr>\n",
       "      <th>23</th>\n",
       "      <td>Sistema trava na hora da compra mesmo com paga...</td>\n",
       "      <td>{'lat': '-23.5448085', 'long': '-46.5175485'}</td>\n",
       "      <td>ChZDSUhNMG9nS0VJQ0FnSUNzOTdTbU5REAEaFlNBUkRDdF...</td>\n",
       "      <td>0</td>\n",
       "      <td>0</td>\n",
       "      <td>1.0</td>\n",
       "      <td>um mês atrás</td>\n",
       "      <td>2020-04-13T17:25:42Z</td>\n",
       "      <td>casas-bahia</td>\n",
       "      <td>https://www.google.com/maps/contrib/1181737922...</td>\n",
       "      <td>Fernando !</td>\n",
       "    </tr>\n",
       "    <tr>\n",
       "      <th>52</th>\n",
       "      <td>Atendimento horroroso e preços horripilantes</td>\n",
       "      <td>{'lat': '-23.5448085', 'long': '-46.5175485'}</td>\n",
       "      <td>ChZDSUhNMG9nS0VJQ0FnSUNzbHVtQU9REAEaFjdpSFEta3...</td>\n",
       "      <td>0</td>\n",
       "      <td>0</td>\n",
       "      <td>1.0</td>\n",
       "      <td>2 meses atrás</td>\n",
       "      <td>2020-04-13T17:26:02Z</td>\n",
       "      <td>casas-bahia</td>\n",
       "      <td>https://www.google.com/maps/contrib/1111259834...</td>\n",
       "      <td>Christian Assolant Flocke</td>\n",
       "    </tr>\n",
       "    <tr>\n",
       "      <th>60</th>\n",
       "      <td></td>\n",
       "      <td>{'lat': '-23.5448085', 'long': '-46.5175485'}</td>\n",
       "      <td>ChdDSUhNMG9nS0VJQ0FnSUNzOVBTYm1nRRABGhYtYUdIZ2...</td>\n",
       "      <td>0</td>\n",
       "      <td>0</td>\n",
       "      <td>1.0</td>\n",
       "      <td>2 meses atrás</td>\n",
       "      <td>2020-04-13T17:26:08Z</td>\n",
       "      <td>casas-bahia</td>\n",
       "      <td>https://www.google.com/maps/contrib/1049411468...</td>\n",
       "      <td>Felipe Gamer</td>\n",
       "    </tr>\n",
       "    <tr>\n",
       "      <th>61</th>\n",
       "      <td>Não vá neste local se vc for comprar apenas 1 ...</td>\n",
       "      <td>{'lat': '-23.5448085', 'long': '-46.5175485'}</td>\n",
       "      <td>ChdDSUhNMG9nS0VJQ0FnSUNzeElQSnZnRRABGhY3clMyaD...</td>\n",
       "      <td>0</td>\n",
       "      <td>0</td>\n",
       "      <td>1.0</td>\n",
       "      <td>2 meses atrás</td>\n",
       "      <td>2020-04-13T17:26:08Z</td>\n",
       "      <td>casas-bahia</td>\n",
       "      <td>https://www.google.com/maps/contrib/1122289233...</td>\n",
       "      <td>Leandro Fuentes</td>\n",
       "    </tr>\n",
       "    <tr>\n",
       "      <th>65</th>\n",
       "      <td>Minha mãe comprou uma geladeira em 14/12/19 e ...</td>\n",
       "      <td>{'lat': '-23.5448085', 'long': '-46.5175485'}</td>\n",
       "      <td>ChZDSUhNMG9nS0VJQ0FnSUNzaUxqNmVBEAEaFmQwc3AwQV...</td>\n",
       "      <td>0</td>\n",
       "      <td>0</td>\n",
       "      <td>1.0</td>\n",
       "      <td>2 meses atrás</td>\n",
       "      <td>2020-04-13T17:26:08Z</td>\n",
       "      <td>casas-bahia</td>\n",
       "      <td>https://www.google.com/maps/contrib/1128121304...</td>\n",
       "      <td>sergio reis</td>\n",
       "    </tr>\n",
       "    <tr>\n",
       "      <th>...</th>\n",
       "      <td>...</td>\n",
       "      <td>...</td>\n",
       "      <td>...</td>\n",
       "      <td>...</td>\n",
       "      <td>...</td>\n",
       "      <td>...</td>\n",
       "      <td>...</td>\n",
       "      <td>...</td>\n",
       "      <td>...</td>\n",
       "      <td>...</td>\n",
       "      <td>...</td>\n",
       "    </tr>\n",
       "    <tr>\n",
       "      <th>142078</th>\n",
       "      <td></td>\n",
       "      <td>{'lat': '-23.5625817', 'long': '-46.5049787'}</td>\n",
       "      <td>ChdDSUhNMG9nS0VJQ0FnSURnNjhMZThBRRABGhZaclU0aF...</td>\n",
       "      <td>0</td>\n",
       "      <td>0</td>\n",
       "      <td>1.0</td>\n",
       "      <td>um ano atrás</td>\n",
       "      <td>2020-04-13T16:02:18Z</td>\n",
       "      <td>tutti-moveis</td>\n",
       "      <td>https://www.google.com/maps/contrib/1014818477...</td>\n",
       "      <td>adriano martins</td>\n",
       "    </tr>\n",
       "    <tr>\n",
       "      <th>142091</th>\n",
       "      <td>Uma experiencia pra nunca mais. Comprei um sof...</td>\n",
       "      <td>{'lat': '-23.5625817', 'long': '-46.5049787'}</td>\n",
       "      <td>ChdDSUhNMG9nS0VJQ0FnSUNBaWV1OTBBRRABGhZ0Umpmaz...</td>\n",
       "      <td>0</td>\n",
       "      <td>1</td>\n",
       "      <td>1.0</td>\n",
       "      <td>2 anos atrás</td>\n",
       "      <td>2020-04-13T16:02:25Z</td>\n",
       "      <td>tutti-moveis</td>\n",
       "      <td>https://www.google.com/maps/contrib/1173669258...</td>\n",
       "      <td>edna edna Brito de Souza</td>\n",
       "    </tr>\n",
       "    <tr>\n",
       "      <th>142094</th>\n",
       "      <td>MOVEIS DE PÉSSIMA QUALIDADE E PÓS VENDA AINDA ...</td>\n",
       "      <td>{'lat': '-23.5625817', 'long': '-46.5049787'}</td>\n",
       "      <td>ChdDSUhNMG9nS0VJQ0FnSURBLWNYNXp3RRABGhY3dnFYS2...</td>\n",
       "      <td>0</td>\n",
       "      <td>1</td>\n",
       "      <td>1.0</td>\n",
       "      <td>2 anos atrás</td>\n",
       "      <td>2020-04-13T16:02:25Z</td>\n",
       "      <td>tutti-moveis</td>\n",
       "      <td>https://www.google.com/maps/contrib/1042985148...</td>\n",
       "      <td>Marcio rezende</td>\n",
       "    </tr>\n",
       "    <tr>\n",
       "      <th>142095</th>\n",
       "      <td>Péssimo pós vendas, na hora de comprar eles te...</td>\n",
       "      <td>{'lat': '-23.5625817', 'long': '-46.5049787'}</td>\n",
       "      <td>ChdDSUhNMG9nS0VJQ0FnSUN3NDZtSXZnRRABGhZPb1Fjcl...</td>\n",
       "      <td>0</td>\n",
       "      <td>0</td>\n",
       "      <td>1.0</td>\n",
       "      <td>2 anos atrás</td>\n",
       "      <td>2020-04-13T16:02:25Z</td>\n",
       "      <td>tutti-moveis</td>\n",
       "      <td>https://www.google.com/maps/contrib/1018410359...</td>\n",
       "      <td>Renato Flores</td>\n",
       "    </tr>\n",
       "    <tr>\n",
       "      <th>142096</th>\n",
       "      <td>Muito descaso, depois da compra tive problema ...</td>\n",
       "      <td>{'lat': '-23.5625817', 'long': '-46.5049787'}</td>\n",
       "      <td>ChZDSUhNMG9nS0VJQ0FnSURnODd5N1BBEAEaFkpCY2JxeE...</td>\n",
       "      <td>0</td>\n",
       "      <td>0</td>\n",
       "      <td>1.0</td>\n",
       "      <td>2 anos atrás</td>\n",
       "      <td>2020-04-13T16:02:32Z</td>\n",
       "      <td>tutti-moveis</td>\n",
       "      <td>https://www.google.com/maps/contrib/1133551477...</td>\n",
       "      <td>Rosangela Flores</td>\n",
       "    </tr>\n",
       "  </tbody>\n",
       "</table>\n",
       "<p>12266 rows × 11 columns</p>\n",
       "</div>"
      ],
      "text/plain": [
       "                                                  caption  \\\n",
       "23      Sistema trava na hora da compra mesmo com paga...   \n",
       "52           Atendimento horroroso e preços horripilantes   \n",
       "60                                                          \n",
       "61      Não vá neste local se vc for comprar apenas 1 ...   \n",
       "65      Minha mãe comprou uma geladeira em 14/12/19 e ...   \n",
       "...                                                   ...   \n",
       "142078                                                      \n",
       "142091  Uma experiencia pra nunca mais. Comprei um sof...   \n",
       "142094  MOVEIS DE PÉSSIMA QUALIDADE E PÓS VENDA AINDA ...   \n",
       "142095  Péssimo pós vendas, na hora de comprar eles te...   \n",
       "142096  Muito descaso, depois da compra tive problema ...   \n",
       "\n",
       "                                         geo_location  \\\n",
       "23      {'lat': '-23.5448085', 'long': '-46.5175485'}   \n",
       "52      {'lat': '-23.5448085', 'long': '-46.5175485'}   \n",
       "60      {'lat': '-23.5448085', 'long': '-46.5175485'}   \n",
       "61      {'lat': '-23.5448085', 'long': '-46.5175485'}   \n",
       "65      {'lat': '-23.5448085', 'long': '-46.5175485'}   \n",
       "...                                               ...   \n",
       "142078  {'lat': '-23.5625817', 'long': '-46.5049787'}   \n",
       "142091  {'lat': '-23.5625817', 'long': '-46.5049787'}   \n",
       "142094  {'lat': '-23.5625817', 'long': '-46.5049787'}   \n",
       "142095  {'lat': '-23.5625817', 'long': '-46.5049787'}   \n",
       "142096  {'lat': '-23.5625817', 'long': '-46.5049787'}   \n",
       "\n",
       "                                                id_review  n_photo_user  \\\n",
       "23      ChZDSUhNMG9nS0VJQ0FnSUNzOTdTbU5REAEaFlNBUkRDdF...             0   \n",
       "52      ChZDSUhNMG9nS0VJQ0FnSUNzbHVtQU9REAEaFjdpSFEta3...             0   \n",
       "60      ChdDSUhNMG9nS0VJQ0FnSUNzOVBTYm1nRRABGhYtYUdIZ2...             0   \n",
       "61      ChdDSUhNMG9nS0VJQ0FnSUNzeElQSnZnRRABGhY3clMyaD...             0   \n",
       "65      ChZDSUhNMG9nS0VJQ0FnSUNzaUxqNmVBEAEaFmQwc3AwQV...             0   \n",
       "...                                                   ...           ...   \n",
       "142078  ChdDSUhNMG9nS0VJQ0FnSURnNjhMZThBRRABGhZaclU0aF...             0   \n",
       "142091  ChdDSUhNMG9nS0VJQ0FnSUNBaWV1OTBBRRABGhZ0Umpmaz...             0   \n",
       "142094  ChdDSUhNMG9nS0VJQ0FnSURBLWNYNXp3RRABGhY3dnFYS2...             0   \n",
       "142095  ChdDSUhNMG9nS0VJQ0FnSUN3NDZtSXZnRRABGhZPb1Fjcl...             0   \n",
       "142096  ChZDSUhNMG9nS0VJQ0FnSURnODd5N1BBEAEaFkpCY2JxeE...             0   \n",
       "\n",
       "        n_review_user  rating  relative_date        retrieval_date  \\\n",
       "23                  0     1.0   um mês atrás  2020-04-13T17:25:42Z   \n",
       "52                  0     1.0  2 meses atrás  2020-04-13T17:26:02Z   \n",
       "60                  0     1.0  2 meses atrás  2020-04-13T17:26:08Z   \n",
       "61                  0     1.0  2 meses atrás  2020-04-13T17:26:08Z   \n",
       "65                  0     1.0  2 meses atrás  2020-04-13T17:26:08Z   \n",
       "...               ...     ...            ...                   ...   \n",
       "142078              0     1.0   um ano atrás  2020-04-13T16:02:18Z   \n",
       "142091              1     1.0   2 anos atrás  2020-04-13T16:02:25Z   \n",
       "142094              1     1.0   2 anos atrás  2020-04-13T16:02:25Z   \n",
       "142095              0     1.0   2 anos atrás  2020-04-13T16:02:25Z   \n",
       "142096              0     1.0   2 anos atrás  2020-04-13T16:02:32Z   \n",
       "\n",
       "               store                                           url_user  \\\n",
       "23       casas-bahia  https://www.google.com/maps/contrib/1181737922...   \n",
       "52       casas-bahia  https://www.google.com/maps/contrib/1111259834...   \n",
       "60       casas-bahia  https://www.google.com/maps/contrib/1049411468...   \n",
       "61       casas-bahia  https://www.google.com/maps/contrib/1122289233...   \n",
       "65       casas-bahia  https://www.google.com/maps/contrib/1128121304...   \n",
       "...              ...                                                ...   \n",
       "142078  tutti-moveis  https://www.google.com/maps/contrib/1014818477...   \n",
       "142091  tutti-moveis  https://www.google.com/maps/contrib/1173669258...   \n",
       "142094  tutti-moveis  https://www.google.com/maps/contrib/1042985148...   \n",
       "142095  tutti-moveis  https://www.google.com/maps/contrib/1018410359...   \n",
       "142096  tutti-moveis  https://www.google.com/maps/contrib/1133551477...   \n",
       "\n",
       "                         username  \n",
       "23                     Fernando !  \n",
       "52      Christian Assolant Flocke  \n",
       "60                   Felipe Gamer  \n",
       "61                Leandro Fuentes  \n",
       "65                    sergio reis  \n",
       "...                           ...  \n",
       "142078            adriano martins  \n",
       "142091   edna edna Brito de Souza  \n",
       "142094             Marcio rezende  \n",
       "142095              Renato Flores  \n",
       "142096           Rosangela Flores  \n",
       "\n",
       "[12266 rows x 11 columns]"
      ]
     },
     "execution_count": 16,
     "metadata": {},
     "output_type": "execute_result"
    }
   ],
   "source": [
    "dff.loc[dff[\"rating\"]<2]"
   ]
  },
  {
   "cell_type": "markdown",
   "metadata": {},
   "source": [
    "# Conclusions"
   ]
  },
  {
   "cell_type": "markdown",
   "metadata": {},
   "source": [
    "1-Regarding ReclameAqui has more complains than cumpliments , gb has most part of reviews are high rating. \n",
    "\n",
    "2-Big stores has more reviews that makes the mean rating bit low.\n",
    "\n"
   ]
  },
  {
   "cell_type": "markdown",
   "metadata": {},
   "source": [
    "# Next steps"
   ]
  },
  {
   "cell_type": "markdown",
   "metadata": {},
   "source": [
    "Suggestions:\n",
    "1- Show key words in low raitngs using word2vec\n",
    "\n",
    "2- Explore more location\n",
    "\n",
    "3- ratings over the time"
   ]
  },
  {
   "cell_type": "code",
   "execution_count": null,
   "metadata": {},
   "outputs": [],
   "source": []
  }
 ],
 "metadata": {
  "kernelspec": {
   "display_name": "Python 3",
   "language": "python",
   "name": "python3"
  },
  "language_info": {
   "codemirror_mode": {
    "name": "ipython",
    "version": 3
   },
   "file_extension": ".py",
   "mimetype": "text/x-python",
   "name": "python",
   "nbconvert_exporter": "python",
   "pygments_lexer": "ipython3",
   "version": "3.7.7"
  }
 },
 "nbformat": 4,
 "nbformat_minor": 4
}
