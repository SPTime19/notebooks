{
 "cells": [
  {
   "cell_type": "markdown",
   "metadata": {},
   "source": [
    "# Online x Offline"
   ]
  },
  {
   "cell_type": "markdown",
   "metadata": {},
   "source": [
    "Author:\n",
    "- Reinaldo Augusto\n",
    "\n",
    "Status:\n",
    "- DONE\n",
    "\n",
    "Goal:\n",
    "- To compare online stores with the offline ones and see if there is a difference between them."
   ]
  },
  {
   "cell_type": "code",
   "execution_count": 1,
   "metadata": {},
   "outputs": [],
   "source": [
    "from util import agg_jsonls\n",
    "from pprint import pprint\n",
    "import seaborn as sns\n",
    "import matplotlib.pyplot  as plt\n",
    "import pandas as pd\n",
    "import numpy as np\n",
    "from datetime import datetime, timedelta\n",
    "\n",
    "%matplotlib inline"
   ]
  },
  {
   "cell_type": "markdown",
   "metadata": {},
   "source": [
    "## Importing the ReclameAqui dataset"
   ]
  },
  {
   "cell_type": "code",
   "execution_count": 2,
   "metadata": {},
   "outputs": [
    {
     "name": "stdout",
     "output_type": "stream",
     "text": [
      "We have a total of 51655 reviews!\n"
     ]
    }
   ],
   "source": [
    "from src.maps import tag_map, relative_date\n",
    "from src.cleaning import build_df_from_RA, format_GB_to_df\n",
    "from src.loading import load_dataset\n",
    "\n",
    "reviewsRA = load_dataset(\"final_dataset_RA\")\n",
    "df_RA = build_df_from_RA(reviewsRA)\n",
    "print(f\"We have a total of {len(reviewsRA)} reviews!\")"
   ]
  },
  {
   "cell_type": "code",
   "execution_count": 3,
   "metadata": {},
   "outputs": [
    {
     "data": {
      "text/html": [
       "<div>\n",
       "<style scoped>\n",
       "    .dataframe tbody tr th:only-of-type {\n",
       "        vertical-align: middle;\n",
       "    }\n",
       "\n",
       "    .dataframe tbody tr th {\n",
       "        vertical-align: top;\n",
       "    }\n",
       "\n",
       "    .dataframe thead th {\n",
       "        text-align: right;\n",
       "    }\n",
       "</style>\n",
       "<table border=\"1\" class=\"dataframe\">\n",
       "  <thead>\n",
       "    <tr style=\"text-align: right;\">\n",
       "      <th></th>\n",
       "      <th>business_issues</th>\n",
       "      <th>business_issues_Customer Services</th>\n",
       "      <th>business_issues_Delivery</th>\n",
       "      <th>business_issues_Maintenance</th>\n",
       "      <th>business_issues_Online Services</th>\n",
       "      <th>business_issues_Payment</th>\n",
       "      <th>business_name</th>\n",
       "      <th>city</th>\n",
       "      <th>datetime</th>\n",
       "      <th>days_to_first_contact</th>\n",
       "      <th>...</th>\n",
       "      <th>products_Home Appliances</th>\n",
       "      <th>products_Others</th>\n",
       "      <th>resolution_outcome</th>\n",
       "      <th>review_ID</th>\n",
       "      <th>service_grade</th>\n",
       "      <th>timeCaptured</th>\n",
       "      <th>title</th>\n",
       "      <th>uf</th>\n",
       "      <th>would_buy_again</th>\n",
       "      <th>month</th>\n",
       "    </tr>\n",
       "  </thead>\n",
       "  <tbody>\n",
       "    <tr>\n",
       "      <th>0</th>\n",
       "      <td>NaN</td>\n",
       "      <td>NaN</td>\n",
       "      <td>NaN</td>\n",
       "      <td>NaN</td>\n",
       "      <td>NaN</td>\n",
       "      <td>NaN</td>\n",
       "      <td>Tok&amp;Stok - Loja Online</td>\n",
       "      <td>Embu das Artes</td>\n",
       "      <td>2020-03-26 12:48:00+00:00</td>\n",
       "      <td>NaN</td>\n",
       "      <td>...</td>\n",
       "      <td>NaN</td>\n",
       "      <td>NaN</td>\n",
       "      <td>NaN</td>\n",
       "      <td>102002173</td>\n",
       "      <td>NaN</td>\n",
       "      <td>2020-03-27T12:08:11Z</td>\n",
       "      <td>Paguei e nao recebi</td>\n",
       "      <td>SP</td>\n",
       "      <td>NaN</td>\n",
       "      <td>03/2020</td>\n",
       "    </tr>\n",
       "    <tr>\n",
       "      <th>1</th>\n",
       "      <td>1.0</td>\n",
       "      <td>NaN</td>\n",
       "      <td>1.0</td>\n",
       "      <td>NaN</td>\n",
       "      <td>NaN</td>\n",
       "      <td>NaN</td>\n",
       "      <td>Tok&amp;Stok - Loja Online</td>\n",
       "      <td>Cuiabá</td>\n",
       "      <td>2020-03-26 22:09:00+00:00</td>\n",
       "      <td>NaN</td>\n",
       "      <td>...</td>\n",
       "      <td>NaN</td>\n",
       "      <td>NaN</td>\n",
       "      <td>NaN</td>\n",
       "      <td>102028063</td>\n",
       "      <td>NaN</td>\n",
       "      <td>2020-03-27T12:08:11Z</td>\n",
       "      <td>Não entregaram o móvel</td>\n",
       "      <td>MT</td>\n",
       "      <td>NaN</td>\n",
       "      <td>03/2020</td>\n",
       "    </tr>\n",
       "    <tr>\n",
       "      <th>2</th>\n",
       "      <td>1.0</td>\n",
       "      <td>NaN</td>\n",
       "      <td>NaN</td>\n",
       "      <td>NaN</td>\n",
       "      <td>NaN</td>\n",
       "      <td>1.0</td>\n",
       "      <td>Tok&amp;Stok - Loja Online</td>\n",
       "      <td>Rio de Janeiro</td>\n",
       "      <td>2020-03-25 16:50:00+00:00</td>\n",
       "      <td>NaN</td>\n",
       "      <td>...</td>\n",
       "      <td>NaN</td>\n",
       "      <td>NaN</td>\n",
       "      <td>NaN</td>\n",
       "      <td>101970443</td>\n",
       "      <td>NaN</td>\n",
       "      <td>2020-03-27T12:08:14Z</td>\n",
       "      <td>Não recebi um dos itens do meu pedido e fui co...</td>\n",
       "      <td>RJ</td>\n",
       "      <td>NaN</td>\n",
       "      <td>03/2020</td>\n",
       "    </tr>\n",
       "    <tr>\n",
       "      <th>3</th>\n",
       "      <td>NaN</td>\n",
       "      <td>NaN</td>\n",
       "      <td>NaN</td>\n",
       "      <td>NaN</td>\n",
       "      <td>NaN</td>\n",
       "      <td>NaN</td>\n",
       "      <td>Tok&amp;Stok - Loja Online</td>\n",
       "      <td>Acopiara</td>\n",
       "      <td>2020-03-25 16:52:00+00:00</td>\n",
       "      <td>NaN</td>\n",
       "      <td>...</td>\n",
       "      <td>NaN</td>\n",
       "      <td>NaN</td>\n",
       "      <td>NaN</td>\n",
       "      <td>101970555</td>\n",
       "      <td>NaN</td>\n",
       "      <td>2020-03-27T12:08:14Z</td>\n",
       "      <td>Produto não foi entregue e não resolvem</td>\n",
       "      <td>CE</td>\n",
       "      <td>NaN</td>\n",
       "      <td>03/2020</td>\n",
       "    </tr>\n",
       "    <tr>\n",
       "      <th>4</th>\n",
       "      <td>3.0</td>\n",
       "      <td>2.0</td>\n",
       "      <td>NaN</td>\n",
       "      <td>NaN</td>\n",
       "      <td>NaN</td>\n",
       "      <td>1.0</td>\n",
       "      <td>Tok&amp;Stok - Loja Online</td>\n",
       "      <td>Vila Velha</td>\n",
       "      <td>2020-03-25 20:20:00+00:00</td>\n",
       "      <td>NaN</td>\n",
       "      <td>...</td>\n",
       "      <td>NaN</td>\n",
       "      <td>NaN</td>\n",
       "      <td>NaN</td>\n",
       "      <td>101979855</td>\n",
       "      <td>NaN</td>\n",
       "      <td>2020-03-27T12:08:14Z</td>\n",
       "      <td>Não entregaram e produto e não devolvem o valo...</td>\n",
       "      <td>ES</td>\n",
       "      <td>NaN</td>\n",
       "      <td>03/2020</td>\n",
       "    </tr>\n",
       "  </tbody>\n",
       "</table>\n",
       "<p>5 rows × 33 columns</p>\n",
       "</div>"
      ],
      "text/plain": [
       "   business_issues  business_issues_Customer Services  \\\n",
       "0              NaN                                NaN   \n",
       "1              1.0                                NaN   \n",
       "2              1.0                                NaN   \n",
       "3              NaN                                NaN   \n",
       "4              3.0                                2.0   \n",
       "\n",
       "   business_issues_Delivery  business_issues_Maintenance  \\\n",
       "0                       NaN                          NaN   \n",
       "1                       1.0                          NaN   \n",
       "2                       NaN                          NaN   \n",
       "3                       NaN                          NaN   \n",
       "4                       NaN                          NaN   \n",
       "\n",
       "   business_issues_Online Services  business_issues_Payment  \\\n",
       "0                              NaN                      NaN   \n",
       "1                              NaN                      NaN   \n",
       "2                              NaN                      1.0   \n",
       "3                              NaN                      NaN   \n",
       "4                              NaN                      1.0   \n",
       "\n",
       "             business_name            city                  datetime  \\\n",
       "0  Tok&Stok - Loja Online   Embu das Artes 2020-03-26 12:48:00+00:00   \n",
       "1  Tok&Stok - Loja Online           Cuiabá 2020-03-26 22:09:00+00:00   \n",
       "2  Tok&Stok - Loja Online   Rio de Janeiro 2020-03-25 16:50:00+00:00   \n",
       "3  Tok&Stok - Loja Online         Acopiara 2020-03-25 16:52:00+00:00   \n",
       "4  Tok&Stok - Loja Online       Vila Velha 2020-03-25 20:20:00+00:00   \n",
       "\n",
       "   days_to_first_contact  ...  products_Home Appliances products_Others  \\\n",
       "0                    NaN  ...                       NaN             NaN   \n",
       "1                    NaN  ...                       NaN             NaN   \n",
       "2                    NaN  ...                       NaN             NaN   \n",
       "3                    NaN  ...                       NaN             NaN   \n",
       "4                    NaN  ...                       NaN             NaN   \n",
       "\n",
       "   resolution_outcome  review_ID  service_grade          timeCaptured  \\\n",
       "0                 NaN  102002173            NaN  2020-03-27T12:08:11Z   \n",
       "1                 NaN  102028063            NaN  2020-03-27T12:08:11Z   \n",
       "2                 NaN  101970443            NaN  2020-03-27T12:08:14Z   \n",
       "3                 NaN  101970555            NaN  2020-03-27T12:08:14Z   \n",
       "4                 NaN  101979855            NaN  2020-03-27T12:08:14Z   \n",
       "\n",
       "                                               title  uf  would_buy_again  \\\n",
       "0                                Paguei e nao recebi  SP              NaN   \n",
       "1                             Não entregaram o móvel  MT              NaN   \n",
       "2  Não recebi um dos itens do meu pedido e fui co...  RJ              NaN   \n",
       "3            Produto não foi entregue e não resolvem  CE              NaN   \n",
       "4  Não entregaram e produto e não devolvem o valo...  ES              NaN   \n",
       "\n",
       "     month  \n",
       "0  03/2020  \n",
       "1  03/2020  \n",
       "2  03/2020  \n",
       "3  03/2020  \n",
       "4  03/2020  \n",
       "\n",
       "[5 rows x 33 columns]"
      ]
     },
     "execution_count": 3,
     "metadata": {},
     "output_type": "execute_result"
    }
   ],
   "source": [
    "df_RA['datetime'] = pd.to_datetime(df_RA.datetime)\n",
    "df_RA['month'] = df_RA['datetime'].dt.strftime('%m/%Y')\n",
    "df_RA.head()"
   ]
  },
  {
   "cell_type": "markdown",
   "metadata": {},
   "source": [
    "## Finding the online stores"
   ]
  },
  {
   "cell_type": "code",
   "execution_count": 8,
   "metadata": {},
   "outputs": [],
   "source": [
    "online_st = ['Tok&Stok - Loja Online ','Etna Home Store - Loja Online','Marabraz - Loja Online',\n",
    "             'MadeiraMadeira','Casas Bahia - Marketplace', 'Casas Bahia - Loja Online','Ponto Frio - Loja Online']\n",
    "df_RA.loc[df_RA['business_name'].isin(online_st),'online'] = 1\n",
    "df_RA.loc[~df_RA['business_name'].isin(online_st),'online'] = 0"
   ]
  },
  {
   "cell_type": "markdown",
   "metadata": {},
   "source": [
    "## Exploratory Data Analysis\n",
    "\n",
    "### Days to first contact comparison"
   ]
  },
  {
   "cell_type": "code",
   "execution_count": 14,
   "metadata": {},
   "outputs": [
    {
     "data": {
      "image/png": "[encoded data removed]",
      "text/plain": [
       "<Figure size 864x432 with 2 Axes>"
      ]
     },
     "metadata": {
      "needs_background": "light"
     },
     "output_type": "display_data"
    }
   ],
   "source": [
    "fig = plt.figure(figsize=(12,6))\n",
    "ax1 = plt.subplot(1,2,1)\n",
    "sns.violinplot(x=df_RA['online'],y=df_RA['days_to_first_contact'])\n",
    "\n",
    "ax2 = plt.subplot(1,2,2)\n",
    "sns.boxplot(x=df_RA['online'],y=df_RA['days_to_first_contact'],showfliers=False);"
   ]
  },
  {
   "cell_type": "code",
   "execution_count": 25,
   "metadata": {},
   "outputs": [
    {
     "name": "stdout",
     "output_type": "stream",
     "text": [
      "0.0017488355900439894\n"
     ]
    }
   ],
   "source": [
    "from scipy.stats import ttest_ind\n",
    "data1 = df_RA[df_RA['online']==1]['days_to_first_contact']\n",
    "data2 = df_RA[df_RA['online']==0]['days_to_first_contact']\n",
    "stat, p = ttest_ind(data1, data2,nan_policy='omit')\n",
    "print(p)"
   ]
  },
  {
   "cell_type": "code",
   "execution_count": 33,
   "metadata": {},
   "outputs": [
    {
     "name": "stdout",
     "output_type": "stream",
     "text": [
      "9.107080951973269e-214\n"
     ]
    }
   ],
   "source": [
    "from scipy.stats import mannwhitneyu\n",
    "data1 = df_RA[df_RA['online']==1]['days_to_first_contact']\n",
    "data2 = df_RA[df_RA['online']==0]['days_to_first_contact']\n",
    "stat, p = kruskal(data1, data2,nan_policy='omit')\n",
    "print(p)"
   ]
  },
  {
   "cell_type": "markdown",
   "metadata": {},
   "source": [
    "### Days to resolution comparison"
   ]
  },
  {
   "cell_type": "code",
   "execution_count": 80,
   "metadata": {},
   "outputs": [
    {
     "data": {
      "image/png": "[encoded data removed]",
      "text/plain": [
       "<Figure size 864x432 with 2 Axes>"
      ]
     },
     "metadata": {
      "needs_background": "light"
     },
     "output_type": "display_data"
    }
   ],
   "source": [
    "fig = plt.figure(figsize=(12,6))\n",
    "ax1 = plt.subplot(1,2,1)\n",
    "sns.violinplot(x=df_RA['online'],y=df_RA['days_to_resolution'])\n",
    "\n",
    "ax2 = plt.subplot(1,2,2)\n",
    "sns.boxplot(x=df_RA['online'],y=df_RA['days_to_resolution'],showfliers=False);"
   ]
  },
  {
   "cell_type": "code",
   "execution_count": 34,
   "metadata": {},
   "outputs": [
    {
     "name": "stdout",
     "output_type": "stream",
     "text": [
      "7.240921370065666e-45\n"
     ]
    }
   ],
   "source": [
    "from scipy.stats import ttest_ind\n",
    "data1 = df_RA[df_RA['online']==1]['days_to_resolution']\n",
    "data2 = df_RA[df_RA['online']==0]['days_to_resolution']\n",
    "stat, p = ttest_ind(data1, data2,nan_policy='omit')\n",
    "print(p)"
   ]
  },
  {
   "cell_type": "code",
   "execution_count": 32,
   "metadata": {},
   "outputs": [
    {
     "name": "stdout",
     "output_type": "stream",
     "text": [
      "1.2082568613139403e-06\n"
     ]
    }
   ],
   "source": [
    "from scipy.stats import mannwhitneyu,kruskal\n",
    "data1 = df_RA[df_RA['online']==1]['days_to_resolution']\n",
    "data2 = df_RA[df_RA['online']==0]['days_to_resolution']\n",
    "stat, p = kruskal(data1, data2,nan_policy='omit')\n",
    "print(p)"
   ]
  },
  {
   "cell_type": "markdown",
   "metadata": {},
   "source": [
    "### Comparison between the resolution outcomes of the stores"
   ]
  },
  {
   "cell_type": "code",
   "execution_count": 92,
   "metadata": {},
   "outputs": [
    {
     "data": {
      "image/png": "[encoded data removed]",
      "text/plain": [
       "<Figure size 432x432 with 1 Axes>"
      ]
     },
     "metadata": {
      "needs_background": "light"
     },
     "output_type": "display_data"
    }
   ],
   "source": [
    "fig = plt.figure(figsize=(6,6))\n",
    "ax1 = plt.subplot(1,1,1)\n",
    "sns.countplot(x=df_RA['online'],hue=df_RA['resolution_outcome'])\n",
    "ax1.set_xticklabels(['No', 'Yes']);"
   ]
  },
  {
   "cell_type": "markdown",
   "metadata": {},
   "source": [
    "### Issues in online xoffline stores"
   ]
  },
  {
   "cell_type": "code",
   "execution_count": 54,
   "metadata": {},
   "outputs": [],
   "source": [
    "issues = [col for col in df_RA.columns if \"issue\" in col]\n",
    "issues.append('timeCaptured')\n",
    "online_issues = df_RA.groupby(\"online\").count()[issues].reset_index()"
   ]
  },
  {
   "cell_type": "code",
   "execution_count": 77,
   "metadata": {},
   "outputs": [],
   "source": [
    "online_issues_perc = online_issues.copy()\n",
    "for i in issues:\n",
    "    online_issues_perc[i] = online_issues_perc[i]/online_issues_perc['timeCaptured']"
   ]
  },
  {
   "cell_type": "code",
   "execution_count": 78,
   "metadata": {},
   "outputs": [
    {
     "data": {
      "text/html": [
       "<div>\n",
       "<style scoped>\n",
       "    .dataframe tbody tr th:only-of-type {\n",
       "        vertical-align: middle;\n",
       "    }\n",
       "\n",
       "    .dataframe tbody tr th {\n",
       "        vertical-align: top;\n",
       "    }\n",
       "\n",
       "    .dataframe thead th {\n",
       "        text-align: right;\n",
       "    }\n",
       "</style>\n",
       "<table border=\"1\" class=\"dataframe\">\n",
       "  <thead>\n",
       "    <tr style=\"text-align: right;\">\n",
       "      <th></th>\n",
       "      <th>online</th>\n",
       "      <th>business_issues</th>\n",
       "      <th>business_issues_Customer Services</th>\n",
       "      <th>business_issues_Delivery</th>\n",
       "      <th>business_issues_Maintenance</th>\n",
       "      <th>business_issues_Online Services</th>\n",
       "      <th>business_issues_Payment</th>\n",
       "      <th>product_issues</th>\n",
       "      <th>product_issues_Damaged</th>\n",
       "      <th>product_issues_Electrical problems</th>\n",
       "      <th>product_issues_Missing pieces</th>\n",
       "      <th>product_issues_Quality</th>\n",
       "      <th>timeCaptured</th>\n",
       "    </tr>\n",
       "  </thead>\n",
       "  <tbody>\n",
       "    <tr>\n",
       "      <th>0</th>\n",
       "      <td>0.0</td>\n",
       "      <td>13329</td>\n",
       "      <td>3442</td>\n",
       "      <td>7528</td>\n",
       "      <td>1385</td>\n",
       "      <td>321</td>\n",
       "      <td>1724</td>\n",
       "      <td>5047</td>\n",
       "      <td>1358</td>\n",
       "      <td>195</td>\n",
       "      <td>212</td>\n",
       "      <td>3282</td>\n",
       "      <td>34893</td>\n",
       "    </tr>\n",
       "    <tr>\n",
       "      <th>1</th>\n",
       "      <td>1.0</td>\n",
       "      <td>7702</td>\n",
       "      <td>715</td>\n",
       "      <td>5213</td>\n",
       "      <td>118</td>\n",
       "      <td>72</td>\n",
       "      <td>1662</td>\n",
       "      <td>1104</td>\n",
       "      <td>326</td>\n",
       "      <td>38</td>\n",
       "      <td>114</td>\n",
       "      <td>626</td>\n",
       "      <td>16762</td>\n",
       "    </tr>\n",
       "  </tbody>\n",
       "</table>\n",
       "</div>"
      ],
      "text/plain": [
       "   online  business_issues  business_issues_Customer Services  \\\n",
       "0     0.0            13329                               3442   \n",
       "1     1.0             7702                                715   \n",
       "\n",
       "   business_issues_Delivery  business_issues_Maintenance  \\\n",
       "0                      7528                         1385   \n",
       "1                      5213                          118   \n",
       "\n",
       "   business_issues_Online Services  business_issues_Payment  product_issues  \\\n",
       "0                              321                     1724            5047   \n",
       "1                               72                     1662            1104   \n",
       "\n",
       "   product_issues_Damaged  product_issues_Electrical problems  \\\n",
       "0                    1358                                 195   \n",
       "1                     326                                  38   \n",
       "\n",
       "   product_issues_Missing pieces  product_issues_Quality  timeCaptured  \n",
       "0                            212                    3282         34893  \n",
       "1                            114                     626         16762  "
      ]
     },
     "execution_count": 78,
     "metadata": {},
     "output_type": "execute_result"
    }
   ],
   "source": [
    "online_issues"
   ]
  },
  {
   "cell_type": "code",
   "execution_count": 79,
   "metadata": {},
   "outputs": [
    {
     "data": {
      "text/html": [
       "<div>\n",
       "<style scoped>\n",
       "    .dataframe tbody tr th:only-of-type {\n",
       "        vertical-align: middle;\n",
       "    }\n",
       "\n",
       "    .dataframe tbody tr th {\n",
       "        vertical-align: top;\n",
       "    }\n",
       "\n",
       "    .dataframe thead th {\n",
       "        text-align: right;\n",
       "    }\n",
       "</style>\n",
       "<table border=\"1\" class=\"dataframe\">\n",
       "  <thead>\n",
       "    <tr style=\"text-align: right;\">\n",
       "      <th></th>\n",
       "      <th>online</th>\n",
       "      <th>business_issues</th>\n",
       "      <th>business_issues_Customer Services</th>\n",
       "      <th>business_issues_Delivery</th>\n",
       "      <th>business_issues_Maintenance</th>\n",
       "      <th>business_issues_Online Services</th>\n",
       "      <th>business_issues_Payment</th>\n",
       "      <th>product_issues</th>\n",
       "      <th>product_issues_Damaged</th>\n",
       "      <th>product_issues_Electrical problems</th>\n",
       "      <th>product_issues_Missing pieces</th>\n",
       "      <th>product_issues_Quality</th>\n",
       "      <th>timeCaptured</th>\n",
       "    </tr>\n",
       "  </thead>\n",
       "  <tbody>\n",
       "    <tr>\n",
       "      <th>0</th>\n",
       "      <td>0.0</td>\n",
       "      <td>0.381996</td>\n",
       "      <td>0.098644</td>\n",
       "      <td>0.215745</td>\n",
       "      <td>0.039693</td>\n",
       "      <td>0.009200</td>\n",
       "      <td>0.049408</td>\n",
       "      <td>0.144642</td>\n",
       "      <td>0.038919</td>\n",
       "      <td>0.005589</td>\n",
       "      <td>0.006076</td>\n",
       "      <td>0.094059</td>\n",
       "      <td>1.0</td>\n",
       "    </tr>\n",
       "    <tr>\n",
       "      <th>1</th>\n",
       "      <td>1.0</td>\n",
       "      <td>0.459492</td>\n",
       "      <td>0.042656</td>\n",
       "      <td>0.311001</td>\n",
       "      <td>0.007040</td>\n",
       "      <td>0.004295</td>\n",
       "      <td>0.099153</td>\n",
       "      <td>0.065863</td>\n",
       "      <td>0.019449</td>\n",
       "      <td>0.002267</td>\n",
       "      <td>0.006801</td>\n",
       "      <td>0.037346</td>\n",
       "      <td>1.0</td>\n",
       "    </tr>\n",
       "  </tbody>\n",
       "</table>\n",
       "</div>"
      ],
      "text/plain": [
       "   online  business_issues  business_issues_Customer Services  \\\n",
       "0     0.0         0.381996                           0.098644   \n",
       "1     1.0         0.459492                           0.042656   \n",
       "\n",
       "   business_issues_Delivery  business_issues_Maintenance  \\\n",
       "0                  0.215745                     0.039693   \n",
       "1                  0.311001                     0.007040   \n",
       "\n",
       "   business_issues_Online Services  business_issues_Payment  product_issues  \\\n",
       "0                         0.009200                 0.049408        0.144642   \n",
       "1                         0.004295                 0.099153        0.065863   \n",
       "\n",
       "   product_issues_Damaged  product_issues_Electrical problems  \\\n",
       "0                0.038919                            0.005589   \n",
       "1                0.019449                            0.002267   \n",
       "\n",
       "   product_issues_Missing pieces  product_issues_Quality  timeCaptured  \n",
       "0                       0.006076                0.094059           1.0  \n",
       "1                       0.006801                0.037346           1.0  "
      ]
     },
     "execution_count": 79,
     "metadata": {},
     "output_type": "execute_result"
    }
   ],
   "source": [
    "online_issues_perc"
   ]
  },
  {
   "cell_type": "markdown",
   "metadata": {},
   "source": [
    "### Service grade per type of store"
   ]
  },
  {
   "cell_type": "code",
   "execution_count": 57,
   "metadata": {},
   "outputs": [
    {
     "data": {
      "text/html": [
       "<div>\n",
       "<style scoped>\n",
       "    .dataframe tbody tr th:only-of-type {\n",
       "        vertical-align: middle;\n",
       "    }\n",
       "\n",
       "    .dataframe tbody tr th {\n",
       "        vertical-align: top;\n",
       "    }\n",
       "\n",
       "    .dataframe thead th {\n",
       "        text-align: right;\n",
       "    }\n",
       "</style>\n",
       "<table border=\"1\" class=\"dataframe\">\n",
       "  <thead>\n",
       "    <tr style=\"text-align: right;\">\n",
       "      <th>service_grade</th>\n",
       "      <th>3.0</th>\n",
       "      <th>4.0</th>\n",
       "      <th>7.0</th>\n",
       "      <th>8.0</th>\n",
       "    </tr>\n",
       "    <tr>\n",
       "      <th>online</th>\n",
       "      <th></th>\n",
       "      <th></th>\n",
       "      <th></th>\n",
       "      <th></th>\n",
       "    </tr>\n",
       "  </thead>\n",
       "  <tbody>\n",
       "    <tr>\n",
       "      <th>0.0</th>\n",
       "      <td>13.0</td>\n",
       "      <td>11.0</td>\n",
       "      <td>30.0</td>\n",
       "      <td>46.0</td>\n",
       "    </tr>\n",
       "    <tr>\n",
       "      <th>1.0</th>\n",
       "      <td>14.0</td>\n",
       "      <td>10.0</td>\n",
       "      <td>32.0</td>\n",
       "      <td>44.0</td>\n",
       "    </tr>\n",
       "    <tr>\n",
       "      <th>All</th>\n",
       "      <td>13.0</td>\n",
       "      <td>11.0</td>\n",
       "      <td>31.0</td>\n",
       "      <td>45.0</td>\n",
       "    </tr>\n",
       "  </tbody>\n",
       "</table>\n",
       "</div>"
      ],
      "text/plain": [
       "service_grade   3.0   4.0   7.0   8.0\n",
       "online                               \n",
       "0.0            13.0  11.0  30.0  46.0\n",
       "1.0            14.0  10.0  32.0  44.0\n",
       "All            13.0  11.0  31.0  45.0"
      ]
     },
     "execution_count": 57,
     "metadata": {},
     "output_type": "execute_result"
    }
   ],
   "source": [
    "pd.crosstab(df_RA['online'], df_RA['service_grade'], margins=True, normalize='index').apply(lambda r: round(r*100,0), axis=1)"
   ]
  },
  {
   "cell_type": "markdown",
   "metadata": {},
   "source": [
    "### Tag evolution in online vs offline stores"
   ]
  },
  {
   "cell_type": "code",
   "execution_count": 68,
   "metadata": {},
   "outputs": [],
   "source": [
    "def online_tag_micro(online=1,issue=''):\n",
    "    if(online == 1):\n",
    "        typ = 'Online'\n",
    "    else:\n",
    "        typ = 'Offline'\n",
    "    \n",
    "    agg = df_RA.groupby(['online','month']).agg({'datetime':'max', issue: ['sum', 'count']}) \n",
    "\n",
    "    date_df = df_RA.groupby(['month']).agg({'datetime':'max', issue: ['sum', 'count']})\n",
    "\n",
    "    df_agg = pd.DataFrame(agg.to_records())\n",
    "    df_agg.columns = ['online','date','datetime',issue, issue+'_count']\n",
    "    \n",
    "    date_df = pd.DataFrame(date_df.to_records())\n",
    "    date_df.columns = ['date','datetime',issue, issue+'_count']\n",
    "    \n",
    "    mean_qtd = len(df_agg['online'].unique()) \n",
    "\n",
    "    date_df[issue+'_mean']=date_df[issue]/mean_qtd\n",
    "    \n",
    "    if(issue!=''):\n",
    "        date_min = min(df_agg[df_agg['online']==online]['datetime'])\n",
    "        fig, ax = plt.subplots(figsize=(6,6))\n",
    "        plt.plot('date', issue,data=df_agg[(df_agg['business_name']==online)&(df_agg['datetime'].dt.year>=2019)].sort_values(by='datetime'),marker='.')\n",
    "        ax.plot('date', issue+'_mean',data=date_df[(date_df['datetime']>=date_min)&(date_df['datetime'].dt.year>=2019)].sort_values(by='datetime'),marker='.')\n",
    "        plt.title(issue+' - '+typ)\n",
    "        plt.legend([typ, 'Sector Average'])\n",
    "        plt.xticks(rotation=90)"
   ]
  },
  {
   "cell_type": "code",
   "execution_count": 69,
   "metadata": {},
   "outputs": [],
   "source": [
    "def online_tag_macro(online=1,macro_issue=''):\n",
    "    if(online == 1):\n",
    "        typ = 'Online'\n",
    "    else:\n",
    "        typ = 'Offline'\n",
    "    \n",
    "    agg = df_RA.groupby(['online','month']).agg({'business_issues':['sum', 'count'],\n",
    "                                                      'product_issues':['sum', 'count'],\n",
    "                                                      'datetime':'max'}) \n",
    "\n",
    "    date_df = df_RA.groupby(['month']).agg({'business_issues':['sum', 'count'],'product_issues':['sum', 'count'],\n",
    "                                         'datetime':'max'})\n",
    "        \n",
    "    df_agg = pd.DataFrame(agg.to_records())\n",
    "    df_agg.columns = ['online','date','business_issues', 'business_issues_count',\n",
    "                      'product_issues', 'product_issues_count','datetime']\n",
    "    df_agg['Total']=df_agg['business_issues']+df_agg['product_issues']\n",
    "    \n",
    "    date_df = pd.DataFrame(date_df.to_records())\n",
    "    date_df.columns = ['date','business_issues', 'business_issues_count','product_issues', \n",
    "                       'product_issues_count','datetime']\n",
    "    date_df['Total']=date_df['business_issues']+date_df['product_issues']\n",
    "    \n",
    "    mean_qtd = len(df_agg['online'].unique()) \n",
    "    date_df['product_issues_mean']=date_df['product_issues']/mean_qtd\n",
    "    date_df['business_issues_mean']=date_df['business_issues']/mean_qtd\n",
    "    date_df['Total_mean']=date_df['Total']/mean_qtd\n",
    "    \n",
    "    if(macro_issue==''):\n",
    "        date_min = min(df_agg[df_agg['online']==online]['datetime'])\n",
    "        fig, ax = plt.subplots(figsize=(6,6))\n",
    "        plt.plot('date', 'Total',data=df_agg[(df_agg['online']==online)&(df_agg['datetime'].dt.year>=2019)].sort_values(by='datetime'),marker='.')\n",
    "        ax.plot('date', 'Total_mean',data=date_df[(date_df['datetime']>=date_min)&(date_df['datetime'].dt.year>=2019)].sort_values(by='datetime'),marker='.')\n",
    "        plt.title('Total Problems - '+typ)\n",
    "        plt.legend([typ, 'Sector Average'])\n",
    "        plt.xticks(rotation=90)\n",
    "    else:\n",
    "        date_min = min(df_agg[df_agg['online']==online]['datetime'])\n",
    "        fig, ax = plt.subplots(figsize=(6,6))\n",
    "        plt.plot('date', macro_issue,data=df_agg[(df_agg['online']==online)&(df_agg['datetime'].dt.year>=2019)].sort_values(by='datetime'),marker='.')\n",
    "        ax.plot('date', macro_issue+'_mean',data=date_df[(date_df['datetime']>=date_min)&(date_df['datetime'].dt.year>=2019)].sort_values(by='datetime'),marker='.')\n",
    "        plt.title(macro_issue+' - '+typ)\n",
    "        plt.legend([typ, 'Sector Average'])\n",
    "        plt.xticks(rotation=90)\n"
   ]
  },
  {
   "cell_type": "code",
   "execution_count": 70,
   "metadata": {},
   "outputs": [],
   "source": [
    "def online_tag(online=1,macro_issue='',issue=''):\n",
    "    if(issue==''):\n",
    "        online_tag_macro(online, macro_issue)\n",
    "    else:\n",
    "        online_tag_micro(online, issue)"
   ]
  },
  {
   "cell_type": "code",
   "execution_count": 72,
   "metadata": {
    "scrolled": false
   },
   "outputs": [
    {
     "data": {
      "image/png": "[encoded data removed]",
      "text/plain": [
       "<Figure size 432x432 with 1 Axes>"
      ]
     },
     "metadata": {
      "needs_background": "light"
     },
     "output_type": "display_data"
    }
   ],
   "source": [
    "online_tag(0)"
   ]
  }
 ],
 "metadata": {
  "kernelspec": {
   "display_name": "Python 3",
   "language": "python",
   "name": "python3"
  },
  "language_info": {
   "codemirror_mode": {
    "name": "ipython",
    "version": 3
   },
   "file_extension": ".py",
   "mimetype": "text/x-python",
   "name": "python",
   "nbconvert_exporter": "python",
   "pygments_lexer": "ipython3",
   "version": "3.7.3"
  }
 },
 "nbformat": 4,
 "nbformat_minor": 4
}
