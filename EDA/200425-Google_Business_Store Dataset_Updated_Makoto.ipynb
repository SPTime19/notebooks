{
 "cells": [
  {
   "cell_type": "code",
   "execution_count": 1,
   "metadata": {},
   "outputs": [],
   "source": [
    "# Google Business Store Model\n",
    "\n",
    "\n",
    "from util import agg_jsonls  # helper function\n",
    "from pprint import pprint\n",
    "import numpy as np\n",
    "import pandas as pd\n",
    "from datetime import datetime, timedelta\n",
    "import matplotlib.pyplot as plt\n",
    "#import seaborn as sns\n",
    "\n",
    "import os\n",
    "from collections import Counter\n",
    "\n",
    "import nltk\n",
    "\n",
    "from pylab import rcParams\n",
    "from wordcloud import WordCloud\n",
    "from nltk import word_tokenize\n",
    "\n",
    "from sklearn.feature_extraction.text import CountVectorizer\n",
    "from sklearn.model_selection import train_test_split\n",
    "from sklearn.linear_model import LogisticRegression\n",
    "from sklearn.metrics import accuracy_score\n",
    "from sklearn.metrics import f1_score\n",
    "from sklearn.ensemble import RandomForestClassifier\n",
    "from sklearn.feature_extraction.text import TfidfVectorizer\n",
    "\n",
    "rcParams['figure.figsize'] = 30, 60\n",
    "%matplotlib inline"
   ]
  },
  {
   "cell_type": "code",
   "execution_count": 2,
   "metadata": {},
   "outputs": [
    {
     "name": "stdout",
     "output_type": "stream",
     "text": [
      "/Users/mmikegame/repos/DS4A/SPTime19/notebooks\n"
     ]
    }
   ],
   "source": [
    "%cd /Users/mmikegame/repos/DS4A/SPTime19/notebooks/"
   ]
  },
  {
   "cell_type": "code",
   "execution_count": 3,
   "metadata": {},
   "outputs": [],
   "source": [
    "from util import agg_jsonls  # helper function"
   ]
  },
  {
   "cell_type": "code",
   "execution_count": 4,
   "metadata": {},
   "outputs": [
    {
     "name": "stdout",
     "output_type": "stream",
     "text": [
      "We have a total of 149147 reviews!\n",
      "{'caption': 'Ótima',\n",
      " 'geo_location': {'lat': '-23.483583', 'long': '-46.6468911'},\n",
      " 'id_review': 'ChZDSUhNMG9nS0VJQ0FnSUNjbXZ2SUhBEAEaFkxPUk5XOVZEWTlIRzB4TUpGcHBkTnc',\n",
      " 'n_photo_user': 0,\n",
      " 'n_review_user': 7,\n",
      " 'rating': 5.0,\n",
      " 'relative_date': 'um mês atrás',\n",
      " 'retrieval_date': '2020-04-13T19:30:11Z',\n",
      " 'store': 'casas-bahia',\n",
      " 'url_user': 'https://www.google.com/maps/contrib/104741599272559574155?hl=pt-BR',\n",
      " 'username': 'Isabel Nogueira'}\n"
     ]
    }
   ],
   "source": [
    "unique_ids = set()\n",
    "reviewsGB = []\n",
    "for complaint in agg_jsonls(\"dataset/final_dataset_GB\"):\n",
    "    if \"id_review\" in complaint and complaint[\"id_review\"] not in unique_ids:\n",
    "        unique_ids.add(complaint[\"id_review\"])\n",
    "        reviewsGB.append(complaint)\n",
    "\n",
    "print(f\"We have a total of {len(reviewsGB)} reviews!\")\n",
    "pprint(reviewsGB[0])"
   ]
  },
  {
   "cell_type": "code",
   "execution_count": 5,
   "metadata": {},
   "outputs": [
    {
     "name": "stdout",
     "output_type": "stream",
     "text": [
      "Reviews with caption: 40.03%\n"
     ]
    }
   ],
   "source": [
    "caption_reviews = [i for i in reviewsGB if len(i[\"caption\"]) > 0]\n",
    "\n",
    "print(f\"Reviews with caption: {round((len(caption_reviews) / len(reviewsGB))*100,2)}%\")"
   ]
  },
  {
   "cell_type": "code",
   "execution_count": 6,
   "metadata": {
    "scrolled": true
   },
   "outputs": [
    {
     "name": "stdout",
     "output_type": "stream",
     "text": [
      "[{'caption': 'Ótima',\n",
      "  'geo_location': {'lat': '-23.483583', 'long': '-46.6468911'},\n",
      "  'id_review': 'ChZDSUhNMG9nS0VJQ0FnSUNjbXZ2SUhBEAEaFkxPUk5XOVZEWTlIRzB4TUpGcHBkTnc',\n",
      "  'n_photo_user': 0,\n",
      "  'n_review_user': 7,\n",
      "  'rating': 5.0,\n",
      "  'relative_date': 'um mês atrás',\n",
      "  'retrieval_date': '2020-04-13T19:30:11Z',\n",
      "  'store': 'casas-bahia',\n",
      "  'url_user': 'https://www.google.com/maps/contrib/104741599272559574155?hl=pt-BR',\n",
      "  'username': 'Isabel Nogueira'},\n",
      " {'caption': '(Tradução do Google) Muito bom serviço, bons produtos e bons '\n",
      "             'preços.  (Original) Very good service, good products and good '\n",
      "             'prices.',\n",
      "  'geo_location': {'lat': '-23.483583', 'long': '-46.6468911'},\n",
      "  'id_review': 'ChdDSUhNMG9nS0VJQ0FnSUNjd3NXS2hnRRABGhZwRE1yZ3BrUGRidU9FOVR1b2M4eENR',\n",
      "  'n_photo_user': 0,\n",
      "  'n_review_user': 0,\n",
      "  'rating': 4.0,\n",
      "  'relative_date': 'um mês atrás',\n",
      "  'retrieval_date': '2020-04-13T19:30:11Z',\n",
      "  'store': 'casas-bahia',\n",
      "  'url_user': 'https://www.google.com/maps/contrib/115536015274340292656?hl=pt-BR',\n",
      "  'username': 'Mac Guitars'},\n",
      " {'caption': 'Como na maioria das lojas os funcionarios parecem trabalhar sem '\n",
      "             'motivacao',\n",
      "  'geo_location': {'lat': '-23.483583', 'long': '-46.6468911'},\n",
      "  'id_review': 'ChZDSUhNMG9nS0VJQ0FnSURzeW96OUtBEAEaFmZtdUVESlp5QTdFZjk5VHBDMTcwQmc',\n",
      "  'n_photo_user': 0,\n",
      "  'n_review_user': 0,\n",
      "  'rating': 2.0,\n",
      "  'relative_date': 'um mês atrás',\n",
      "  'retrieval_date': '2020-04-13T19:30:11Z',\n",
      "  'store': 'casas-bahia',\n",
      "  'url_user': 'https://www.google.com/maps/contrib/107218818252208250412?hl=pt-BR',\n",
      "  'username': 'Chaveiro magia das chaves'},\n",
      " {'caption': 'Bom atendimento.',\n",
      "  'geo_location': {'lat': '-23.483583', 'long': '-46.6468911'},\n",
      "  'id_review': 'ChZDSUhNMG9nS0VJQ0FnSURzMHFPLUZnEAEaFjhTS1Bzbk1BX2puTmtCSF9sZldYRkE',\n",
      "  'n_photo_user': 0,\n",
      "  'n_review_user': 0,\n",
      "  'rating': 4.0,\n",
      "  'relative_date': 'um mês atrás',\n",
      "  'retrieval_date': '2020-04-13T19:30:11Z',\n",
      "  'store': 'casas-bahia',\n",
      "  'url_user': 'https://www.google.com/maps/contrib/114011298631035815930?hl=pt-BR',\n",
      "  'username': 'Eneida Alves Regado'},\n",
      " {'caption': 'Ótimo lugar',\n",
      "  'geo_location': {'lat': '-23.483583', 'long': '-46.6468911'},\n",
      "  'id_review': 'ChdDSUhNMG9nS0VJQ0FnSURzbUl6bTJRRRABGhZwcWJEYm5TUk4zbkdEVFZ0UWpCb2xR',\n",
      "  'n_photo_user': 0,\n",
      "  'n_review_user': 0,\n",
      "  'rating': 5.0,\n",
      "  'relative_date': 'um mês atrás',\n",
      "  'retrieval_date': '2020-04-13T19:30:11Z',\n",
      "  'store': 'casas-bahia',\n",
      "  'url_user': 'https://www.google.com/maps/contrib/108158600661887144840?hl=pt-BR',\n",
      "  'username': 'Fabio Rodrigues Alves'},\n",
      " {'caption': 'Muito bom o atendimento, comprei um celular; pela internet e '\n",
      "             'eles foram bem atenciosos. Referente a nota fiscal que não '\n",
      "             'estava disponível no sistema. Pois retirei o celular no Shopping '\n",
      "             'Santana Parque. O gerente e o Sr. Aloysio da retirada do celular '\n",
      "             'foi muito prestativo.',\n",
      "  'geo_location': {'lat': '-23.483583', 'long': '-46.6468911'},\n",
      "  'id_review': 'ChZDSUhNMG9nS0VJQ0FnSURzNk42S2VBEAEaFmFrUTFIOXhScEJ0TUxNc2xNekFiVGc',\n",
      "  'n_photo_user': 0,\n",
      "  'n_review_user': 64,\n",
      "  'rating': 5.0,\n",
      "  'relative_date': 'um mês atrás',\n",
      "  'retrieval_date': '2020-04-13T19:30:11Z',\n",
      "  'store': 'casas-bahia',\n",
      "  'url_user': 'https://www.google.com/maps/contrib/118205775377411725550?hl=pt-BR',\n",
      "  'username': 'Wellington Jocz'},\n",
      " {'caption': 'Detesto',\n",
      "  'geo_location': {'lat': '-23.483583', 'long': '-46.6468911'},\n",
      "  'id_review': 'ChZDSUhNMG9nS0VJQ0FnSUNzMF9MeGVBEAEaFjNIT2toc2JHTHN0TE1INktXVHJLRmc',\n",
      "  'n_photo_user': 0,\n",
      "  'n_review_user': 39,\n",
      "  'rating': 1.0,\n",
      "  'relative_date': '2 meses atrás',\n",
      "  'retrieval_date': '2020-04-13T19:30:17Z',\n",
      "  'store': 'casas-bahia',\n",
      "  'url_user': 'https://www.google.com/maps/contrib/108419174454297912282?hl=pt-BR',\n",
      "  'username': 'Bia Goulart'},\n",
      " {'caption': 'Bom',\n",
      "  'geo_location': {'lat': '-23.483583', 'long': '-46.6468911'},\n",
      "  'id_review': 'ChZDSUhNMG9nS0VJQ0FnSUNzZ2R1eGRREAEaFkswcTRCQ1dvRlp5ckJSM2o4V3gyalE',\n",
      "  'n_photo_user': 0,\n",
      "  'n_review_user': 0,\n",
      "  'rating': 4.0,\n",
      "  'relative_date': '2 meses atrás',\n",
      "  'retrieval_date': '2020-04-13T19:30:24Z',\n",
      "  'store': 'casas-bahia',\n",
      "  'url_user': 'https://www.google.com/maps/contrib/104568398300133231520?hl=pt-BR',\n",
      "  'username': 'FT. PM DOGLAS'},\n",
      " {'caption': 'Bem a loja em si tem variedades,diria que geralmente é a unidade '\n",
      "             'mais bem colocada comparada a outra que visitei..porém os '\n",
      "             'estoques do ps4 deveriam ficar nessa msm não na lapa pra '\n",
      "             'frente..pq sem uma informação tive que viajar ate uma unidade '\n",
      "             'longe pro atendente me dizer que o estoque de ps4 tinha sido '\n",
      "             'danificado por conta da agua..',\n",
      "  'geo_location': {'lat': '-23.483583', 'long': '-46.6468911'},\n",
      "  'id_review': 'ChZDSUhNMG9nS0VJQ0FnSUNzaHFxQ1BREAEaFm4tQzI5eDBkRWhXZFc3bE5oeW1TeVE',\n",
      "  'n_photo_user': 0,\n",
      "  'n_review_user': 0,\n",
      "  'rating': 3.0,\n",
      "  'relative_date': '2 meses atrás',\n",
      "  'retrieval_date': '2020-04-13T19:30:24Z',\n",
      "  'store': 'casas-bahia',\n",
      "  'url_user': 'https://www.google.com/maps/contrib/114150275893629138408?hl=pt-BR',\n",
      "  'username': 'Ksmith %'},\n",
      " {'caption': 'Os vendedores se esforçam, mas são um pouco perdidos,querem '\n",
      "             'abraçar todos compradores ao mesmo tempo',\n",
      "  'geo_location': {'lat': '-23.483583', 'long': '-46.6468911'},\n",
      "  'id_review': 'ChZDSUhNMG9nS0VJQ0FnSUNzLXJYd1pREAEaFnFDZ0JUZzhNa1AtVk9SOUt6Z0VJa3c',\n",
      "  'n_photo_user': 0,\n",
      "  'n_review_user': 0,\n",
      "  'rating': 3.0,\n",
      "  'relative_date': '2 meses atrás',\n",
      "  'retrieval_date': '2020-04-13T19:30:24Z',\n",
      "  'store': 'casas-bahia',\n",
      "  'url_user': 'https://www.google.com/maps/contrib/107025848420517571842?hl=pt-BR',\n",
      "  'username': 'Joelson bone'}]\n"
     ]
    }
   ],
   "source": [
    "pprint(caption_reviews[0:10])"
   ]
  },
  {
   "cell_type": "code",
   "execution_count": 7,
   "metadata": {},
   "outputs": [
    {
     "name": "stdout",
     "output_type": "stream",
     "text": [
      "Mean ratings including reviews from anyone:\n",
      "Average overall grade of 3.85, out of 59708 reviews.\n",
      "Mean ratings including reviews by experts:\n",
      "Average expert grade 3.89, out of 15824 reviews.\n",
      "27% of reviews are from experts.\n"
     ]
    }
   ],
   "source": [
    "# Average ratings for everyone.\n",
    "print('Mean ratings including reviews from anyone:')\n",
    "print(f\"Average overall grade of {round(np.average([i['rating'] for i in caption_reviews]),2)}, out of {len(caption_reviews)} reviews.\")\n",
    "\n",
    "# Average rates for experts. Experts are definied as users who have made more 3 reviews or more.\n",
    "print('Mean ratings including reviews by experts:')\n",
    "experts = [i for i in caption_reviews if (i[\"n_review_user\"] > 2)]\n",
    "print(f\"Average expert grade {round(np.average([i['rating'] for i in caption_reviews if i['n_review_user'] > 2]),2)}, out of {round(len(experts),2)} reviews.\")\n",
    "\n",
    "print(f'{round((len(experts)/len(caption_reviews))*100)}% of reviews are from experts.')"
   ]
  },
  {
   "cell_type": "code",
   "execution_count": 8,
   "metadata": {},
   "outputs": [],
   "source": [
    "relative_date = {\n",
    "    'uma semana atrás': 7,\n",
    "    'a week ago': 7,\n",
    "    '2 semanas atrás': 14,\n",
    "    '2 weeks ago': 14,\n",
    "    '3 semanas atrás': 21, \n",
    "    '3 weeks ago': 21, \n",
    "    '4 semanas atrás': 28, \n",
    "    '4 weeks ago': 28, \n",
    "    'um mês atrás': 30,\n",
    "    'a month ago': 30,\n",
    "    '2 meses atrás': 60, \n",
    "    '2 months ago': 60,\n",
    "    '3 meses atrás': 90, \n",
    "    '3 months ago': 90, \n",
    "    '4 meses atrás': 120,\n",
    "    '4 months ago': 120,\n",
    "    '5 meses atrás': 150,\n",
    "    '5 months ago': 150,\n",
    "    '6 meses atrás': 180, \n",
    "    '6 months ago': 180, \n",
    "    '7 meses atrás': 210, \n",
    "    '7 months ago': 210, \n",
    "    '8 meses atrás': 240, \n",
    "    '8 months ago': 240,\n",
    "    '9 meses atrás': 270,\n",
    "    '9 months ago': 270,\n",
    "    '10 meses atrás': 300,\n",
    "    '10 months ago': 300,\n",
    "    '11 meses atrás': 330, \n",
    "    '11 months ago': 330, \n",
    "    'um ano atrás': 365, \n",
    "    'a year ago': 365, \n",
    "    '2 anos atrás': 730,\n",
    "    '2 years ago': 730,\n",
    "    '3 anos atrás': 1095, \n",
    "    '3 years ago': 1095, \n",
    "    '4 anos atrás': 1460, \n",
    "    '4 years ago': 1460, \n",
    "    '5 anos atrás': 1825, \n",
    "    '5 years ago': 1825, \n",
    "    '6 anos atrás': 2190,\n",
    "    '6 years ago': 2190,\n",
    "    '7 anos atrás': 2555,\n",
    "    '7 years ago': 2555,\n",
    "    '8 anos atrás': 2920,\n",
    "    '8 years ago': 2920,\n",
    "}"
   ]
  },
  {
   "cell_type": "code",
   "execution_count": 9,
   "metadata": {},
   "outputs": [],
   "source": [
    "def comment_day(review):\n",
    "    init_dt = datetime.strptime(review[\"retrieval_date\"], '%Y-%m-%dT%H:%M:%SZ')\n",
    "    relative = relative_date[review['relative_date']]\n",
    "    return init_dt - timedelta(days=relative)"
   ]
  },
  {
   "cell_type": "code",
   "execution_count": 10,
   "metadata": {},
   "outputs": [
    {
     "data": {
      "text/plain": [
       "{'id_review': 'ChZDSUhNMG9nS0VJQ0FnSUNjbXZ2SUhBEAEaFkxPUk5XOVZEWTlIRzB4TUpGcHBkTnc',\n",
       " 'caption': 'Ótima',\n",
       " 'relative_date': 'um mês atrás',\n",
       " 'retrieval_date': '2020-04-13T19:30:11Z',\n",
       " 'rating': 5.0,\n",
       " 'username': 'Isabel Nogueira',\n",
       " 'n_review_user': 7,\n",
       " 'n_photo_user': 0,\n",
       " 'url_user': 'https://www.google.com/maps/contrib/104741599272559574155?hl=pt-BR',\n",
       " 'geo_location': {'lat': '-23.483583', 'long': '-46.6468911'},\n",
       " 'store': 'casas-bahia'}"
      ]
     },
     "execution_count": 10,
     "metadata": {},
     "output_type": "execute_result"
    }
   ],
   "source": [
    "reviewsGB[0]"
   ]
  },
  {
   "cell_type": "code",
   "execution_count": 11,
   "metadata": {},
   "outputs": [
    {
     "data": {
      "text/plain": [
       "datetime.datetime(2020, 3, 14, 19, 30, 11)"
      ]
     },
     "execution_count": 11,
     "metadata": {},
     "output_type": "execute_result"
    }
   ],
   "source": [
    "comment_day(reviewsGB[0])"
   ]
  },
  {
   "cell_type": "code",
   "execution_count": 12,
   "metadata": {},
   "outputs": [],
   "source": [
    "def comment_day(review):\n",
    "    init_dt = datetime.strptime(review[\"retrieval_date\"], '%Y-%m-%dT%H:%M:%SZ')\n",
    "    relative = relative_date[review['relative_date']]\n",
    "    return init_dt - timedelta(days=relative)\n",
    "\n",
    "def format_GB_to_df(review):\n",
    "    cols_for_df = ['caption', 'geo_location', 'id_review' , 'n_photo_user', 'n_review_user', \n",
    "                   'rating' , 'relative_date', 'retrieval_date', 'store', 'url_user', 'username']\n",
    "    r_cp = {col: review[col] for col in cols_for_df if col in review}\n",
    "    r_cp[\"len_comment\"] = len(review['caption'])\n",
    "    r_cp[\"relative\"] = relative_date[review['relative_date']]\n",
    "    r_cp[\"date_comment\"] = comment_day(review)\n",
    "    return r_cp"
   ]
  },
  {
   "cell_type": "code",
   "execution_count": 13,
   "metadata": {},
   "outputs": [
    {
     "data": {
      "text/html": [
       "<div>\n",
       "<style scoped>\n",
       "    .dataframe tbody tr th:only-of-type {\n",
       "        vertical-align: middle;\n",
       "    }\n",
       "\n",
       "    .dataframe tbody tr th {\n",
       "        vertical-align: top;\n",
       "    }\n",
       "\n",
       "    .dataframe thead th {\n",
       "        text-align: right;\n",
       "    }\n",
       "</style>\n",
       "<table border=\"1\" class=\"dataframe\">\n",
       "  <thead>\n",
       "    <tr style=\"text-align: right;\">\n",
       "      <th></th>\n",
       "      <th>caption</th>\n",
       "      <th>geo_location</th>\n",
       "      <th>id_review</th>\n",
       "      <th>n_photo_user</th>\n",
       "      <th>n_review_user</th>\n",
       "      <th>rating</th>\n",
       "      <th>relative_date</th>\n",
       "      <th>retrieval_date</th>\n",
       "      <th>store</th>\n",
       "      <th>url_user</th>\n",
       "      <th>username</th>\n",
       "      <th>len_comment</th>\n",
       "      <th>relative</th>\n",
       "      <th>date_comment</th>\n",
       "    </tr>\n",
       "  </thead>\n",
       "  <tbody>\n",
       "    <tr>\n",
       "      <th>0</th>\n",
       "      <td>Ótima</td>\n",
       "      <td>{'lat': '-23.483583', 'long': '-46.6468911'}</td>\n",
       "      <td>ChZDSUhNMG9nS0VJQ0FnSUNjbXZ2SUhBEAEaFkxPUk5XOV...</td>\n",
       "      <td>0</td>\n",
       "      <td>7</td>\n",
       "      <td>5.0</td>\n",
       "      <td>um mês atrás</td>\n",
       "      <td>2020-04-13T19:30:11Z</td>\n",
       "      <td>casas-bahia</td>\n",
       "      <td>https://www.google.com/maps/contrib/1047415992...</td>\n",
       "      <td>Isabel Nogueira</td>\n",
       "      <td>5</td>\n",
       "      <td>30</td>\n",
       "      <td>2020-03-14 19:30:11</td>\n",
       "    </tr>\n",
       "    <tr>\n",
       "      <th>1</th>\n",
       "      <td>(Tradução do Google) Muito bom serviço, bons p...</td>\n",
       "      <td>{'lat': '-23.483583', 'long': '-46.6468911'}</td>\n",
       "      <td>ChdDSUhNMG9nS0VJQ0FnSUNjd3NXS2hnRRABGhZwRE1yZ3...</td>\n",
       "      <td>0</td>\n",
       "      <td>0</td>\n",
       "      <td>4.0</td>\n",
       "      <td>um mês atrás</td>\n",
       "      <td>2020-04-13T19:30:11Z</td>\n",
       "      <td>casas-bahia</td>\n",
       "      <td>https://www.google.com/maps/contrib/1155360152...</td>\n",
       "      <td>Mac Guitars</td>\n",
       "      <td>130</td>\n",
       "      <td>30</td>\n",
       "      <td>2020-03-14 19:30:11</td>\n",
       "    </tr>\n",
       "    <tr>\n",
       "      <th>2</th>\n",
       "      <td></td>\n",
       "      <td>{'lat': '-23.483583', 'long': '-46.6468911'}</td>\n",
       "      <td>ChZDSUhNMG9nS0VJQ0FnSUNjOExiOGRnEAEaFjJSaFB5aW...</td>\n",
       "      <td>0</td>\n",
       "      <td>1</td>\n",
       "      <td>3.0</td>\n",
       "      <td>um mês atrás</td>\n",
       "      <td>2020-04-13T19:30:11Z</td>\n",
       "      <td>casas-bahia</td>\n",
       "      <td>https://www.google.com/maps/contrib/1140968320...</td>\n",
       "      <td>Tiago Leonel Barreto</td>\n",
       "      <td>0</td>\n",
       "      <td>30</td>\n",
       "      <td>2020-03-14 19:30:11</td>\n",
       "    </tr>\n",
       "    <tr>\n",
       "      <th>3</th>\n",
       "      <td></td>\n",
       "      <td>{'lat': '-23.483583', 'long': '-46.6468911'}</td>\n",
       "      <td>ChdDSUhNMG9nS0VJQ0FnSURzaGZ5SHJ3RRABGhYzeDJiSG...</td>\n",
       "      <td>0</td>\n",
       "      <td>0</td>\n",
       "      <td>3.0</td>\n",
       "      <td>um mês atrás</td>\n",
       "      <td>2020-04-13T19:30:11Z</td>\n",
       "      <td>casas-bahia</td>\n",
       "      <td>https://www.google.com/maps/contrib/1165777418...</td>\n",
       "      <td>robson desiderio</td>\n",
       "      <td>0</td>\n",
       "      <td>30</td>\n",
       "      <td>2020-03-14 19:30:11</td>\n",
       "    </tr>\n",
       "    <tr>\n",
       "      <th>4</th>\n",
       "      <td></td>\n",
       "      <td>{'lat': '-23.483583', 'long': '-46.6468911'}</td>\n",
       "      <td>ChdDSUhNMG9nS0VJQ0FnSURzcXVfWjlRRRABGhZFZHNLZH...</td>\n",
       "      <td>0</td>\n",
       "      <td>0</td>\n",
       "      <td>5.0</td>\n",
       "      <td>um mês atrás</td>\n",
       "      <td>2020-04-13T19:30:11Z</td>\n",
       "      <td>casas-bahia</td>\n",
       "      <td>https://www.google.com/maps/contrib/1123043389...</td>\n",
       "      <td>Marluce Pinho Bragança Souza</td>\n",
       "      <td>0</td>\n",
       "      <td>30</td>\n",
       "      <td>2020-03-14 19:30:11</td>\n",
       "    </tr>\n",
       "  </tbody>\n",
       "</table>\n",
       "</div>"
      ],
      "text/plain": [
       "                                             caption  \\\n",
       "0                                              Ótima   \n",
       "1  (Tradução do Google) Muito bom serviço, bons p...   \n",
       "2                                                      \n",
       "3                                                      \n",
       "4                                                      \n",
       "\n",
       "                                   geo_location  \\\n",
       "0  {'lat': '-23.483583', 'long': '-46.6468911'}   \n",
       "1  {'lat': '-23.483583', 'long': '-46.6468911'}   \n",
       "2  {'lat': '-23.483583', 'long': '-46.6468911'}   \n",
       "3  {'lat': '-23.483583', 'long': '-46.6468911'}   \n",
       "4  {'lat': '-23.483583', 'long': '-46.6468911'}   \n",
       "\n",
       "                                           id_review  n_photo_user  \\\n",
       "0  ChZDSUhNMG9nS0VJQ0FnSUNjbXZ2SUhBEAEaFkxPUk5XOV...             0   \n",
       "1  ChdDSUhNMG9nS0VJQ0FnSUNjd3NXS2hnRRABGhZwRE1yZ3...             0   \n",
       "2  ChZDSUhNMG9nS0VJQ0FnSUNjOExiOGRnEAEaFjJSaFB5aW...             0   \n",
       "3  ChdDSUhNMG9nS0VJQ0FnSURzaGZ5SHJ3RRABGhYzeDJiSG...             0   \n",
       "4  ChdDSUhNMG9nS0VJQ0FnSURzcXVfWjlRRRABGhZFZHNLZH...             0   \n",
       "\n",
       "   n_review_user  rating relative_date        retrieval_date        store  \\\n",
       "0              7     5.0  um mês atrás  2020-04-13T19:30:11Z  casas-bahia   \n",
       "1              0     4.0  um mês atrás  2020-04-13T19:30:11Z  casas-bahia   \n",
       "2              1     3.0  um mês atrás  2020-04-13T19:30:11Z  casas-bahia   \n",
       "3              0     3.0  um mês atrás  2020-04-13T19:30:11Z  casas-bahia   \n",
       "4              0     5.0  um mês atrás  2020-04-13T19:30:11Z  casas-bahia   \n",
       "\n",
       "                                            url_user  \\\n",
       "0  https://www.google.com/maps/contrib/1047415992...   \n",
       "1  https://www.google.com/maps/contrib/1155360152...   \n",
       "2  https://www.google.com/maps/contrib/1140968320...   \n",
       "3  https://www.google.com/maps/contrib/1165777418...   \n",
       "4  https://www.google.com/maps/contrib/1123043389...   \n",
       "\n",
       "                       username  len_comment  relative        date_comment  \n",
       "0               Isabel Nogueira            5        30 2020-03-14 19:30:11  \n",
       "1                   Mac Guitars          130        30 2020-03-14 19:30:11  \n",
       "2          Tiago Leonel Barreto            0        30 2020-03-14 19:30:11  \n",
       "3              robson desiderio            0        30 2020-03-14 19:30:11  \n",
       "4  Marluce Pinho Bragança Souza            0        30 2020-03-14 19:30:11  "
      ]
     },
     "execution_count": 13,
     "metadata": {},
     "output_type": "execute_result"
    }
   ],
   "source": [
    "df = pd.DataFrame([format_GB_to_df(row) for row in reviewsGB])\n",
    "df.head()"
   ]
  },
  {
   "cell_type": "code",
   "execution_count": 14,
   "metadata": {},
   "outputs": [
    {
     "data": {
      "text/html": [
       "<div>\n",
       "<style scoped>\n",
       "    .dataframe tbody tr th:only-of-type {\n",
       "        vertical-align: middle;\n",
       "    }\n",
       "\n",
       "    .dataframe tbody tr th {\n",
       "        vertical-align: top;\n",
       "    }\n",
       "\n",
       "    .dataframe thead th {\n",
       "        text-align: right;\n",
       "    }\n",
       "</style>\n",
       "<table border=\"1\" class=\"dataframe\">\n",
       "  <thead>\n",
       "    <tr style=\"text-align: right;\">\n",
       "      <th></th>\n",
       "      <th>caption</th>\n",
       "      <th>geo_location</th>\n",
       "      <th>id_review</th>\n",
       "      <th>n_photo_user</th>\n",
       "      <th>n_review_user</th>\n",
       "      <th>rating</th>\n",
       "      <th>relative_date</th>\n",
       "      <th>retrieval_date</th>\n",
       "      <th>store</th>\n",
       "      <th>url_user</th>\n",
       "      <th>username</th>\n",
       "      <th>len_comment</th>\n",
       "      <th>relative</th>\n",
       "      <th>date_comment</th>\n",
       "    </tr>\n",
       "  </thead>\n",
       "  <tbody>\n",
       "    <tr>\n",
       "      <th>2</th>\n",
       "      <td></td>\n",
       "      <td>{'lat': '-23.483583', 'long': '-46.6468911'}</td>\n",
       "      <td>ChZDSUhNMG9nS0VJQ0FnSUNjOExiOGRnEAEaFjJSaFB5aW...</td>\n",
       "      <td>0</td>\n",
       "      <td>1</td>\n",
       "      <td>3.0</td>\n",
       "      <td>um mês atrás</td>\n",
       "      <td>2020-04-13T19:30:11Z</td>\n",
       "      <td>casas-bahia</td>\n",
       "      <td>https://www.google.com/maps/contrib/1140968320...</td>\n",
       "      <td>Tiago Leonel Barreto</td>\n",
       "      <td>0</td>\n",
       "      <td>30</td>\n",
       "      <td>2020-03-14 19:30:11</td>\n",
       "    </tr>\n",
       "    <tr>\n",
       "      <th>3</th>\n",
       "      <td></td>\n",
       "      <td>{'lat': '-23.483583', 'long': '-46.6468911'}</td>\n",
       "      <td>ChdDSUhNMG9nS0VJQ0FnSURzaGZ5SHJ3RRABGhYzeDJiSG...</td>\n",
       "      <td>0</td>\n",
       "      <td>0</td>\n",
       "      <td>3.0</td>\n",
       "      <td>um mês atrás</td>\n",
       "      <td>2020-04-13T19:30:11Z</td>\n",
       "      <td>casas-bahia</td>\n",
       "      <td>https://www.google.com/maps/contrib/1165777418...</td>\n",
       "      <td>robson desiderio</td>\n",
       "      <td>0</td>\n",
       "      <td>30</td>\n",
       "      <td>2020-03-14 19:30:11</td>\n",
       "    </tr>\n",
       "    <tr>\n",
       "      <th>5</th>\n",
       "      <td>Como na maioria das lojas os funcionarios pare...</td>\n",
       "      <td>{'lat': '-23.483583', 'long': '-46.6468911'}</td>\n",
       "      <td>ChZDSUhNMG9nS0VJQ0FnSURzeW96OUtBEAEaFmZtdUVESl...</td>\n",
       "      <td>0</td>\n",
       "      <td>0</td>\n",
       "      <td>2.0</td>\n",
       "      <td>um mês atrás</td>\n",
       "      <td>2020-04-13T19:30:11Z</td>\n",
       "      <td>casas-bahia</td>\n",
       "      <td>https://www.google.com/maps/contrib/1072188182...</td>\n",
       "      <td>Chaveiro magia das chaves</td>\n",
       "      <td>73</td>\n",
       "      <td>30</td>\n",
       "      <td>2020-03-14 19:30:11</td>\n",
       "    </tr>\n",
       "    <tr>\n",
       "      <th>8</th>\n",
       "      <td></td>\n",
       "      <td>{'lat': '-23.483583', 'long': '-46.6468911'}</td>\n",
       "      <td>ChdDSUhNMG9nS0VJQ0FnSURzb29yaDZ3RRABGhZwYnhNd2...</td>\n",
       "      <td>0</td>\n",
       "      <td>0</td>\n",
       "      <td>1.0</td>\n",
       "      <td>um mês atrás</td>\n",
       "      <td>2020-04-13T19:30:11Z</td>\n",
       "      <td>casas-bahia</td>\n",
       "      <td>https://www.google.com/maps/contrib/1036963921...</td>\n",
       "      <td>Fabiana Angelo</td>\n",
       "      <td>0</td>\n",
       "      <td>30</td>\n",
       "      <td>2020-03-14 19:30:11</td>\n",
       "    </tr>\n",
       "    <tr>\n",
       "      <th>15</th>\n",
       "      <td></td>\n",
       "      <td>{'lat': '-23.483583', 'long': '-46.6468911'}</td>\n",
       "      <td>ChdDSUhNMG9nS0VJQ0FnSURzZ0tIRW1BRRABGhZfUjlxbl...</td>\n",
       "      <td>0</td>\n",
       "      <td>0</td>\n",
       "      <td>2.0</td>\n",
       "      <td>um mês atrás</td>\n",
       "      <td>2020-04-13T19:30:11Z</td>\n",
       "      <td>casas-bahia</td>\n",
       "      <td>https://www.google.com/maps/contrib/1157404583...</td>\n",
       "      <td>Edvaldo Barbosa Sobrinho</td>\n",
       "      <td>0</td>\n",
       "      <td>30</td>\n",
       "      <td>2020-03-14 19:30:11</td>\n",
       "    </tr>\n",
       "  </tbody>\n",
       "</table>\n",
       "</div>"
      ],
      "text/plain": [
       "                                              caption  \\\n",
       "2                                                       \n",
       "3                                                       \n",
       "5   Como na maioria das lojas os funcionarios pare...   \n",
       "8                                                       \n",
       "15                                                      \n",
       "\n",
       "                                    geo_location  \\\n",
       "2   {'lat': '-23.483583', 'long': '-46.6468911'}   \n",
       "3   {'lat': '-23.483583', 'long': '-46.6468911'}   \n",
       "5   {'lat': '-23.483583', 'long': '-46.6468911'}   \n",
       "8   {'lat': '-23.483583', 'long': '-46.6468911'}   \n",
       "15  {'lat': '-23.483583', 'long': '-46.6468911'}   \n",
       "\n",
       "                                            id_review  n_photo_user  \\\n",
       "2   ChZDSUhNMG9nS0VJQ0FnSUNjOExiOGRnEAEaFjJSaFB5aW...             0   \n",
       "3   ChdDSUhNMG9nS0VJQ0FnSURzaGZ5SHJ3RRABGhYzeDJiSG...             0   \n",
       "5   ChZDSUhNMG9nS0VJQ0FnSURzeW96OUtBEAEaFmZtdUVESl...             0   \n",
       "8   ChdDSUhNMG9nS0VJQ0FnSURzb29yaDZ3RRABGhZwYnhNd2...             0   \n",
       "15  ChdDSUhNMG9nS0VJQ0FnSURzZ0tIRW1BRRABGhZfUjlxbl...             0   \n",
       "\n",
       "    n_review_user  rating relative_date        retrieval_date        store  \\\n",
       "2               1     3.0  um mês atrás  2020-04-13T19:30:11Z  casas-bahia   \n",
       "3               0     3.0  um mês atrás  2020-04-13T19:30:11Z  casas-bahia   \n",
       "5               0     2.0  um mês atrás  2020-04-13T19:30:11Z  casas-bahia   \n",
       "8               0     1.0  um mês atrás  2020-04-13T19:30:11Z  casas-bahia   \n",
       "15              0     2.0  um mês atrás  2020-04-13T19:30:11Z  casas-bahia   \n",
       "\n",
       "                                             url_user  \\\n",
       "2   https://www.google.com/maps/contrib/1140968320...   \n",
       "3   https://www.google.com/maps/contrib/1165777418...   \n",
       "5   https://www.google.com/maps/contrib/1072188182...   \n",
       "8   https://www.google.com/maps/contrib/1036963921...   \n",
       "15  https://www.google.com/maps/contrib/1157404583...   \n",
       "\n",
       "                     username  len_comment  relative        date_comment  \n",
       "2        Tiago Leonel Barreto            0        30 2020-03-14 19:30:11  \n",
       "3            robson desiderio            0        30 2020-03-14 19:30:11  \n",
       "5   Chaveiro magia das chaves           73        30 2020-03-14 19:30:11  \n",
       "8              Fabiana Angelo            0        30 2020-03-14 19:30:11  \n",
       "15   Edvaldo Barbosa Sobrinho            0        30 2020-03-14 19:30:11  "
      ]
     },
     "execution_count": 14,
     "metadata": {},
     "output_type": "execute_result"
    }
   ],
   "source": [
    "df[df.rating < 4].head()"
   ]
  },
  {
   "cell_type": "code",
   "execution_count": 15,
   "metadata": {},
   "outputs": [
    {
     "data": {
      "text/plain": [
       "<matplotlib.axes._subplots.AxesSubplot at 0x1286aa550>"
      ]
     },
     "execution_count": 15,
     "metadata": {},
     "output_type": "execute_result"
    },
    {
     "data": {
      "image/png": "[encoded data removed]",
      "text/plain": [
       "<Figure size 432x288 with 1 Axes>"
      ]
     },
     "metadata": {
      "needs_background": "light"
     },
     "output_type": "display_data"
    }
   ],
   "source": [
    "# Histogram of GB review length (in words):\n",
    "words_per_review = df.caption.apply(lambda x: len(x.split(\" \")))\n",
    "words_per_review.hist(bins = 100)"
   ]
  },
  {
   "cell_type": "code",
   "execution_count": 16,
   "metadata": {},
   "outputs": [
    {
     "data": {
      "text/plain": [
       "4.5297324116475695"
      ]
     },
     "execution_count": 16,
     "metadata": {},
     "output_type": "execute_result"
    }
   ],
   "source": [
    "#Mean words per GB review:\n",
    "words_per_review.mean()"
   ]
  },
  {
   "cell_type": "code",
   "execution_count": 17,
   "metadata": {},
   "outputs": [
    {
     "data": {
      "text/plain": [
       "5.0    46.567480\n",
       "4.0    23.250216\n",
       "3.0    16.389200\n",
       "1.0     8.383005\n",
       "2.0     5.410099\n",
       "Name: rating, dtype: float64"
      ]
     },
     "execution_count": 17,
     "metadata": {},
     "output_type": "execute_result"
    },
    {
     "data": {
      "image/png": "[encoded data removed]",
      "text/plain": [
       "<Figure size 432x288 with 1 Axes>"
      ]
     },
     "metadata": {
      "needs_background": "light"
     },
     "output_type": "display_data"
    }
   ],
   "source": [
    "# Percentage breakdown of 5* through 1* reviews:\n",
    "ratings_pct = df.rating.value_counts()/df.shape[0]*100\n",
    "ratings_pct.plot.bar()\n",
    "ratings_pct"
   ]
  },
  {
   "cell_type": "code",
   "execution_count": 18,
   "metadata": {},
   "outputs": [
    {
     "name": "stdout",
     "output_type": "stream",
     "text": [
      "Percentage of poor reviews:  30.18 %\n",
      "Percentage of horrible reviews:  13.79 %\n"
     ]
    }
   ],
   "source": [
    "# Classifying poor reviews:\n",
    "print('Percentage of poor reviews: ', round(len(df[df.rating < 4])/len(df)*100, 2),'%')\n",
    "print('Percentage of horrible reviews: ', round(len(df[df.rating < 3])/len(df)*100, 2),'%')"
   ]
  },
  {
   "cell_type": "code",
   "execution_count": 19,
   "metadata": {},
   "outputs": [
    {
     "data": {
      "text/plain": [
       "<matplotlib.axes._subplots.AxesSubplot at 0x126393210>"
      ]
     },
     "execution_count": 19,
     "metadata": {},
     "output_type": "execute_result"
    },
    {
     "data": {
      "image/png": "[encoded data removed]",
      "text/plain": [
       "<Figure size 432x288 with 1 Axes>"
      ]
     },
     "metadata": {
      "needs_background": "light"
     },
     "output_type": "display_data"
    }
   ],
   "source": [
    "# Reviews by all:\n",
    "ratings_pct_all = df.rating.value_counts()/df.shape[0]*100\n",
    "ratings_pct_all.plot.bar()"
   ]
  },
  {
   "cell_type": "code",
   "execution_count": 20,
   "metadata": {},
   "outputs": [
    {
     "data": {
      "text/plain": [
       "<matplotlib.axes._subplots.AxesSubplot at 0x129310490>"
      ]
     },
     "execution_count": 20,
     "metadata": {},
     "output_type": "execute_result"
    },
    {
     "data": {
      "image/png": "[encoded data removed]",
      "text/plain": [
       "<Figure size 432x288 with 1 Axes>"
      ]
     },
     "metadata": {
      "needs_background": "light"
     },
     "output_type": "display_data"
    }
   ],
   "source": [
    "# Reviews by experts:\n",
    "percentage_ratings_experts = round(df[df.n_review_user > 1].rating.value_counts()/df[df.n_review_user > 1].shape[0]*100,2)\n",
    "percentage_ratings_experts.plot.bar()"
   ]
  },
  {
   "cell_type": "code",
   "execution_count": 21,
   "metadata": {},
   "outputs": [
    {
     "data": {
      "text/plain": [
       "<matplotlib.axes._subplots.AxesSubplot at 0x129399390>"
      ]
     },
     "execution_count": 21,
     "metadata": {},
     "output_type": "execute_result"
    },
    {
     "data": {
      "image/png": "[encoded data removed]",
      "text/plain": [
       "<Figure size 432x288 with 1 Axes>"
      ]
     },
     "metadata": {
      "needs_background": "light"
     },
     "output_type": "display_data"
    }
   ],
   "source": [
    "# Participation of experts per PER RATING:\n",
    "participation_expert_per_ratings = round(df[df.n_review_user > 1].rating.value_counts()/df.rating.value_counts()*100,2)\n",
    "participation_expert_per_ratings.plot.bar()"
   ]
  },
  {
   "cell_type": "code",
   "execution_count": 22,
   "metadata": {},
   "outputs": [
    {
     "name": "stdout",
     "output_type": "stream",
     "text": [
      "237092\n"
     ]
    },
    {
     "data": {
      "image/png": "[encoded data removed]",
      "text/plain": [
       "<Figure size 432x288 with 1 Axes>"
      ]
     },
     "metadata": {
      "needs_background": "light"
     },
     "output_type": "display_data"
    }
   ],
   "source": [
    "# Overall Wordcloud\n",
    "word_cloud_text = ''.join(df.caption[:10000])\n",
    "print(len(word_cloud_text))\n",
    "wordcloud = WordCloud(\n",
    "    max_font_size=100,\n",
    "    max_words=100,\n",
    "    background_color=\"white\",\n",
    "    scale=10,\n",
    "    width=800,\n",
    "    height=400\n",
    ").generate(word_cloud_text)\n",
    "\n",
    "plt.figure()\n",
    "plt.imshow(wordcloud, interpolation=\"bilinear\")\n",
    "plt.axis(\"off\")\n",
    "plt.show()"
   ]
  },
  {
   "cell_type": "code",
   "execution_count": 23,
   "metadata": {},
   "outputs": [
    {
     "name": "stdout",
     "output_type": "stream",
     "text": [
      "146701\n"
     ]
    },
    {
     "data": {
      "image/png": "[encoded data removed]",
      "text/plain": [
       "<Figure size 432x288 with 1 Axes>"
      ]
     },
     "metadata": {
      "needs_background": "light"
     },
     "output_type": "display_data"
    }
   ],
   "source": [
    "# Wordcloud for Promoters (rating >= 4)\n",
    "word_cloud_text = ''.join(df[df.rating >= 4].caption[:10000])\n",
    "print(len(word_cloud_text))\n",
    "wordcloud = WordCloud(\n",
    "    max_font_size=100,\n",
    "    max_words=100,\n",
    "    background_color=\"white\",\n",
    "    scale=10,\n",
    "    width=800,\n",
    "    height=400\n",
    ").generate(word_cloud_text)\n",
    "\n",
    "plt.figure()\n",
    "plt.imshow(wordcloud, interpolation=\"bilinear\")\n",
    "plt.axis(\"off\")\n",
    "plt.show()"
   ]
  },
  {
   "cell_type": "code",
   "execution_count": 24,
   "metadata": {},
   "outputs": [
    {
     "name": "stdout",
     "output_type": "stream",
     "text": [
      "372913\n"
     ]
    },
    {
     "data": {
      "image/png": "[encoded data removed]",
      "text/plain": [
       "<Figure size 432x288 with 1 Axes>"
      ]
     },
     "metadata": {
      "needs_background": "light"
     },
     "output_type": "display_data"
    }
   ],
   "source": [
    "# Wordcloud for Detractors (rating <= 2)\n",
    "word_cloud_text = ''.join(df[df.rating <= 3].caption[:10000])\n",
    "print(len(word_cloud_text))\n",
    "wordcloud = WordCloud(\n",
    "    max_font_size=100,\n",
    "    max_words=100,\n",
    "    background_color=\"white\",\n",
    "    scale=10,\n",
    "    width=800,\n",
    "    height=400\n",
    ").generate(word_cloud_text)\n",
    "\n",
    "plt.figure()\n",
    "plt.imshow(wordcloud, interpolation=\"bilinear\")\n",
    "plt.axis(\"off\")\n",
    "plt.show()"
   ]
  },
  {
   "cell_type": "markdown",
   "metadata": {},
   "source": [
    "## Sentiment Analysis"
   ]
  },
  {
   "cell_type": "code",
   "execution_count": 25,
   "metadata": {},
   "outputs": [
    {
     "data": {
      "text/html": [
       "<div>\n",
       "<style scoped>\n",
       "    .dataframe tbody tr th:only-of-type {\n",
       "        vertical-align: middle;\n",
       "    }\n",
       "\n",
       "    .dataframe tbody tr th {\n",
       "        vertical-align: top;\n",
       "    }\n",
       "\n",
       "    .dataframe thead th {\n",
       "        text-align: right;\n",
       "    }\n",
       "</style>\n",
       "<table border=\"1\" class=\"dataframe\">\n",
       "  <thead>\n",
       "    <tr style=\"text-align: right;\">\n",
       "      <th></th>\n",
       "      <th>caption</th>\n",
       "      <th>geo_location</th>\n",
       "      <th>id_review</th>\n",
       "      <th>n_photo_user</th>\n",
       "      <th>n_review_user</th>\n",
       "      <th>rating</th>\n",
       "      <th>relative_date</th>\n",
       "      <th>retrieval_date</th>\n",
       "      <th>store</th>\n",
       "      <th>url_user</th>\n",
       "      <th>username</th>\n",
       "      <th>len_comment</th>\n",
       "      <th>relative</th>\n",
       "      <th>date_comment</th>\n",
       "    </tr>\n",
       "  </thead>\n",
       "  <tbody>\n",
       "    <tr>\n",
       "      <th>0</th>\n",
       "      <td>Ótima</td>\n",
       "      <td>{'lat': '-23.483583', 'long': '-46.6468911'}</td>\n",
       "      <td>ChZDSUhNMG9nS0VJQ0FnSUNjbXZ2SUhBEAEaFkxPUk5XOV...</td>\n",
       "      <td>0</td>\n",
       "      <td>7</td>\n",
       "      <td>5.0</td>\n",
       "      <td>um mês atrás</td>\n",
       "      <td>2020-04-13T19:30:11Z</td>\n",
       "      <td>casas-bahia</td>\n",
       "      <td>https://www.google.com/maps/contrib/1047415992...</td>\n",
       "      <td>Isabel Nogueira</td>\n",
       "      <td>5</td>\n",
       "      <td>30</td>\n",
       "      <td>2020-03-14 19:30:11</td>\n",
       "    </tr>\n",
       "    <tr>\n",
       "      <th>1</th>\n",
       "      <td>(Tradução do Google) Muito bom serviço, bons p...</td>\n",
       "      <td>{'lat': '-23.483583', 'long': '-46.6468911'}</td>\n",
       "      <td>ChdDSUhNMG9nS0VJQ0FnSUNjd3NXS2hnRRABGhZwRE1yZ3...</td>\n",
       "      <td>0</td>\n",
       "      <td>0</td>\n",
       "      <td>4.0</td>\n",
       "      <td>um mês atrás</td>\n",
       "      <td>2020-04-13T19:30:11Z</td>\n",
       "      <td>casas-bahia</td>\n",
       "      <td>https://www.google.com/maps/contrib/1155360152...</td>\n",
       "      <td>Mac Guitars</td>\n",
       "      <td>130</td>\n",
       "      <td>30</td>\n",
       "      <td>2020-03-14 19:30:11</td>\n",
       "    </tr>\n",
       "    <tr>\n",
       "      <th>2</th>\n",
       "      <td>Como na maioria das lojas os funcionarios pare...</td>\n",
       "      <td>{'lat': '-23.483583', 'long': '-46.6468911'}</td>\n",
       "      <td>ChZDSUhNMG9nS0VJQ0FnSURzeW96OUtBEAEaFmZtdUVESl...</td>\n",
       "      <td>0</td>\n",
       "      <td>0</td>\n",
       "      <td>2.0</td>\n",
       "      <td>um mês atrás</td>\n",
       "      <td>2020-04-13T19:30:11Z</td>\n",
       "      <td>casas-bahia</td>\n",
       "      <td>https://www.google.com/maps/contrib/1072188182...</td>\n",
       "      <td>Chaveiro magia das chaves</td>\n",
       "      <td>73</td>\n",
       "      <td>30</td>\n",
       "      <td>2020-03-14 19:30:11</td>\n",
       "    </tr>\n",
       "    <tr>\n",
       "      <th>3</th>\n",
       "      <td>Bom atendimento.</td>\n",
       "      <td>{'lat': '-23.483583', 'long': '-46.6468911'}</td>\n",
       "      <td>ChZDSUhNMG9nS0VJQ0FnSURzMHFPLUZnEAEaFjhTS1Bzbk...</td>\n",
       "      <td>0</td>\n",
       "      <td>0</td>\n",
       "      <td>4.0</td>\n",
       "      <td>um mês atrás</td>\n",
       "      <td>2020-04-13T19:30:11Z</td>\n",
       "      <td>casas-bahia</td>\n",
       "      <td>https://www.google.com/maps/contrib/1140112986...</td>\n",
       "      <td>Eneida Alves Regado</td>\n",
       "      <td>16</td>\n",
       "      <td>30</td>\n",
       "      <td>2020-03-14 19:30:11</td>\n",
       "    </tr>\n",
       "    <tr>\n",
       "      <th>4</th>\n",
       "      <td>Ótimo lugar</td>\n",
       "      <td>{'lat': '-23.483583', 'long': '-46.6468911'}</td>\n",
       "      <td>ChdDSUhNMG9nS0VJQ0FnSURzbUl6bTJRRRABGhZwcWJEYm...</td>\n",
       "      <td>0</td>\n",
       "      <td>0</td>\n",
       "      <td>5.0</td>\n",
       "      <td>um mês atrás</td>\n",
       "      <td>2020-04-13T19:30:11Z</td>\n",
       "      <td>casas-bahia</td>\n",
       "      <td>https://www.google.com/maps/contrib/1081586006...</td>\n",
       "      <td>Fabio Rodrigues Alves</td>\n",
       "      <td>11</td>\n",
       "      <td>30</td>\n",
       "      <td>2020-03-14 19:30:11</td>\n",
       "    </tr>\n",
       "  </tbody>\n",
       "</table>\n",
       "</div>"
      ],
      "text/plain": [
       "                                             caption  \\\n",
       "0                                              Ótima   \n",
       "1  (Tradução do Google) Muito bom serviço, bons p...   \n",
       "2  Como na maioria das lojas os funcionarios pare...   \n",
       "3                                   Bom atendimento.   \n",
       "4                                        Ótimo lugar   \n",
       "\n",
       "                                   geo_location  \\\n",
       "0  {'lat': '-23.483583', 'long': '-46.6468911'}   \n",
       "1  {'lat': '-23.483583', 'long': '-46.6468911'}   \n",
       "2  {'lat': '-23.483583', 'long': '-46.6468911'}   \n",
       "3  {'lat': '-23.483583', 'long': '-46.6468911'}   \n",
       "4  {'lat': '-23.483583', 'long': '-46.6468911'}   \n",
       "\n",
       "                                           id_review  n_photo_user  \\\n",
       "0  ChZDSUhNMG9nS0VJQ0FnSUNjbXZ2SUhBEAEaFkxPUk5XOV...             0   \n",
       "1  ChdDSUhNMG9nS0VJQ0FnSUNjd3NXS2hnRRABGhZwRE1yZ3...             0   \n",
       "2  ChZDSUhNMG9nS0VJQ0FnSURzeW96OUtBEAEaFmZtdUVESl...             0   \n",
       "3  ChZDSUhNMG9nS0VJQ0FnSURzMHFPLUZnEAEaFjhTS1Bzbk...             0   \n",
       "4  ChdDSUhNMG9nS0VJQ0FnSURzbUl6bTJRRRABGhZwcWJEYm...             0   \n",
       "\n",
       "   n_review_user  rating relative_date        retrieval_date        store  \\\n",
       "0              7     5.0  um mês atrás  2020-04-13T19:30:11Z  casas-bahia   \n",
       "1              0     4.0  um mês atrás  2020-04-13T19:30:11Z  casas-bahia   \n",
       "2              0     2.0  um mês atrás  2020-04-13T19:30:11Z  casas-bahia   \n",
       "3              0     4.0  um mês atrás  2020-04-13T19:30:11Z  casas-bahia   \n",
       "4              0     5.0  um mês atrás  2020-04-13T19:30:11Z  casas-bahia   \n",
       "\n",
       "                                            url_user  \\\n",
       "0  https://www.google.com/maps/contrib/1047415992...   \n",
       "1  https://www.google.com/maps/contrib/1155360152...   \n",
       "2  https://www.google.com/maps/contrib/1072188182...   \n",
       "3  https://www.google.com/maps/contrib/1140112986...   \n",
       "4  https://www.google.com/maps/contrib/1081586006...   \n",
       "\n",
       "                    username  len_comment  relative        date_comment  \n",
       "0            Isabel Nogueira            5        30 2020-03-14 19:30:11  \n",
       "1                Mac Guitars          130        30 2020-03-14 19:30:11  \n",
       "2  Chaveiro magia das chaves           73        30 2020-03-14 19:30:11  \n",
       "3        Eneida Alves Regado           16        30 2020-03-14 19:30:11  \n",
       "4      Fabio Rodrigues Alves           11        30 2020-03-14 19:30:11  "
      ]
     },
     "execution_count": 25,
     "metadata": {},
     "output_type": "execute_result"
    }
   ],
   "source": [
    "dff = pd.DataFrame([format_GB_to_df(row) for row in caption_reviews]) \n",
    "dff.head()"
   ]
  },
  {
   "cell_type": "code",
   "execution_count": 26,
   "metadata": {},
   "outputs": [
    {
     "data": {
      "text/plain": [
       "1    40464\n",
       "0    19244\n",
       "Name: Sentiment_rating, dtype: int64"
      ]
     },
     "execution_count": 26,
     "metadata": {},
     "output_type": "execute_result"
    }
   ],
   "source": [
    "dff['Sentiment_rating'] = np.where(dff.rating > 3, 1, 0)\n",
    "dff['Sentiment_rating'].value_counts()"
   ]
  },
  {
   "cell_type": "code",
   "execution_count": 27,
   "metadata": {},
   "outputs": [
    {
     "data": {
      "text/plain": [
       "1    40464\n",
       "0    10503\n",
       "Name: Sentiment_rating, dtype: int64"
      ]
     },
     "execution_count": 27,
     "metadata": {},
     "output_type": "execute_result"
    }
   ],
   "source": [
    "# Removing neutral reviews \n",
    "dff = dff[dff.rating != 3]\n",
    "dff['Sentiment_rating'].value_counts()"
   ]
  },
  {
   "cell_type": "code",
   "execution_count": 28,
   "metadata": {},
   "outputs": [
    {
     "data": {
      "text/plain": [
       "<matplotlib.axes._subplots.AxesSubplot at 0x12656ad90>"
      ]
     },
     "execution_count": 28,
     "metadata": {},
     "output_type": "execute_result"
    },
    {
     "data": {
      "image/png": "[encoded data removed]",
      "text/plain": [
       "<Figure size 360x216 with 1 Axes>"
      ]
     },
     "metadata": {
      "needs_background": "light"
     },
     "output_type": "display_data"
    }
   ],
   "source": [
    "rcParams['figure.figsize'] = 5, 3\n",
    "dff.Sentiment_rating.value_counts().plot.bar()"
   ]
  },
  {
   "cell_type": "markdown",
   "metadata": {},
   "source": [
    "### Pre-processing"
   ]
  },
  {
   "cell_type": "code",
   "execution_count": 29,
   "metadata": {},
   "outputs": [],
   "source": [
    "# Backing up database first\n",
    "caption_backup = dff.caption.copy()"
   ]
  },
  {
   "cell_type": "code",
   "execution_count": 30,
   "metadata": {},
   "outputs": [],
   "source": [
    "# Converting words to lower case.\n",
    "dff['pp_caption'] = dff.caption.apply(lambda x: x.lower())"
   ]
  },
  {
   "cell_type": "code",
   "execution_count": 31,
   "metadata": {},
   "outputs": [
    {
     "name": "stderr",
     "output_type": "stream",
     "text": [
      "[nltk_data] Downloading package punkt to /Users/mmikegame/nltk_data...\n",
      "[nltk_data]   Package punkt is already up-to-date!\n"
     ]
    },
    {
     "name": "stdout",
     "output_type": "stream",
     "text": [
      "Number of unique tokens then:  24891\n",
      "Number of unique tokens now:  20430\n"
     ]
    }
   ],
   "source": [
    "nltk.download('punkt')\n",
    "\n",
    "token_lists = [word_tokenize(each) for each in dff.caption]\n",
    "tokens = [item for sublist in token_lists for item in sublist]\n",
    "print(\"Number of unique tokens then: \", len(set(tokens)))\n",
    "\n",
    "token_lists_lower = [word_tokenize(each) for each in dff.pp_caption]\n",
    "tokens_lower = [item for sublist in token_lists_lower for item in sublist]\n",
    "print(\"Number of unique tokens now: \", len(set(tokens_lower)))"
   ]
  },
  {
   "cell_type": "code",
   "execution_count": 32,
   "metadata": {},
   "outputs": [
    {
     "name": "stdout",
     "output_type": "stream",
     "text": [
      "{'💙', '👌', '💟', '🙀', '☕', '🤛', '🙏', '💛', '👎', '😫', '😭', '😪', '😤', '💖', '🏾', '✌', '🤬', '📯', '️', '☹', '.', '😅', '🤑', '&', '😚', '😥', '💚', '😞', '🙊', '-', '😄', '📺', '🔝', '\\\\', '🙄', '😝', '🕪', '🙂', '😕', '/', '#', '!', '📗', '💲', '💸', '🙈', '\\xa0', '🤓', '%', '🤷', '°', '🏬', '👿', '🏃', '💯', '😉', '🇧', '🍀', '🙌', '❗', '🎵', '😬', '♡', '♀', '💩', '🍦', '😀', '🎧', '🥳', '👀', '🚗', '👍', '🤙', '😎', '🤩', '🎁', '💋', '☺', '🤔', '“', '🍭', '😒', '😠', '♿', '💝', '🖕', '🍿', '🏳', '^', '🎈', '¥', '❤', '⁉', '—', '\\u200b', '💓', '✨', '´', '😜', '😃', '[', '😏', '💫', '🤡', '⛄', '×', '😰', '🗄', '，', '🚶', '🥺', '✓', '(', '🤜', '🇾', '👏', '💵', '😍', '🐞', '👋', '☆', '🖒', '*', '=', '🏆', '<', '🆗', '😈', '>', ':', '🤦', '\\u200d', '🥰', '❣', '😖', '🏼', '💜', '💣', '…', '🏻', '🌟', '\"', '🍹', '😯', '😡', '🛍', '☠', '👹', '🤲', ']', '🙇', ';', '😐', '🤗', '😁', '🤨', '💀', '|', '🏿', '🍃', '🛌', '✔', ',', '–', '😑', '🌻', '🤢', '✊', '👉', '+', '🎄', '♂', \"'\", '🤪', '😢', '@', '📱', '🙉', '🏠', '🌹', '🏽', '_', '😱', ')', '🤫', '😘', '’', '⬇', '♥', '😆', '🎤', '£', '😂', '§', '¡', '💞', '😧', '😲', '🎅', '😳', '👫', '🤥', '👊', '🎶', '🎰', '💕', '?', '🎖', '🤝', '💃', '😣', '🇷', '🤣', '😔', '🙃', '🎉', '$', '👁', '🇪', '”', '😌', '✈', '😊'}\n"
     ]
    }
   ],
   "source": [
    "# Selecting non alpha numeric charactes that are not spaces\n",
    "special_chars = dff.pp_caption.apply(lambda x: [each for each in list(x) if not each.isalnum() and each != ' '])\n",
    "\n",
    "# Getting list of list into a single list\n",
    "flat_list = [item for sublist in special_chars for item in sublist]\n",
    "\n",
    "# Unique special characters\n",
    "print(set(flat_list))"
   ]
  },
  {
   "cell_type": "code",
   "execution_count": 33,
   "metadata": {},
   "outputs": [],
   "source": [
    "import unicodedata\n",
    "\n",
    "def remove_diacritics(text):\n",
    "    \"\"\"\n",
    "    Returns a string with all diacritics (aka non-spacing marks) removed.\n",
    "    For example \"Héllô\" will become \"Hello\".\n",
    "    Useful for comparing strings in an accent-insensitive fashion.\n",
    "    From: https://stackoverflow.com/questions/35783135/regex-match-a-character-and-all-its-diacritic-variations-aka-accent-insensiti\n",
    "    \"\"\"\n",
    "    normalized = unicodedata.normalize(\"NFKD\", text)\n",
    "    return \"\".join(c for c in normalized if unicodedata.category(c) != \"Mn\")"
   ]
  },
  {
   "cell_type": "code",
   "execution_count": 34,
   "metadata": {},
   "outputs": [],
   "source": [
    "# Remove diacritics\n",
    "dff.pp_caption = dff.pp_caption.apply(remove_diacritics)"
   ]
  },
  {
   "cell_type": "code",
   "execution_count": 35,
   "metadata": {},
   "outputs": [
    {
     "data": {
      "text/plain": [
       "'(Tradução do Google) Muito bom serviço, bons produtos e bons preços.  (Original) Very good service, good products and good prices.'"
      ]
     },
     "execution_count": 35,
     "metadata": {},
     "output_type": "execute_result"
    }
   ],
   "source": [
    "caption_backup[1]"
   ]
  },
  {
   "cell_type": "code",
   "execution_count": 36,
   "metadata": {},
   "outputs": [
    {
     "data": {
      "text/plain": [
       "'(traducao do google) muito bom servico, bons produtos e bons precos.  (original) very good service, good products and good prices.'"
      ]
     },
     "execution_count": 36,
     "metadata": {},
     "output_type": "execute_result"
    }
   ],
   "source": [
    "dff.pp_caption[1]"
   ]
  },
  {
   "cell_type": "code",
   "execution_count": 37,
   "metadata": {},
   "outputs": [
    {
     "name": "stdout",
     "output_type": "stream",
     "text": [
      "Number of unique tokens then:  24891\n",
      "Number of unique tokens now:  19665\n"
     ]
    }
   ],
   "source": [
    "token_lists = [word_tokenize(each) for each in dff.caption]\n",
    "tokens = [item for sublist in token_lists for item in sublist]\n",
    "print(\"Number of unique tokens then: \", len(set(tokens)))\n",
    "\n",
    "token_lists = [word_tokenize(each) for each in dff.pp_caption]\n",
    "tokens = [item for sublist in token_lists for item in sublist]\n",
    "print(\"Number of unique tokens now: \", len(set(tokens)))"
   ]
  },
  {
   "cell_type": "markdown",
   "metadata": {},
   "source": [
    "### Stopwords and Hi/Low Frequency words"
   ]
  },
  {
   "cell_type": "code",
   "execution_count": 38,
   "metadata": {
    "scrolled": true
   },
   "outputs": [
    {
     "name": "stdout",
     "output_type": "stream",
     "text": [
      "204\n"
     ]
    },
    {
     "name": "stderr",
     "output_type": "stream",
     "text": [
      "[nltk_data] Downloading package stopwords to\n",
      "[nltk_data]     /Users/mmikegame/nltk_data...\n",
      "[nltk_data]   Package stopwords is already up-to-date!\n"
     ]
    },
    {
     "data": {
      "text/plain": [
       "['de',\n",
       " 'a',\n",
       " 'o',\n",
       " 'que',\n",
       " 'e',\n",
       " 'é',\n",
       " 'do',\n",
       " 'da',\n",
       " 'em',\n",
       " 'um',\n",
       " 'para',\n",
       " 'com',\n",
       " 'não',\n",
       " 'uma',\n",
       " 'os',\n",
       " 'no',\n",
       " 'se',\n",
       " 'na',\n",
       " 'por',\n",
       " 'mais',\n",
       " 'as',\n",
       " 'dos',\n",
       " 'como',\n",
       " 'mas',\n",
       " 'ao',\n",
       " 'ele',\n",
       " 'das',\n",
       " 'à',\n",
       " 'seu',\n",
       " 'sua',\n",
       " 'ou',\n",
       " 'quando',\n",
       " 'muito',\n",
       " 'nos',\n",
       " 'já',\n",
       " 'eu',\n",
       " 'também',\n",
       " 'só',\n",
       " 'pelo',\n",
       " 'pela',\n",
       " 'até',\n",
       " 'isso',\n",
       " 'ela',\n",
       " 'entre',\n",
       " 'depois',\n",
       " 'sem',\n",
       " 'mesmo',\n",
       " 'aos',\n",
       " 'seus',\n",
       " 'quem',\n",
       " 'nas',\n",
       " 'me',\n",
       " 'esse',\n",
       " 'eles',\n",
       " 'você',\n",
       " 'essa',\n",
       " 'num',\n",
       " 'nem',\n",
       " 'suas',\n",
       " 'meu',\n",
       " 'às',\n",
       " 'minha',\n",
       " 'numa',\n",
       " 'pelos',\n",
       " 'elas',\n",
       " 'qual',\n",
       " 'nós',\n",
       " 'lhe',\n",
       " 'deles',\n",
       " 'essas',\n",
       " 'esses',\n",
       " 'pelas',\n",
       " 'este',\n",
       " 'dele',\n",
       " 'tu',\n",
       " 'te',\n",
       " 'vocês',\n",
       " 'vos',\n",
       " 'lhes',\n",
       " 'meus',\n",
       " 'minhas',\n",
       " 'teu',\n",
       " 'tua',\n",
       " 'teus',\n",
       " 'tuas',\n",
       " 'nosso',\n",
       " 'nossa',\n",
       " 'nossos',\n",
       " 'nossas',\n",
       " 'dela',\n",
       " 'delas',\n",
       " 'esta',\n",
       " 'estes',\n",
       " 'estas',\n",
       " 'aquele',\n",
       " 'aquela',\n",
       " 'aqueles',\n",
       " 'aquelas',\n",
       " 'isto',\n",
       " 'aquilo',\n",
       " 'estou',\n",
       " 'está',\n",
       " 'estamos',\n",
       " 'estão',\n",
       " 'estive',\n",
       " 'esteve',\n",
       " 'estivemos',\n",
       " 'estiveram',\n",
       " 'estava',\n",
       " 'estávamos',\n",
       " 'estavam',\n",
       " 'estivera',\n",
       " 'estivéramos',\n",
       " 'esteja',\n",
       " 'estejamos',\n",
       " 'estejam',\n",
       " 'estivesse',\n",
       " 'estivéssemos',\n",
       " 'estivessem',\n",
       " 'estiver',\n",
       " 'estivermos',\n",
       " 'estiverem',\n",
       " 'hei',\n",
       " 'há',\n",
       " 'havemos',\n",
       " 'hão',\n",
       " 'houve',\n",
       " 'houvemos',\n",
       " 'houveram',\n",
       " 'houvera',\n",
       " 'houvéramos',\n",
       " 'haja',\n",
       " 'hajamos',\n",
       " 'hajam',\n",
       " 'houvesse',\n",
       " 'houvéssemos',\n",
       " 'houvessem',\n",
       " 'houver',\n",
       " 'houvermos',\n",
       " 'houverem',\n",
       " 'houverei',\n",
       " 'houverá',\n",
       " 'houveremos',\n",
       " 'houverão',\n",
       " 'houveria',\n",
       " 'houveríamos',\n",
       " 'houveriam',\n",
       " 'sou',\n",
       " 'somos',\n",
       " 'são',\n",
       " 'era',\n",
       " 'éramos',\n",
       " 'eram',\n",
       " 'fui',\n",
       " 'foi',\n",
       " 'fomos',\n",
       " 'foram',\n",
       " 'fora',\n",
       " 'fôramos',\n",
       " 'seja',\n",
       " 'sejamos',\n",
       " 'sejam',\n",
       " 'fosse',\n",
       " 'fôssemos',\n",
       " 'fossem',\n",
       " 'for',\n",
       " 'formos',\n",
       " 'forem',\n",
       " 'serei',\n",
       " 'será',\n",
       " 'seremos',\n",
       " 'serão',\n",
       " 'seria',\n",
       " 'seríamos',\n",
       " 'seriam',\n",
       " 'tenho',\n",
       " 'tem',\n",
       " 'temos',\n",
       " 'tém',\n",
       " 'tinha',\n",
       " 'tínhamos',\n",
       " 'tinham',\n",
       " 'tive',\n",
       " 'teve',\n",
       " 'tivemos',\n",
       " 'tiveram',\n",
       " 'tivera',\n",
       " 'tivéramos',\n",
       " 'tenha',\n",
       " 'tenhamos',\n",
       " 'tenham',\n",
       " 'tivesse',\n",
       " 'tivéssemos',\n",
       " 'tivessem',\n",
       " 'tiver',\n",
       " 'tivermos',\n",
       " 'tiverem',\n",
       " 'terei',\n",
       " 'terá',\n",
       " 'teremos',\n",
       " 'terão',\n",
       " 'teria',\n",
       " 'teríamos',\n",
       " 'teriam']"
      ]
     },
     "execution_count": 38,
     "metadata": {},
     "output_type": "execute_result"
    }
   ],
   "source": [
    "nltk.download('stopwords')\n",
    "\n",
    "noise_words = []\n",
    "stopwords_corpus = nltk.corpus.stopwords\n",
    "port_stop_words = stopwords_corpus.words('portuguese')\n",
    "noise_words.extend(port_stop_words)\n",
    "print(len(noise_words))\n",
    "noise_words"
   ]
  },
  {
   "cell_type": "code",
   "execution_count": 39,
   "metadata": {},
   "outputs": [
    {
     "data": {
      "text/plain": [
       "[('.', 21707),\n",
       " (',', 21447),\n",
       " ('e', 20475),\n",
       " ('de', 13355),\n",
       " ('atendimento', 12570),\n",
       " ('bom', 11034),\n",
       " ('o', 10205),\n",
       " ('a', 10041),\n",
       " ('muito', 9393),\n",
       " ('loja', 9386)]"
      ]
     },
     "execution_count": 39,
     "metadata": {},
     "output_type": "execute_result"
    }
   ],
   "source": [
    "# Most frequent stopwords\n",
    "one_percentile = int(len(set(tokens)) * 0.01)\n",
    "top_1_percentile = Counter(tokens).most_common(one_percentile)\n",
    "top_1_percentile[:10]"
   ]
  },
  {
   "cell_type": "markdown",
   "metadata": {},
   "source": [
    "### Stemming and Lemmatization"
   ]
  },
  {
   "cell_type": "code",
   "execution_count": 40,
   "metadata": {},
   "outputs": [
    {
     "name": "stderr",
     "output_type": "stream",
     "text": [
      "[nltk_data] Downloading package rslp to /Users/mmikegame/nltk_data...\n",
      "[nltk_data]   Package rslp is already up-to-date!\n"
     ]
    },
    {
     "data": {
      "text/plain": [
       "True"
      ]
     },
     "execution_count": 40,
     "metadata": {},
     "output_type": "execute_result"
    }
   ],
   "source": [
    "from port_stemmer import RSLPStemmer\n",
    "nltk.download('rslp')"
   ]
  },
  {
   "cell_type": "code",
   "execution_count": 41,
   "metadata": {
    "scrolled": true
   },
   "outputs": [
    {
     "name": "stdout",
     "output_type": "stream",
     "text": [
      "clariss\n",
      "risc\n",
      "com\n",
      "giz\n",
      "no\n",
      "quadro-negr\n",
      "a\n",
      "pais\n",
      "que\n",
      "os\n",
      "alun\n",
      "dev\n",
      "copi\n",
      ".\n",
      "uma\n",
      "cas\n",
      "de\n",
      "port\n",
      "e\n",
      "janel\n",
      ",\n",
      "em\n",
      "cim\n",
      "dum\n",
      "coxilh\n",
      ".\n"
     ]
    }
   ],
   "source": [
    "st = RSLPStemmer()\n",
    "# opening lines of Erico Verissimo's \"Música ao Longe\"\n",
    "text = '''\n",
    "    Clarissa risca com giz no quadro-negro a paisagem que os alunos\n",
    "    devem copiar . Uma casinha de porta e janela , em cima duma\n",
    "    coxilha .'''\n",
    "\n",
    "for token in text.split():\n",
    "    print(st.stem(token))"
   ]
  },
  {
   "cell_type": "markdown",
   "metadata": {},
   "source": [
    "## Building the Machine Learning Model"
   ]
  },
  {
   "cell_type": "code",
   "execution_count": 42,
   "metadata": {},
   "outputs": [
    {
     "data": {
      "text/html": [
       "<div>\n",
       "<style scoped>\n",
       "    .dataframe tbody tr th:only-of-type {\n",
       "        vertical-align: middle;\n",
       "    }\n",
       "\n",
       "    .dataframe tbody tr th {\n",
       "        vertical-align: top;\n",
       "    }\n",
       "\n",
       "    .dataframe thead th {\n",
       "        text-align: right;\n",
       "    }\n",
       "</style>\n",
       "<table border=\"1\" class=\"dataframe\">\n",
       "  <thead>\n",
       "    <tr style=\"text-align: right;\">\n",
       "      <th></th>\n",
       "      <th>pp_caption</th>\n",
       "      <th>rating</th>\n",
       "      <th>Sentiment_rating</th>\n",
       "    </tr>\n",
       "  </thead>\n",
       "  <tbody>\n",
       "    <tr>\n",
       "      <th>0</th>\n",
       "      <td>otima</td>\n",
       "      <td>5.0</td>\n",
       "      <td>1</td>\n",
       "    </tr>\n",
       "    <tr>\n",
       "      <th>1</th>\n",
       "      <td>(traducao do google) muito bom servico, bons p...</td>\n",
       "      <td>4.0</td>\n",
       "      <td>1</td>\n",
       "    </tr>\n",
       "    <tr>\n",
       "      <th>2</th>\n",
       "      <td>como na maioria das lojas os funcionarios pare...</td>\n",
       "      <td>2.0</td>\n",
       "      <td>0</td>\n",
       "    </tr>\n",
       "    <tr>\n",
       "      <th>3</th>\n",
       "      <td>bom atendimento.</td>\n",
       "      <td>4.0</td>\n",
       "      <td>1</td>\n",
       "    </tr>\n",
       "    <tr>\n",
       "      <th>4</th>\n",
       "      <td>otimo lugar</td>\n",
       "      <td>5.0</td>\n",
       "      <td>1</td>\n",
       "    </tr>\n",
       "  </tbody>\n",
       "</table>\n",
       "</div>"
      ],
      "text/plain": [
       "                                          pp_caption  rating  Sentiment_rating\n",
       "0                                              otima     5.0                 1\n",
       "1  (traducao do google) muito bom servico, bons p...     4.0                 1\n",
       "2  como na maioria das lojas os funcionarios pare...     2.0                 0\n",
       "3                                   bom atendimento.     4.0                 1\n",
       "4                                        otimo lugar     5.0                 1"
      ]
     },
     "execution_count": 42,
     "metadata": {},
     "output_type": "execute_result"
    }
   ],
   "source": [
    "dff[['pp_caption','rating','Sentiment_rating']].head(5)"
   ]
  },
  {
   "cell_type": "code",
   "execution_count": 43,
   "metadata": {},
   "outputs": [],
   "source": [
    "# Creating a method for stemming\n",
    "stemmer = RSLPStemmer()\n",
    "analyzer = CountVectorizer().build_analyzer()\n",
    "\n",
    "def stemmed_words(doc):\n",
    "    return (stemmer.stem(w) for w in analyzer(doc))"
   ]
  },
  {
   "cell_type": "code",
   "execution_count": 44,
   "metadata": {},
   "outputs": [],
   "source": [
    "# Creating a python object of the class CountVectorizer\n",
    "bow_counts = CountVectorizer(\n",
    "    tokenizer=word_tokenize,\n",
    "    stop_words=noise_words,\n",
    "    ngram_range=(1, 1)\n",
    ")"
   ]
  },
  {
   "cell_type": "code",
   "execution_count": 45,
   "metadata": {},
   "outputs": [],
   "source": [
    "reviews_train, reviews_test = train_test_split(dff, test_size=0.2, random_state=0)"
   ]
  },
  {
   "cell_type": "code",
   "execution_count": 46,
   "metadata": {},
   "outputs": [],
   "source": [
    "X_train_bow = bow_counts.fit_transform(reviews_train.pp_caption)\n",
    "X_test_bow = bow_counts.transform(reviews_test.pp_caption)"
   ]
  },
  {
   "cell_type": "code",
   "execution_count": 47,
   "metadata": {},
   "outputs": [],
   "source": [
    "y_train_bow = reviews_train['Sentiment_rating']\n",
    "y_test_bow = reviews_test['Sentiment_rating']"
   ]
  },
  {
   "cell_type": "code",
   "execution_count": 48,
   "metadata": {},
   "outputs": [
    {
     "data": {
      "text/plain": [
       "1    0.792035\n",
       "0    0.207965\n",
       "Name: Sentiment_rating, dtype: float64"
      ]
     },
     "execution_count": 48,
     "metadata": {},
     "output_type": "execute_result"
    }
   ],
   "source": [
    "y_test_bow.value_counts() / y_test_bow.shape[0]"
   ]
  },
  {
   "cell_type": "markdown",
   "metadata": {},
   "source": [
    "### Logistic Regression"
   ]
  },
  {
   "cell_type": "code",
   "execution_count": 49,
   "metadata": {},
   "outputs": [
    {
     "name": "stdout",
     "output_type": "stream",
     "text": [
      "F1 score:  0.9571662919982988\n",
      "Accuracy:  93.08416715715127\n"
     ]
    }
   ],
   "source": [
    "# Training the model \n",
    "lr_model_all = LogisticRegression(C=1, solver=\"liblinear\")\n",
    "lr_model_all.fit(X_train_bow, y_train_bow)\n",
    "\n",
    "# Predicting the output\n",
    "test_pred_lr_prob = lr_model_all.predict_proba(X_test_bow)\n",
    "test_pred_lr_all = lr_model_all.predict(X_test_bow)\n",
    "\n",
    "print(\"F1 score: \", f1_score(y_test_bow, test_pred_lr_all))\n",
    "print(\"Accuracy: \", accuracy_score(y_test_bow, test_pred_lr_all) * 100)"
   ]
  },
  {
   "cell_type": "code",
   "execution_count": 50,
   "metadata": {},
   "outputs": [],
   "source": [
    "probabilities = [each[1] for each in test_pred_lr_prob]"
   ]
  },
  {
   "cell_type": "code",
   "execution_count": 51,
   "metadata": {},
   "outputs": [],
   "source": [
    "predictions = pd.DataFrame()\n",
    "predictions['caption'] = reviews_test['caption']\n",
    "predictions['Actual_rating'] = reviews_test['rating']\n",
    "predictions['Sentiment_rating'] = reviews_test['Sentiment_rating']\n",
    "predictions['Predicted_sentiment'] = test_pred_lr_all\n",
    "predictions['Predicted_probability'] = probabilities"
   ]
  },
  {
   "cell_type": "code",
   "execution_count": 52,
   "metadata": {},
   "outputs": [
    {
     "data": {
      "text/html": [
       "<div>\n",
       "<style scoped>\n",
       "    .dataframe tbody tr th:only-of-type {\n",
       "        vertical-align: middle;\n",
       "    }\n",
       "\n",
       "    .dataframe tbody tr th {\n",
       "        vertical-align: top;\n",
       "    }\n",
       "\n",
       "    .dataframe thead th {\n",
       "        text-align: right;\n",
       "    }\n",
       "</style>\n",
       "<table border=\"1\" class=\"dataframe\">\n",
       "  <thead>\n",
       "    <tr style=\"text-align: right;\">\n",
       "      <th></th>\n",
       "      <th>caption</th>\n",
       "      <th>Actual_rating</th>\n",
       "      <th>Sentiment_rating</th>\n",
       "      <th>Predicted_sentiment</th>\n",
       "      <th>Predicted_probability</th>\n",
       "    </tr>\n",
       "  </thead>\n",
       "  <tbody>\n",
       "    <tr>\n",
       "      <th>41897</th>\n",
       "      <td>Fui até a loja para adquirir um aparelho de ce...</td>\n",
       "      <td>4.0</td>\n",
       "      <td>1</td>\n",
       "      <td>1</td>\n",
       "      <td>0.948373</td>\n",
       "    </tr>\n",
       "    <tr>\n",
       "      <th>22874</th>\n",
       "      <td>Bom</td>\n",
       "      <td>5.0</td>\n",
       "      <td>1</td>\n",
       "      <td>1</td>\n",
       "      <td>0.970303</td>\n",
       "    </tr>\n",
       "    <tr>\n",
       "      <th>30418</th>\n",
       "      <td>Sempre acho algo bacana</td>\n",
       "      <td>5.0</td>\n",
       "      <td>1</td>\n",
       "      <td>1</td>\n",
       "      <td>0.994725</td>\n",
       "    </tr>\n",
       "    <tr>\n",
       "      <th>27520</th>\n",
       "      <td>Funcionários atenciosos.</td>\n",
       "      <td>5.0</td>\n",
       "      <td>1</td>\n",
       "      <td>1</td>\n",
       "      <td>0.937451</td>\n",
       "    </tr>\n",
       "    <tr>\n",
       "      <th>54642</th>\n",
       "      <td>(Tradução do Google) Topo  (Original) Top</td>\n",
       "      <td>5.0</td>\n",
       "      <td>1</td>\n",
       "      <td>1</td>\n",
       "      <td>0.990116</td>\n",
       "    </tr>\n",
       "    <tr>\n",
       "      <th>13295</th>\n",
       "      <td>Custo x benefício e  condições de pagamento mu...</td>\n",
       "      <td>5.0</td>\n",
       "      <td>1</td>\n",
       "      <td>1</td>\n",
       "      <td>0.985410</td>\n",
       "    </tr>\n",
       "    <tr>\n",
       "      <th>7434</th>\n",
       "      <td>Atendimento nota 10, ao menos eu gostei.</td>\n",
       "      <td>5.0</td>\n",
       "      <td>1</td>\n",
       "      <td>1</td>\n",
       "      <td>0.957086</td>\n",
       "    </tr>\n",
       "    <tr>\n",
       "      <th>53211</th>\n",
       "      <td>Pedi informação ao representante Robert, da Sa...</td>\n",
       "      <td>5.0</td>\n",
       "      <td>1</td>\n",
       "      <td>1</td>\n",
       "      <td>0.994265</td>\n",
       "    </tr>\n",
       "    <tr>\n",
       "      <th>28675</th>\n",
       "      <td>Atendimento excelente, rapidez na entrega!</td>\n",
       "      <td>4.0</td>\n",
       "      <td>1</td>\n",
       "      <td>1</td>\n",
       "      <td>0.996653</td>\n",
       "    </tr>\n",
       "    <tr>\n",
       "      <th>41477</th>\n",
       "      <td>Atendimento péssimo</td>\n",
       "      <td>1.0</td>\n",
       "      <td>0</td>\n",
       "      <td>0</td>\n",
       "      <td>0.029050</td>\n",
       "    </tr>\n",
       "  </tbody>\n",
       "</table>\n",
       "</div>"
      ],
      "text/plain": [
       "                                                 caption  Actual_rating  \\\n",
       "41897  Fui até a loja para adquirir um aparelho de ce...            4.0   \n",
       "22874                                                Bom            5.0   \n",
       "30418                            Sempre acho algo bacana            5.0   \n",
       "27520                           Funcionários atenciosos.            5.0   \n",
       "54642          (Tradução do Google) Topo  (Original) Top            5.0   \n",
       "13295  Custo x benefício e  condições de pagamento mu...            5.0   \n",
       "7434            Atendimento nota 10, ao menos eu gostei.            5.0   \n",
       "53211  Pedi informação ao representante Robert, da Sa...            5.0   \n",
       "28675         Atendimento excelente, rapidez na entrega!            4.0   \n",
       "41477                                Atendimento péssimo            1.0   \n",
       "\n",
       "       Sentiment_rating  Predicted_sentiment  Predicted_probability  \n",
       "41897                 1                    1               0.948373  \n",
       "22874                 1                    1               0.970303  \n",
       "30418                 1                    1               0.994725  \n",
       "27520                 1                    1               0.937451  \n",
       "54642                 1                    1               0.990116  \n",
       "13295                 1                    1               0.985410  \n",
       "7434                  1                    1               0.957086  \n",
       "53211                 1                    1               0.994265  \n",
       "28675                 1                    1               0.996653  \n",
       "41477                 0                    0               0.029050  "
      ]
     },
     "execution_count": 52,
     "metadata": {},
     "output_type": "execute_result"
    }
   ],
   "source": [
    "predictions.head(10)"
   ]
  },
  {
   "cell_type": "code",
   "execution_count": 53,
   "metadata": {},
   "outputs": [
    {
     "data": {
      "text/plain": [
       "0.9308416715715127"
      ]
     },
     "execution_count": 53,
     "metadata": {},
     "output_type": "execute_result"
    }
   ],
   "source": [
    "accuracy_score(predictions['Sentiment_rating'], predictions['Predicted_sentiment'])"
   ]
  },
  {
   "cell_type": "code",
   "execution_count": 54,
   "metadata": {},
   "outputs": [
    {
     "data": {
      "text/html": [
       "<div>\n",
       "<style scoped>\n",
       "    .dataframe tbody tr th:only-of-type {\n",
       "        vertical-align: middle;\n",
       "    }\n",
       "\n",
       "    .dataframe tbody tr th {\n",
       "        vertical-align: top;\n",
       "    }\n",
       "\n",
       "    .dataframe thead th {\n",
       "        text-align: right;\n",
       "    }\n",
       "</style>\n",
       "<table border=\"1\" class=\"dataframe\">\n",
       "  <thead>\n",
       "    <tr style=\"text-align: right;\">\n",
       "      <th></th>\n",
       "      <th>caption</th>\n",
       "      <th>Actual_rating</th>\n",
       "      <th>Sentiment_rating</th>\n",
       "      <th>Predicted_sentiment</th>\n",
       "      <th>Predicted_probability</th>\n",
       "    </tr>\n",
       "  </thead>\n",
       "  <tbody>\n",
       "    <tr>\n",
       "      <th>45450</th>\n",
       "      <td>Já fui bem atendido anteriormente, mas na últi...</td>\n",
       "      <td>4.0</td>\n",
       "      <td>1</td>\n",
       "      <td>0</td>\n",
       "      <td>1.542245e-10</td>\n",
       "    </tr>\n",
       "    <tr>\n",
       "      <th>11091</th>\n",
       "      <td>Sou Cliente há pelo menos 20 anos,. Tive todos...</td>\n",
       "      <td>4.0</td>\n",
       "      <td>1</td>\n",
       "      <td>0</td>\n",
       "      <td>2.953802e-08</td>\n",
       "    </tr>\n",
       "    <tr>\n",
       "      <th>51437</th>\n",
       "      <td>Eu fui ver os preços, mais não comprei nada. N...</td>\n",
       "      <td>5.0</td>\n",
       "      <td>1</td>\n",
       "      <td>0</td>\n",
       "      <td>3.975776e-08</td>\n",
       "    </tr>\n",
       "  </tbody>\n",
       "</table>\n",
       "</div>"
      ],
      "text/plain": [
       "                                                 caption  Actual_rating  \\\n",
       "45450  Já fui bem atendido anteriormente, mas na últi...            4.0   \n",
       "11091  Sou Cliente há pelo menos 20 anos,. Tive todos...            4.0   \n",
       "51437  Eu fui ver os preços, mais não comprei nada. N...            5.0   \n",
       "\n",
       "       Sentiment_rating  Predicted_sentiment  Predicted_probability  \n",
       "45450                 1                    0           1.542245e-10  \n",
       "11091                 1                    0           2.953802e-08  \n",
       "51437                 1                    0           3.975776e-08  "
      ]
     },
     "execution_count": 54,
     "metadata": {},
     "output_type": "execute_result"
    }
   ],
   "source": [
    "# Singling out actual vs. predicted discrepancies\n",
    "\n",
    "predictions[\n",
    "    predictions['Predicted_sentiment'] != predictions['Sentiment_rating']\n",
    "].sort_values(by=[\"Predicted_probability\"]).head(3)"
   ]
  },
  {
   "cell_type": "code",
   "execution_count": 55,
   "metadata": {},
   "outputs": [
    {
     "data": {
      "text/plain": [
       "array(['Sou Cliente há pelo menos 20 anos,. Tive todos os meus celulares comprados na Casa Bahia (com excessão do Baby, do Peg & Fale e os da era analógica 😂). Como já conheço alguns vendedores das lojas da Lapa e Perus, até o ano passado ligava antes para conferir se a loja tinha o meu produto e ía até lá comprar, já que no horário que eu saio do trabalho, a loja já está quase fechando. Este ano não foi diferente. Já tinha vendido o celular antigo e precisava comprar outro. Liguei seguidamente por 3 dias nas duas lojas e nada de atenderem. Por fim, no meio do trajeto prá casa passei na loja da Praça Ramos, mas lá não tinha o meu aparelho. Comentei com o  vendedor que estava tentando ligar e ele disse prá esquecer, porque tem loja que não atende. Bom, eu entendo que se não atende é porque não quer tirar dúvidas do cliente. Se é assim, então não quer vender.',\n",
       "       4.0, 1, 0, 2.9538022920135312e-08], dtype=object)"
      ]
     },
     "execution_count": 55,
     "metadata": {},
     "output_type": "execute_result"
    }
   ],
   "source": [
    "predictions.loc[11091].values"
   ]
  },
  {
   "cell_type": "markdown",
   "metadata": {},
   "source": [
    "#### Improved model with n-grams where 1 < n < 4 and stopwords"
   ]
  },
  {
   "cell_type": "code",
   "execution_count": 56,
   "metadata": {},
   "outputs": [],
   "source": [
    "# Changes with respect to the previous code\n",
    "# 1. Increasing the n-grams from just having 1-gram to (1-gram, 2-gram,3-gram and 4-gram)\n",
    "# 2. Including the stopwords in the bag of words features\n",
    "bow_counts = CountVectorizer(\n",
    "    tokenizer=word_tokenize,\n",
    "    ngram_range=(1,4)\n",
    ")\n",
    "X_train_bow = bow_counts.fit_transform(reviews_train.pp_caption)\n",
    "X_test_bow = bow_counts.transform(reviews_test.pp_caption)"
   ]
  },
  {
   "cell_type": "code",
   "execution_count": 57,
   "metadata": {},
   "outputs": [
    {
     "name": "stdout",
     "output_type": "stream",
     "text": [
      "F1 score:  0.9575750197820926\n",
      "Accuracy:  93.16264469295665\n"
     ]
    }
   ],
   "source": [
    "# Training the model \n",
    "lr_model_all_new = LogisticRegression(C=0.9, solver=\"liblinear\")\n",
    "lr_model_all_new.fit(X_train_bow, y_train_bow)\n",
    "# Predicting the output\n",
    "test_pred_lr_prob_new = lr_model_all_new.predict_proba(X_test_bow)\n",
    "test_pred_lr_all_new = lr_model_all_new.predict(X_test_bow)\n",
    "print(\"F1 score: \", f1_score(y_test_bow, test_pred_lr_all_new))\n",
    "print(\"Accuracy: \", accuracy_score(y_test_bow, test_pred_lr_all_new) * 100)"
   ]
  },
  {
   "cell_type": "markdown",
   "metadata": {},
   "source": [
    "Accuracy increased only slightly from 93.08% to 93.16%."
   ]
  },
  {
   "cell_type": "markdown",
   "metadata": {},
   "source": [
    "#### Listing best and worst ranked keywords"
   ]
  },
  {
   "cell_type": "code",
   "execution_count": 58,
   "metadata": {},
   "outputs": [
    {
     "data": {
      "text/html": [
       "<div>\n",
       "<style scoped>\n",
       "    .dataframe tbody tr th:only-of-type {\n",
       "        vertical-align: middle;\n",
       "    }\n",
       "\n",
       "    .dataframe tbody tr th {\n",
       "        vertical-align: top;\n",
       "    }\n",
       "\n",
       "    .dataframe thead th {\n",
       "        text-align: right;\n",
       "    }\n",
       "</style>\n",
       "<table border=\"1\" class=\"dataframe\">\n",
       "  <thead>\n",
       "    <tr style=\"text-align: right;\">\n",
       "      <th></th>\n",
       "      <th>words</th>\n",
       "      <th>weights</th>\n",
       "    </tr>\n",
       "  </thead>\n",
       "  <tbody>\n",
       "    <tr>\n",
       "      <th>473294</th>\n",
       "      <td>otimo</td>\n",
       "      <td>2.947844</td>\n",
       "    </tr>\n",
       "    <tr>\n",
       "      <th>298205</th>\n",
       "      <td>excelente</td>\n",
       "      <td>2.895841</td>\n",
       "    </tr>\n",
       "    <tr>\n",
       "      <th>472057</th>\n",
       "      <td>otima</td>\n",
       "      <td>2.700882</td>\n",
       "    </tr>\n",
       "    <tr>\n",
       "      <th>80483</th>\n",
       "      <td>adoro</td>\n",
       "      <td>2.362576</td>\n",
       "    </tr>\n",
       "    <tr>\n",
       "      <th>475073</th>\n",
       "      <td>otimos</td>\n",
       "      <td>2.251091</td>\n",
       "    </tr>\n",
       "    <tr>\n",
       "      <th>562401</th>\n",
       "      <td>rapido</td>\n",
       "      <td>2.207546</td>\n",
       "    </tr>\n",
       "    <tr>\n",
       "      <th>89792</th>\n",
       "      <td>amei</td>\n",
       "      <td>2.179035</td>\n",
       "    </tr>\n",
       "    <tr>\n",
       "      <th>137351</th>\n",
       "      <td>bons</td>\n",
       "      <td>2.159249</td>\n",
       "    </tr>\n",
       "    <tr>\n",
       "      <th>359775</th>\n",
       "      <td>legal</td>\n",
       "      <td>1.897025</td>\n",
       "    </tr>\n",
       "    <tr>\n",
       "      <th>106353</th>\n",
       "      <td>atenciosos</td>\n",
       "      <td>1.871666</td>\n",
       "    </tr>\n",
       "    <tr>\n",
       "      <th>628740</th>\n",
       "      <td>top</td>\n",
       "      <td>1.802329</td>\n",
       "    </tr>\n",
       "    <tr>\n",
       "      <th>386918</th>\n",
       "      <td>maravilhoso</td>\n",
       "      <td>1.767180</td>\n",
       "    </tr>\n",
       "    <tr>\n",
       "      <th>639603</th>\n",
       "      <td>um pouco</td>\n",
       "      <td>1.760073</td>\n",
       "    </tr>\n",
       "    <tr>\n",
       "      <th>90237</th>\n",
       "      <td>amo</td>\n",
       "      <td>1.718124</td>\n",
       "    </tr>\n",
       "    <tr>\n",
       "      <th>133101</th>\n",
       "      <td>bom</td>\n",
       "      <td>1.697086</td>\n",
       "    </tr>\n",
       "  </tbody>\n",
       "</table>\n",
       "</div>"
      ],
      "text/plain": [
       "              words   weights\n",
       "473294        otimo  2.947844\n",
       "298205    excelente  2.895841\n",
       "472057        otima  2.700882\n",
       "80483         adoro  2.362576\n",
       "475073       otimos  2.251091\n",
       "562401       rapido  2.207546\n",
       "89792          amei  2.179035\n",
       "137351         bons  2.159249\n",
       "359775        legal  1.897025\n",
       "106353   atenciosos  1.871666\n",
       "628740          top  1.802329\n",
       "386918  maravilhoso  1.767180\n",
       "639603     um pouco  1.760073\n",
       "90237           amo  1.718124\n",
       "133101          bom  1.697086"
      ]
     },
     "execution_count": 58,
     "metadata": {},
     "output_type": "execute_result"
    }
   ],
   "source": [
    "lr_weights = pd.DataFrame(list(\n",
    "    zip(\n",
    "        bow_counts.get_feature_names(),\n",
    "        lr_model_all_new.coef_[0])\n",
    "    ),\n",
    "    columns=['words','weights']\n",
    ")\n",
    "lr_weights.sort_values(['weights'],ascending = False)[:15]"
   ]
  },
  {
   "cell_type": "code",
   "execution_count": 59,
   "metadata": {},
   "outputs": [
    {
     "data": {
      "text/html": [
       "<div>\n",
       "<style scoped>\n",
       "    .dataframe tbody tr th:only-of-type {\n",
       "        vertical-align: middle;\n",
       "    }\n",
       "\n",
       "    .dataframe tbody tr th {\n",
       "        vertical-align: top;\n",
       "    }\n",
       "\n",
       "    .dataframe thead th {\n",
       "        text-align: right;\n",
       "    }\n",
       "</style>\n",
       "<table border=\"1\" class=\"dataframe\">\n",
       "  <thead>\n",
       "    <tr style=\"text-align: right;\">\n",
       "      <th></th>\n",
       "      <th>words</th>\n",
       "      <th>weights</th>\n",
       "    </tr>\n",
       "  </thead>\n",
       "  <tbody>\n",
       "    <tr>\n",
       "      <th>515059</th>\n",
       "      <td>poucas</td>\n",
       "      <td>-2.004403</td>\n",
       "    </tr>\n",
       "    <tr>\n",
       "      <th>430476</th>\n",
       "      <td>nao gosto</td>\n",
       "      <td>-2.230299</td>\n",
       "    </tr>\n",
       "    <tr>\n",
       "      <th>145385</th>\n",
       "      <td>caro</td>\n",
       "      <td>-2.237878</td>\n",
       "    </tr>\n",
       "    <tr>\n",
       "      <th>449603</th>\n",
       "      <td>nunca</td>\n",
       "      <td>-2.292535</td>\n",
       "    </tr>\n",
       "    <tr>\n",
       "      <th>504546</th>\n",
       "      <td>pior</td>\n",
       "      <td>-2.297368</td>\n",
       "    </tr>\n",
       "    <tr>\n",
       "      <th>514901</th>\n",
       "      <td>pouca</td>\n",
       "      <td>-2.469240</td>\n",
       "    </tr>\n",
       "    <tr>\n",
       "      <th>430304</th>\n",
       "      <td>nao gostei</td>\n",
       "      <td>-2.552915</td>\n",
       "    </tr>\n",
       "    <tr>\n",
       "      <th>420697</th>\n",
       "      <td>n</td>\n",
       "      <td>-2.782421</td>\n",
       "    </tr>\n",
       "    <tr>\n",
       "      <th>426058</th>\n",
       "      <td>nao</td>\n",
       "      <td>-2.819343</td>\n",
       "    </tr>\n",
       "    <tr>\n",
       "      <th>384400</th>\n",
       "      <td>mal</td>\n",
       "      <td>-3.032929</td>\n",
       "    </tr>\n",
       "    <tr>\n",
       "      <th>364168</th>\n",
       "      <td>lixo</td>\n",
       "      <td>-3.517765</td>\n",
       "    </tr>\n",
       "    <tr>\n",
       "      <th>340539</th>\n",
       "      <td>horrivel</td>\n",
       "      <td>-3.533190</td>\n",
       "    </tr>\n",
       "    <tr>\n",
       "      <th>574875</th>\n",
       "      <td>ruim</td>\n",
       "      <td>-3.655586</td>\n",
       "    </tr>\n",
       "    <tr>\n",
       "      <th>500816</th>\n",
       "      <td>pessima</td>\n",
       "      <td>-4.273137</td>\n",
       "    </tr>\n",
       "    <tr>\n",
       "      <th>501350</th>\n",
       "      <td>pessimo</td>\n",
       "      <td>-4.439397</td>\n",
       "    </tr>\n",
       "  </tbody>\n",
       "</table>\n",
       "</div>"
      ],
      "text/plain": [
       "             words   weights\n",
       "515059      poucas -2.004403\n",
       "430476   nao gosto -2.230299\n",
       "145385        caro -2.237878\n",
       "449603       nunca -2.292535\n",
       "504546        pior -2.297368\n",
       "514901       pouca -2.469240\n",
       "430304  nao gostei -2.552915\n",
       "420697           n -2.782421\n",
       "426058         nao -2.819343\n",
       "384400         mal -3.032929\n",
       "364168        lixo -3.517765\n",
       "340539    horrivel -3.533190\n",
       "574875        ruim -3.655586\n",
       "500816     pessima -4.273137\n",
       "501350     pessimo -4.439397"
      ]
     },
     "execution_count": 59,
     "metadata": {},
     "output_type": "execute_result"
    }
   ],
   "source": [
    "lr_weights.sort_values(['weights'],ascending = False)[-15:]"
   ]
  },
  {
   "cell_type": "markdown",
   "metadata": {},
   "source": [
    "### Random Forest Model"
   ]
  },
  {
   "cell_type": "code",
   "execution_count": 60,
   "metadata": {
    "scrolled": true
   },
   "outputs": [
    {
     "name": "stderr",
     "output_type": "stream",
     "text": [
      "[Parallel(n_jobs=-1)]: Using backend ThreadingBackend with 4 concurrent workers.\n"
     ]
    },
    {
     "name": "stdout",
     "output_type": "stream",
     "text": [
      "building tree 1 of 100building tree 2 of 100\n",
      "building tree 3 of 100building tree 4 of 100\n",
      "\n",
      "\n",
      "building tree 5 of 100\n",
      "building tree 6 of 100\n",
      "building tree 7 of 100\n",
      "building tree 8 of 100\n",
      "building tree 9 of 100\n",
      "building tree 10 of 100\n",
      "building tree 11 of 100\n",
      "building tree 12 of 100\n",
      "building tree 13 of 100\n",
      "building tree 14 of 100\n",
      "building tree 15 of 100\n",
      "building tree 16 of 100\n",
      "building tree 17 of 100\n",
      "building tree 18 of 100\n",
      "building tree 19 of 100\n",
      "building tree 20 of 100\n",
      "building tree 21 of 100\n",
      "building tree 22 of 100\n",
      "building tree 23 of 100\n",
      "building tree 24 of 100\n",
      "building tree 25 of 100\n",
      "building tree 26 of 100\n",
      "building tree 27 of 100\n"
     ]
    },
    {
     "name": "stderr",
     "output_type": "stream",
     "text": [
      "[Parallel(n_jobs=-1)]: Done  24 tasks      | elapsed:  7.1min\n"
     ]
    },
    {
     "name": "stdout",
     "output_type": "stream",
     "text": [
      "building tree 28 of 100\n",
      "building tree 29 of 100\n",
      "building tree 30 of 100\n",
      "building tree 31 of 100\n",
      "building tree 32 of 100\n",
      "building tree 33 of 100\n",
      "building tree 34 of 100\n",
      "building tree 35 of 100\n",
      "building tree 36 of 100\n",
      "building tree 37 of 100\n",
      "building tree 38 of 100\n",
      "building tree 39 of 100\n",
      "building tree 40 of 100\n",
      "building tree 41 of 100\n",
      "building tree 42 of 100\n",
      "building tree 43 of 100\n",
      "building tree 44 of 100\n",
      "building tree 45 of 100\n",
      "building tree 46 of 100\n",
      "building tree 47 of 100\n",
      "building tree 48 of 100\n",
      "building tree 49 of 100\n",
      "building tree 50 of 100\n",
      "building tree 51 of 100\n",
      "building tree 52 of 100\n",
      "building tree 53 of 100\n",
      "building tree 54 of 100\n",
      "building tree 55 of 100\n",
      "building tree 56 of 100\n",
      "building tree 57 of 100\n",
      "building tree 58 of 100\n",
      "building tree 59 of 100\n",
      "building tree 60 of 100\n",
      "building tree 61 of 100\n",
      "building tree 62 of 100\n",
      "building tree 63 of 100\n",
      "building tree 64 of 100\n",
      "building tree 65 of 100\n",
      "building tree 66 of 100\n",
      "building tree 67 of 100\n",
      "building tree 68 of 100\n",
      "building tree 69 of 100\n",
      "building tree 70 of 100\n",
      "building tree 71 of 100\n",
      "building tree 72 of 100\n",
      "building tree 73 of 100\n",
      "building tree 74 of 100\n",
      "building tree 75 of 100\n",
      "building tree 76 of 100\n",
      "building tree 77 of 100\n",
      "building tree 78 of 100\n",
      "building tree 79 of 100\n",
      "building tree 80 of 100\n",
      "building tree 81 of 100\n",
      "building tree 82 of 100\n",
      "building tree 83 of 100\n",
      "building tree 84 of 100\n",
      "building tree 85 of 100\n",
      "building tree 86 of 100\n",
      "building tree 87 of 100\n",
      "building tree 88 of 100\n",
      "building tree 89 of 100\n",
      "building tree 90 of 100\n",
      "building tree 91 of 100\n",
      "building tree 92 of 100\n",
      "building tree 93 of 100\n",
      "building tree 94 of 100\n",
      "building tree 95 of 100\n",
      "building tree 96 of 100\n",
      "building tree 97 of 100\n",
      "building tree 98 of 100\n",
      "building tree 99 of 100\n",
      "building tree 100 of 100\n"
     ]
    },
    {
     "name": "stderr",
     "output_type": "stream",
     "text": [
      "[Parallel(n_jobs=-1)]: Done 100 out of 100 | elapsed: 24.2min finished\n",
      "[Parallel(n_jobs=4)]: Using backend ThreadingBackend with 4 concurrent workers.\n",
      "[Parallel(n_jobs=4)]: Done  24 tasks      | elapsed:    1.5s\n",
      "[Parallel(n_jobs=4)]: Done 100 out of 100 | elapsed:    6.4s finished\n",
      "[Parallel(n_jobs=4)]: Using backend ThreadingBackend with 4 concurrent workers.\n",
      "[Parallel(n_jobs=4)]: Done  24 tasks      | elapsed:    1.4s\n",
      "[Parallel(n_jobs=4)]: Done 100 out of 100 | elapsed:    4.4s finished\n"
     ]
    }
   ],
   "source": [
    "rf_model_all = RandomForestClassifier(n_estimators=100, verbose=3, n_jobs=-1)\n",
    "# Training the data\n",
    "rf_model_all.fit(X_train_bow, y_train_bow)\n",
    "# Generating predictions\n",
    "test_pred_lr_prob = rf_model_all.predict_proba(X_test_bow)\n",
    "test_pred_lr_all = rf_model_all.predict(X_test_bow)"
   ]
  },
  {
   "cell_type": "code",
   "execution_count": 61,
   "metadata": {},
   "outputs": [
    {
     "name": "stdout",
     "output_type": "stream",
     "text": [
      "F1 score:  0.9484770510442224\n",
      "Accuracy:  91.55385520894644\n"
     ]
    }
   ],
   "source": [
    "print(\"F1 score: \", f1_score(y_test_bow,test_pred_lr_all))\n",
    "print(\"Accuracy: \", accuracy_score(y_test_bow,test_pred_lr_all)* 100)"
   ]
  },
  {
   "cell_type": "markdown",
   "metadata": {},
   "source": [
    "Accuracy with Random Forests has decreased."
   ]
  },
  {
   "cell_type": "code",
   "execution_count": 62,
   "metadata": {},
   "outputs": [],
   "source": [
    "feature_importances = pd.DataFrame(\n",
    "    rf_model_all.feature_importances_,\n",
    "    index=bow_counts.get_feature_names(),\n",
    "    columns=['importance']\n",
    ")"
   ]
  },
  {
   "cell_type": "code",
   "execution_count": 63,
   "metadata": {},
   "outputs": [
    {
     "data": {
      "text/html": [
       "<div>\n",
       "<style scoped>\n",
       "    .dataframe tbody tr th:only-of-type {\n",
       "        vertical-align: middle;\n",
       "    }\n",
       "\n",
       "    .dataframe tbody tr th {\n",
       "        vertical-align: top;\n",
       "    }\n",
       "\n",
       "    .dataframe thead th {\n",
       "        text-align: right;\n",
       "    }\n",
       "</style>\n",
       "<table border=\"1\" class=\"dataframe\">\n",
       "  <thead>\n",
       "    <tr style=\"text-align: right;\">\n",
       "      <th></th>\n",
       "      <th>importance</th>\n",
       "    </tr>\n",
       "  </thead>\n",
       "  <tbody>\n",
       "    <tr>\n",
       "      <th>pessimo</th>\n",
       "      <td>0.045239</td>\n",
       "    </tr>\n",
       "    <tr>\n",
       "      <th>nao</th>\n",
       "      <td>0.025915</td>\n",
       "    </tr>\n",
       "    <tr>\n",
       "      <th>ruim</th>\n",
       "      <td>0.018331</td>\n",
       "    </tr>\n",
       "    <tr>\n",
       "      <th>pessimo atendimento</th>\n",
       "      <td>0.017608</td>\n",
       "    </tr>\n",
       "    <tr>\n",
       "      <th>pessima</th>\n",
       "      <td>0.010839</td>\n",
       "    </tr>\n",
       "    <tr>\n",
       "      <th>bom</th>\n",
       "      <td>0.008392</td>\n",
       "    </tr>\n",
       "    <tr>\n",
       "      <th>caro</th>\n",
       "      <td>0.007460</td>\n",
       "    </tr>\n",
       "    <tr>\n",
       "      <th>mal</th>\n",
       "      <td>0.007199</td>\n",
       "    </tr>\n",
       "    <tr>\n",
       "      <th>horrivel</th>\n",
       "      <td>0.007026</td>\n",
       "    </tr>\n",
       "    <tr>\n",
       "      <th>atendimento pessimo</th>\n",
       "      <td>0.005143</td>\n",
       "    </tr>\n",
       "  </tbody>\n",
       "</table>\n",
       "</div>"
      ],
      "text/plain": [
       "                     importance\n",
       "pessimo                0.045239\n",
       "nao                    0.025915\n",
       "ruim                   0.018331\n",
       "pessimo atendimento    0.017608\n",
       "pessima                0.010839\n",
       "bom                    0.008392\n",
       "caro                   0.007460\n",
       "mal                    0.007199\n",
       "horrivel               0.007026\n",
       "atendimento pessimo    0.005143"
      ]
     },
     "execution_count": 63,
     "metadata": {},
     "output_type": "execute_result"
    }
   ],
   "source": [
    "feature_importances.sort_values(['importance'], ascending=False)[:10]"
   ]
  },
  {
   "cell_type": "markdown",
   "metadata": {},
   "source": [
    "### TF-IDF Model"
   ]
  },
  {
   "cell_type": "code",
   "execution_count": 64,
   "metadata": {},
   "outputs": [],
   "source": [
    "tfidf_counts = TfidfVectorizer(\n",
    "    tokenizer=word_tokenize,\n",
    "    stop_words=noise_words,\n",
    "    ngram_range=(1,1)\n",
    ")\n",
    "\n",
    "X_train_tfidf = tfidf_counts.fit_transform(reviews_train.pp_caption)\n",
    "X_test_tfidf = tfidf_counts.transform(reviews_test.pp_caption)"
   ]
  },
  {
   "cell_type": "code",
   "execution_count": 65,
   "metadata": {},
   "outputs": [
    {
     "name": "stdout",
     "output_type": "stream",
     "text": [
      "F1 score:  0.9543548289065824\n",
      "Accuracy:  92.63292132627036\n"
     ]
    }
   ],
   "source": [
    "# Create the classifier\n",
    "lr_model_tf_idf = LogisticRegression(solver=\"liblinear\")\n",
    "\n",
    "# Train the classifier\n",
    "lr_model_tf_idf.fit(X_train_tfidf, y_train_bow)\n",
    "\n",
    "# Predict the results\n",
    "test_pred_lr_prob = lr_model_tf_idf.predict_proba(X_test_tfidf)\n",
    "test_pred_lr_all = lr_model_tf_idf.predict(X_test_tfidf)\n",
    "\n",
    "## Evaluating the model\n",
    "print(\"F1 score: \",f1_score(y_test_bow, test_pred_lr_all))\n",
    "print(\"Accuracy: \", accuracy_score(y_test_bow, test_pred_lr_all) * 100)"
   ]
  },
  {
   "cell_type": "code",
   "execution_count": 66,
   "metadata": {},
   "outputs": [],
   "source": [
    "# Changes: Removing stop words and including 1-4 grams in the tf-idf data\n",
    "tfidf_counts = TfidfVectorizer(\n",
    "    tokenizer=word_tokenize,\n",
    "    ngram_range=(1,4)\n",
    ")\n",
    "X_train_tfidf = tfidf_counts.fit_transform(reviews_train.pp_caption)\n",
    "X_test_tfidf = tfidf_counts.transform(reviews_test.pp_caption)"
   ]
  },
  {
   "cell_type": "code",
   "execution_count": 67,
   "metadata": {},
   "outputs": [
    {
     "name": "stdout",
     "output_type": "stream",
     "text": [
      "F1 score:  0.9563224087726907\n",
      "Accuracy:  93.08416715715127\n"
     ]
    }
   ],
   "source": [
    "# Setting up the model class\n",
    "lr_model_tf_idf_new = LogisticRegression(solver=\"liblinear\", penalty='l1', C=10)\n",
    "# Training the model \n",
    "lr_model_tf_idf_new.fit(X_train_tfidf, y_train_bow)\n",
    "# Prediciting the results\n",
    "test_pred_lr_prob = lr_model_tf_idf_new.predict_proba(X_test_tfidf)\n",
    "test_pred_lr_all = lr_model_tf_idf_new.predict(X_test_tfidf)\n",
    "# valuating the model`\n",
    "print(\"F1 score: \",f1_score(y_test_bow, test_pred_lr_all))\n",
    "print(\"Accuracy: \", accuracy_score(y_test_bow, test_pred_lr_all)*100)"
   ]
  },
  {
   "cell_type": "code",
   "execution_count": 68,
   "metadata": {},
   "outputs": [
    {
     "data": {
      "text/html": [
       "<div>\n",
       "<style scoped>\n",
       "    .dataframe tbody tr th:only-of-type {\n",
       "        vertical-align: middle;\n",
       "    }\n",
       "\n",
       "    .dataframe tbody tr th {\n",
       "        vertical-align: top;\n",
       "    }\n",
       "\n",
       "    .dataframe thead th {\n",
       "        text-align: right;\n",
       "    }\n",
       "</style>\n",
       "<table border=\"1\" class=\"dataframe\">\n",
       "  <thead>\n",
       "    <tr style=\"text-align: right;\">\n",
       "      <th></th>\n",
       "      <th>words</th>\n",
       "      <th>weights</th>\n",
       "    </tr>\n",
       "  </thead>\n",
       "  <tbody>\n",
       "    <tr>\n",
       "      <th>80483</th>\n",
       "      <td>adoro</td>\n",
       "      <td>32.035063</td>\n",
       "    </tr>\n",
       "    <tr>\n",
       "      <th>465700</th>\n",
       "      <td>opcoes , precos</td>\n",
       "      <td>30.481594</td>\n",
       "    </tr>\n",
       "    <tr>\n",
       "      <th>639603</th>\n",
       "      <td>um pouco</td>\n",
       "      <td>29.957099</td>\n",
       "    </tr>\n",
       "    <tr>\n",
       "      <th>323558</th>\n",
       "      <td>fui muito bem</td>\n",
       "      <td>29.872370</td>\n",
       "    </tr>\n",
       "    <tr>\n",
       "      <th>562401</th>\n",
       "      <td>rapido</td>\n",
       "      <td>29.649156</td>\n",
       "    </tr>\n",
       "    <tr>\n",
       "      <th>473654</th>\n",
       "      <td>otimo atendimento ,</td>\n",
       "      <td>28.034023</td>\n",
       "    </tr>\n",
       "    <tr>\n",
       "      <th>324744</th>\n",
       "      <td>funcionaria de</td>\n",
       "      <td>27.775685</td>\n",
       "    </tr>\n",
       "    <tr>\n",
       "      <th>450180</th>\n",
       "      <td>nunca tive</td>\n",
       "      <td>26.614775</td>\n",
       "    </tr>\n",
       "    <tr>\n",
       "      <th>600979</th>\n",
       "      <td>so nao</td>\n",
       "      <td>25.032008</td>\n",
       "    </tr>\n",
       "    <tr>\n",
       "      <th>346016</th>\n",
       "      <td>infelizmente hoje</td>\n",
       "      <td>24.037468</td>\n",
       "    </tr>\n",
       "  </tbody>\n",
       "</table>\n",
       "</div>"
      ],
      "text/plain": [
       "                      words    weights\n",
       "80483                 adoro  32.035063\n",
       "465700      opcoes , precos  30.481594\n",
       "639603             um pouco  29.957099\n",
       "323558        fui muito bem  29.872370\n",
       "562401               rapido  29.649156\n",
       "473654  otimo atendimento ,  28.034023\n",
       "324744       funcionaria de  27.775685\n",
       "450180           nunca tive  26.614775\n",
       "600979               so nao  25.032008\n",
       "346016    infelizmente hoje  24.037468"
      ]
     },
     "execution_count": 68,
     "metadata": {},
     "output_type": "execute_result"
    }
   ],
   "source": [
    "lr_weights = pd.DataFrame(\n",
    "    list(\n",
    "        zip(tfidf_counts.get_feature_names(), lr_model_tf_idf_new.coef_[0])\n",
    "    ),\n",
    "    columns=['words','weights']\n",
    ")\n",
    "\n",
    "lr_weights.sort_values(['weights'],ascending = False)[:10]"
   ]
  },
  {
   "cell_type": "code",
   "execution_count": 69,
   "metadata": {},
   "outputs": [
    {
     "data": {
      "text/html": [
       "<div>\n",
       "<style scoped>\n",
       "    .dataframe tbody tr th:only-of-type {\n",
       "        vertical-align: middle;\n",
       "    }\n",
       "\n",
       "    .dataframe tbody tr th {\n",
       "        vertical-align: top;\n",
       "    }\n",
       "\n",
       "    .dataframe thead th {\n",
       "        text-align: right;\n",
       "    }\n",
       "</style>\n",
       "<table border=\"1\" class=\"dataframe\">\n",
       "  <thead>\n",
       "    <tr style=\"text-align: right;\">\n",
       "      <th></th>\n",
       "      <th>words</th>\n",
       "      <th>weights</th>\n",
       "    </tr>\n",
       "  </thead>\n",
       "  <tbody>\n",
       "    <tr>\n",
       "      <th>220645</th>\n",
       "      <td>desorganizada</td>\n",
       "      <td>-26.965804</td>\n",
       "    </tr>\n",
       "    <tr>\n",
       "      <th>426058</th>\n",
       "      <td>nao</td>\n",
       "      <td>-27.058790</td>\n",
       "    </tr>\n",
       "    <tr>\n",
       "      <th>449603</th>\n",
       "      <td>nunca</td>\n",
       "      <td>-27.341239</td>\n",
       "    </tr>\n",
       "    <tr>\n",
       "      <th>358805</th>\n",
       "      <td>lamentavel</td>\n",
       "      <td>-27.679463</td>\n",
       "    </tr>\n",
       "    <tr>\n",
       "      <th>672863</th>\n",
       "      <td>zero</td>\n",
       "      <td>-27.820396</td>\n",
       "    </tr>\n",
       "    <tr>\n",
       "      <th>501427</th>\n",
       "      <td>pessimo ,</td>\n",
       "      <td>-31.335742</td>\n",
       "    </tr>\n",
       "    <tr>\n",
       "      <th>384400</th>\n",
       "      <td>mal</td>\n",
       "      <td>-32.779542</td>\n",
       "    </tr>\n",
       "    <tr>\n",
       "      <th>504546</th>\n",
       "      <td>pior</td>\n",
       "      <td>-37.242329</td>\n",
       "    </tr>\n",
       "    <tr>\n",
       "      <th>501875</th>\n",
       "      <td>pessimo atendimento ,</td>\n",
       "      <td>-40.003836</td>\n",
       "    </tr>\n",
       "    <tr>\n",
       "      <th>364168</th>\n",
       "      <td>lixo</td>\n",
       "      <td>-46.534486</td>\n",
       "    </tr>\n",
       "  </tbody>\n",
       "</table>\n",
       "</div>"
      ],
      "text/plain": [
       "                        words    weights\n",
       "220645          desorganizada -26.965804\n",
       "426058                    nao -27.058790\n",
       "449603                  nunca -27.341239\n",
       "358805             lamentavel -27.679463\n",
       "672863                   zero -27.820396\n",
       "501427              pessimo , -31.335742\n",
       "384400                    mal -32.779542\n",
       "504546                   pior -37.242329\n",
       "501875  pessimo atendimento , -40.003836\n",
       "364168                   lixo -46.534486"
      ]
     },
     "execution_count": 69,
     "metadata": {},
     "output_type": "execute_result"
    }
   ],
   "source": [
    "lr_weights.sort_values(['weights'],ascending = False)[-10:]"
   ]
  },
  {
   "cell_type": "markdown",
   "metadata": {},
   "source": [
    "# Saving prediction models"
   ]
  },
  {
   "cell_type": "code",
   "execution_count": 70,
   "metadata": {},
   "outputs": [],
   "source": [
    "import pickle"
   ]
  },
  {
   "cell_type": "code",
   "execution_count": 71,
   "metadata": {},
   "outputs": [],
   "source": [
    "#Saving Logistic Regression Model\n",
    "filename = 'logistic_regression.sav'\n",
    "pickle.dump(lr_model_all, open(filename, 'wb'))"
   ]
  },
  {
   "cell_type": "code",
   "execution_count": 72,
   "metadata": {},
   "outputs": [],
   "source": [
    "#Saving Logistic Regression n-grams Model\n",
    "filename = 'logistic_regression_n-grams.sav'\n",
    "pickle.dump(lr_model_all_new, open(filename, 'wb'))"
   ]
  },
  {
   "cell_type": "code",
   "execution_count": 73,
   "metadata": {},
   "outputs": [],
   "source": [
    "#Saving Logistic Regression n-grams Model\n",
    "filename = 'random_forest.sav'\n",
    "pickle.dump(rf_model_all, open(filename, 'wb'))"
   ]
  },
  {
   "cell_type": "code",
   "execution_count": 74,
   "metadata": {},
   "outputs": [],
   "source": [
    "#Saving Logistic Regression n-grams Model\n",
    "filename = 'tf_idf.sav'\n",
    "pickle.dump(lr_model_tf_idf, open(filename, 'wb'))"
   ]
  },
  {
   "cell_type": "markdown",
   "metadata": {},
   "source": [
    "# Conclusions"
   ]
  },
  {
   "cell_type": "markdown",
   "metadata": {},
   "source": [
    "Logistic Regression with 1-4 n-grams has performed the best @ 93,16% accuracy."
   ]
  }
 ],
 "metadata": {
  "kernelspec": {
   "display_name": "Python 3",
   "language": "python",
   "name": "python3"
  },
  "language_info": {
   "codemirror_mode": {
    "name": "ipython",
    "version": 3
   },
   "file_extension": ".py",
   "mimetype": "text/x-python",
   "name": "python",
   "nbconvert_exporter": "python",
   "pygments_lexer": "ipython3",
   "version": "3.7.6"
  }
 },
 "nbformat": 4,
 "nbformat_minor": 4
}
